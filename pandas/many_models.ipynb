{
 "cells": [
  {
   "cell_type": "code",
   "execution_count": 20,
   "metadata": {},
   "outputs": [],
   "source": [
    "import pandas as pd\n",
    "import statsmodels.api as sm\n",
    "import numpy as np\n",
    "import matplotlib.pyplot as plt"
   ]
  },
  {
   "cell_type": "code",
   "execution_count": 2,
   "metadata": {},
   "outputs": [],
   "source": [
    "df = pd.read_csv(\"data/my_gm.csv\")"
   ]
  },
  {
   "cell_type": "code",
   "execution_count": 3,
   "metadata": {},
   "outputs": [
    {
     "name": "stderr",
     "output_type": "stream",
     "text": [
      "/opt/anaconda3/lib/python3.7/site-packages/numpy/core/fromnumeric.py:2495: FutureWarning: Method .ptp is deprecated and will be removed in a future version. Use numpy.ptp instead.\n",
      "  return ptp(axis=axis, out=out, **kwargs)\n"
     ]
    },
    {
     "data": {
      "text/plain": "<statsmodels.regression.linear_model.RegressionResultsWrapper at 0x7fc0c59e56d0>"
     },
     "execution_count": 3,
     "metadata": {},
     "output_type": "execute_result"
    }
   ],
   "source": [
    "def new_ols(df):\n",
    "    matrix = df['gdpPercap']\n",
    "    model_matrix = sm.add_constant(matrix)\n",
    "    y = df['lifeExp']\n",
    "    model = sm.OLS(y, model_matrix)\n",
    "    results = model.fit()\n",
    "    return results\n",
    "    \n",
    "new_ols(df)"
   ]
  },
  {
   "cell_type": "code",
   "execution_count": 69,
   "metadata": {},
   "outputs": [
    {
     "name": "stderr",
     "output_type": "stream",
     "text": [
      "/opt/anaconda3/lib/python3.7/site-packages/numpy/core/fromnumeric.py:2495: FutureWarning: Method .ptp is deprecated and will be removed in a future version. Use numpy.ptp instead.\n",
      "  return ptp(axis=axis, out=out, **kwargs)\n"
     ]
    },
    {
     "data": {
      "text/html": "<div>\n<style scoped>\n    .dataframe tbody tr th:only-of-type {\n        vertical-align: middle;\n    }\n\n    .dataframe tbody tr th {\n        vertical-align: top;\n    }\n\n    .dataframe thead th {\n        text-align: right;\n    }\n</style>\n<table border=\"1\" class=\"dataframe\">\n  <thead>\n    <tr style=\"text-align: right;\">\n      <th></th>\n      <th>slope</th>\n    </tr>\n  </thead>\n  <tbody>\n    <tr>\n      <td>const</td>\n      <td>53.955561</td>\n    </tr>\n    <tr>\n      <td>gdpPercap</td>\n      <td>0.000765</td>\n    </tr>\n  </tbody>\n</table>\n</div>",
      "text/plain": "               slope\nconst      53.955561\ngdpPercap   0.000765"
     },
     "execution_count": 69,
     "metadata": {},
     "output_type": "execute_result"
    }
   ],
   "source": [
    "def new_intercept(df):\n",
    "    matrix = df['gdpPercap']\n",
    "    model_matrix = sm.add_constant(matrix)\n",
    "    y = df['lifeExp']\n",
    "    model = sm.OLS(y, model_matrix)\n",
    "    results = model.fit()\n",
    "    return results\n",
    "    \n",
    "out = new_intercept(df)\n",
    "pd.DataFrame({'slope': out.params})\n",
    "\n"
   ]
  },
  {
   "cell_type": "code",
   "execution_count": 5,
   "metadata": {},
   "outputs": [
    {
     "data": {
      "text/html": "<div>\n<style scoped>\n    .dataframe tbody tr th:only-of-type {\n        vertical-align: middle;\n    }\n\n    .dataframe tbody tr th {\n        vertical-align: top;\n    }\n\n    .dataframe thead th {\n        text-align: right;\n    }\n</style>\n<table border=\"1\" class=\"dataframe\">\n  <thead>\n    <tr style=\"text-align: right;\">\n      <th></th>\n      <th>gdpPercap</th>\n      <th>b0_intercept</th>\n      <th>b1_gdpPercap</th>\n      <th>b1_p</th>\n      <th>adj_rsq</th>\n    </tr>\n    <tr>\n      <th>country</th>\n      <th></th>\n      <th></th>\n      <th></th>\n      <th></th>\n      <th></th>\n    </tr>\n  </thead>\n  <tbody>\n    <tr>\n      <td>Botswana</td>\n      <td>&lt;statsmodels.regression.linear_model.Regressio...</td>\n      <td>54.557534</td>\n      <td>0.000008</td>\n      <td>0.986227</td>\n      <td>0.000031</td>\n    </tr>\n    <tr>\n      <td>Mozambique</td>\n      <td>&lt;statsmodels.regression.linear_model.Regressio...</td>\n      <td>40.144000</td>\n      <td>0.000434</td>\n      <td>0.970059</td>\n      <td>0.000148</td>\n    </tr>\n    <tr>\n      <td>Togo</td>\n      <td>&lt;statsmodels.regression.linear_model.Regressio...</td>\n      <td>50.856992</td>\n      <td>0.000556</td>\n      <td>0.946991</td>\n      <td>0.000465</td>\n    </tr>\n    <tr>\n      <td>Afghanistan</td>\n      <td>&lt;statsmodels.regression.linear_model.Regressio...</td>\n      <td>39.277201</td>\n      <td>-0.002240</td>\n      <td>0.883342</td>\n      <td>0.002261</td>\n    </tr>\n    <tr>\n      <td>Ghana</td>\n      <td>&lt;statsmodels.regression.linear_model.Regressio...</td>\n      <td>49.887921</td>\n      <td>0.002348</td>\n      <td>0.856537</td>\n      <td>0.003430</td>\n    </tr>\n    <tr>\n      <td>Lesotho</td>\n      <td>&lt;statsmodels.regression.linear_model.Regressio...</td>\n      <td>48.741192</td>\n      <td>0.001622</td>\n      <td>0.731632</td>\n      <td>0.012287</td>\n    </tr>\n    <tr>\n      <td>Rwanda</td>\n      <td>&lt;statsmodels.regression.linear_model.Regressio...</td>\n      <td>37.490506</td>\n      <td>0.005907</td>\n      <td>0.679841</td>\n      <td>0.017742</td>\n    </tr>\n    <tr>\n      <td>Libya</td>\n      <td>&lt;statsmodels.regression.linear_model.Regressio...</td>\n      <td>55.985062</td>\n      <td>0.000276</td>\n      <td>0.623543</td>\n      <td>0.025004</td>\n    </tr>\n    <tr>\n      <td>Sierra Leone</td>\n      <td>&lt;statsmodels.regression.linear_model.Regressio...</td>\n      <td>39.673322</td>\n      <td>-0.002707</td>\n      <td>0.551617</td>\n      <td>0.036566</td>\n    </tr>\n    <tr>\n      <td>Uganda</td>\n      <td>&lt;statsmodels.regression.linear_model.Regressio...</td>\n      <td>42.621940</td>\n      <td>0.006166</td>\n      <td>0.494033</td>\n      <td>0.047968</td>\n    </tr>\n    <tr>\n      <td>Senegal</td>\n      <td>&lt;statsmodels.regression.linear_model.Regressio...</td>\n      <td>79.904752</td>\n      <td>-0.019098</td>\n      <td>0.491683</td>\n      <td>0.048479</td>\n    </tr>\n    <tr>\n      <td>Congo, Dem. Rep.</td>\n      <td>&lt;statsmodels.regression.linear_model.Regressio...</td>\n      <td>46.167589</td>\n      <td>-0.002505</td>\n      <td>0.481586</td>\n      <td>0.050719</td>\n    </tr>\n    <tr>\n      <td>Chad</td>\n      <td>&lt;statsmodels.regression.linear_model.Regressio...</td>\n      <td>53.646782</td>\n      <td>-0.005897</td>\n      <td>0.381344</td>\n      <td>0.077374</td>\n    </tr>\n    <tr>\n      <td>Angola</td>\n      <td>&lt;statsmodels.regression.linear_model.Regressio...</td>\n      <td>41.614373</td>\n      <td>-0.001034</td>\n      <td>0.341620</td>\n      <td>0.090649</td>\n    </tr>\n    <tr>\n      <td>Sudan</td>\n      <td>&lt;statsmodels.regression.linear_model.Regressio...</td>\n      <td>35.765496</td>\n      <td>0.006886</td>\n      <td>0.310924</td>\n      <td>0.102264</td>\n    </tr>\n    <tr>\n      <td>Gambia</td>\n      <td>&lt;statsmodels.regression.linear_model.Regressio...</td>\n      <td>25.132790</td>\n      <td>0.028329</td>\n      <td>0.310863</td>\n      <td>0.102288</td>\n    </tr>\n    <tr>\n      <td>Comoros</td>\n      <td>&lt;statsmodels.regression.linear_model.Regressio...</td>\n      <td>66.851026</td>\n      <td>-0.011008</td>\n      <td>0.192943</td>\n      <td>0.163089</td>\n    </tr>\n    <tr>\n      <td>Guinea-Bissau</td>\n      <td>&lt;statsmodels.regression.linear_model.Regressio...</td>\n      <td>31.526894</td>\n      <td>0.011781</td>\n      <td>0.191456</td>\n      <td>0.164088</td>\n    </tr>\n    <tr>\n      <td>Zimbabwe</td>\n      <td>&lt;statsmodels.regression.linear_model.Regressio...</td>\n      <td>38.580853</td>\n      <td>0.022147</td>\n      <td>0.175545</td>\n      <td>0.175291</td>\n    </tr>\n    <tr>\n      <td>Iraq</td>\n      <td>&lt;statsmodels.regression.linear_model.Regressio...</td>\n      <td>51.983802</td>\n      <td>0.000589</td>\n      <td>0.167776</td>\n      <td>0.181134</td>\n    </tr>\n    <tr>\n      <td>Swaziland</td>\n      <td>&lt;statsmodels.regression.linear_model.Regressio...</td>\n      <td>41.177711</td>\n      <td>0.002474</td>\n      <td>0.155246</td>\n      <td>0.191146</td>\n    </tr>\n    <tr>\n      <td>Liberia</td>\n      <td>&lt;statsmodels.regression.linear_model.Regressio...</td>\n      <td>49.232093</td>\n      <td>-0.011170</td>\n      <td>0.135204</td>\n      <td>0.208919</td>\n    </tr>\n    <tr>\n      <td>Nicaragua</td>\n      <td>&lt;statsmodels.regression.linear_model.Regressio...</td>\n      <td>74.257411</td>\n      <td>-0.004645</td>\n      <td>0.111813</td>\n      <td>0.233159</td>\n    </tr>\n    <tr>\n      <td>Venezuela</td>\n      <td>&lt;statsmodels.regression.linear_model.Regressio...</td>\n      <td>46.042475</td>\n      <td>0.002036</td>\n      <td>0.104265</td>\n      <td>0.242006</td>\n    </tr>\n    <tr>\n      <td>Myanmar</td>\n      <td>&lt;statsmodels.regression.linear_model.Regressio...</td>\n      <td>43.002556</td>\n      <td>0.023488</td>\n      <td>0.101947</td>\n      <td>0.244843</td>\n    </tr>\n    <tr>\n      <td>Somalia</td>\n      <td>&lt;statsmodels.regression.linear_model.Regressio...</td>\n      <td>54.560243</td>\n      <td>-0.011897</td>\n      <td>0.093824</td>\n      <td>0.255278</td>\n    </tr>\n    <tr>\n      <td>Cuba</td>\n      <td>&lt;statsmodels.regression.linear_model.Regressio...</td>\n      <td>54.035562</td>\n      <td>0.002707</td>\n      <td>0.092570</td>\n      <td>0.256961</td>\n    </tr>\n    <tr>\n      <td>South Africa</td>\n      <td>&lt;statsmodels.regression.linear_model.Regressio...</td>\n      <td>38.124176</td>\n      <td>0.002190</td>\n      <td>0.078168</td>\n      <td>0.277962</td>\n    </tr>\n    <tr>\n      <td>Djibouti</td>\n      <td>&lt;statsmodels.regression.linear_model.Regressio...</td>\n      <td>66.145944</td>\n      <td>-0.007326</td>\n      <td>0.044237</td>\n      <td>0.346024</td>\n    </tr>\n    <tr>\n      <td>Saudi Arabia</td>\n      <td>&lt;statsmodels.regression.linear_model.Regressio...</td>\n      <td>42.149580</td>\n      <td>0.000816</td>\n      <td>0.038653</td>\n      <td>0.361491</td>\n    </tr>\n  </tbody>\n</table>\n</div>",
      "text/plain": "                                                          gdpPercap  \\\ncountry                                                               \nBotswana          <statsmodels.regression.linear_model.Regressio...   \nMozambique        <statsmodels.regression.linear_model.Regressio...   \nTogo              <statsmodels.regression.linear_model.Regressio...   \nAfghanistan       <statsmodels.regression.linear_model.Regressio...   \nGhana             <statsmodels.regression.linear_model.Regressio...   \nLesotho           <statsmodels.regression.linear_model.Regressio...   \nRwanda            <statsmodels.regression.linear_model.Regressio...   \nLibya             <statsmodels.regression.linear_model.Regressio...   \nSierra Leone      <statsmodels.regression.linear_model.Regressio...   \nUganda            <statsmodels.regression.linear_model.Regressio...   \nSenegal           <statsmodels.regression.linear_model.Regressio...   \nCongo, Dem. Rep.  <statsmodels.regression.linear_model.Regressio...   \nChad              <statsmodels.regression.linear_model.Regressio...   \nAngola            <statsmodels.regression.linear_model.Regressio...   \nSudan             <statsmodels.regression.linear_model.Regressio...   \nGambia            <statsmodels.regression.linear_model.Regressio...   \nComoros           <statsmodels.regression.linear_model.Regressio...   \nGuinea-Bissau     <statsmodels.regression.linear_model.Regressio...   \nZimbabwe          <statsmodels.regression.linear_model.Regressio...   \nIraq              <statsmodels.regression.linear_model.Regressio...   \nSwaziland         <statsmodels.regression.linear_model.Regressio...   \nLiberia           <statsmodels.regression.linear_model.Regressio...   \nNicaragua         <statsmodels.regression.linear_model.Regressio...   \nVenezuela         <statsmodels.regression.linear_model.Regressio...   \nMyanmar           <statsmodels.regression.linear_model.Regressio...   \nSomalia           <statsmodels.regression.linear_model.Regressio...   \nCuba              <statsmodels.regression.linear_model.Regressio...   \nSouth Africa      <statsmodels.regression.linear_model.Regressio...   \nDjibouti          <statsmodels.regression.linear_model.Regressio...   \nSaudi Arabia      <statsmodels.regression.linear_model.Regressio...   \n\n                  b0_intercept  b1_gdpPercap      b1_p   adj_rsq  \ncountry                                                           \nBotswana             54.557534      0.000008  0.986227  0.000031  \nMozambique           40.144000      0.000434  0.970059  0.000148  \nTogo                 50.856992      0.000556  0.946991  0.000465  \nAfghanistan          39.277201     -0.002240  0.883342  0.002261  \nGhana                49.887921      0.002348  0.856537  0.003430  \nLesotho              48.741192      0.001622  0.731632  0.012287  \nRwanda               37.490506      0.005907  0.679841  0.017742  \nLibya                55.985062      0.000276  0.623543  0.025004  \nSierra Leone         39.673322     -0.002707  0.551617  0.036566  \nUganda               42.621940      0.006166  0.494033  0.047968  \nSenegal              79.904752     -0.019098  0.491683  0.048479  \nCongo, Dem. Rep.     46.167589     -0.002505  0.481586  0.050719  \nChad                 53.646782     -0.005897  0.381344  0.077374  \nAngola               41.614373     -0.001034  0.341620  0.090649  \nSudan                35.765496      0.006886  0.310924  0.102264  \nGambia               25.132790      0.028329  0.310863  0.102288  \nComoros              66.851026     -0.011008  0.192943  0.163089  \nGuinea-Bissau        31.526894      0.011781  0.191456  0.164088  \nZimbabwe             38.580853      0.022147  0.175545  0.175291  \nIraq                 51.983802      0.000589  0.167776  0.181134  \nSwaziland            41.177711      0.002474  0.155246  0.191146  \nLiberia              49.232093     -0.011170  0.135204  0.208919  \nNicaragua            74.257411     -0.004645  0.111813  0.233159  \nVenezuela            46.042475      0.002036  0.104265  0.242006  \nMyanmar              43.002556      0.023488  0.101947  0.244843  \nSomalia              54.560243     -0.011897  0.093824  0.255278  \nCuba                 54.035562      0.002707  0.092570  0.256961  \nSouth Africa         38.124176      0.002190  0.078168  0.277962  \nDjibouti             66.145944     -0.007326  0.044237  0.346024  \nSaudi Arabia         42.149580      0.000816  0.038653  0.361491  "
     },
     "execution_count": 5,
     "metadata": {},
     "output_type": "execute_result"
    }
   ],
   "source": [
    "country_groups = df.groupby(['country'])\n",
    "\n",
    "country_reg = country_groups[['gdpPercap']].agg(new_ols)\n",
    "country_reg\n",
    "country_reg['b0_intercept'] = [x.params[0] for x in country_reg.gdpPercap]\n",
    "country_reg['b1_gdpPercap'] = [x.params[1] for x in country_reg.gdpPercap]\n",
    "country_reg['b1_p'] = [x.pvalues[1] for x in country_reg.gdpPercap]\n",
    "country_reg['adj_rsq'] = [x.rsquared for x in country_reg.gdpPercap]\n",
    "\n",
    "country_reg.sort_values('adj_rsq',ascending=True).head(30)\n"
   ]
  },
  {
   "cell_type": "code",
   "execution_count": 39,
   "metadata": {},
   "outputs": [
    {
     "data": {
      "text/plain": "-0.7559629406382983"
     },
     "execution_count": 39,
     "metadata": {},
     "output_type": "execute_result"
    }
   ],
   "source": [
    "corr_coef = np.corrcoef(country_reg.b1_gdpPercap, country_reg.b0_intercept)[1,0]\n",
    "corr_coef"
   ]
  },
  {
   "cell_type": "code",
   "execution_count": 42,
   "metadata": {},
   "outputs": [
    {
     "data": {
      "image/png": "[encoded data removed]",
      "text/plain": "<Figure size 432x288 with 1 Axes>"
     },
     "metadata": {
      "needs_background": "light"
     },
     "output_type": "display_data"
    }
   ],
   "source": [
    "plt.scatter(country_reg.b0_intercept, country_reg.b1_gdpPercap)\n",
    "plt.show()"
   ]
  },
  {
   "cell_type": "code",
   "execution_count": 45,
   "metadata": {},
   "outputs": [
    {
     "data": {
      "text/html": "<div>\n<style scoped>\n    .dataframe tbody tr th:only-of-type {\n        vertical-align: middle;\n    }\n\n    .dataframe tbody tr th {\n        vertical-align: top;\n    }\n\n    .dataframe thead th {\n        text-align: right;\n    }\n</style>\n<table border=\"1\" class=\"dataframe\">\n  <thead>\n    <tr style=\"text-align: right;\">\n      <th></th>\n      <th>gdpPercap</th>\n      <th>b0_intercept</th>\n      <th>b1_gdpPercap</th>\n      <th>b1_p</th>\n      <th>adj_rsq</th>\n    </tr>\n    <tr>\n      <th>country</th>\n      <th></th>\n      <th></th>\n      <th></th>\n      <th></th>\n      <th></th>\n    </tr>\n  </thead>\n  <tbody>\n    <tr>\n      <td>Kuwait</td>\n      <td>&lt;statsmodels.regression.linear_model.Regressio...</td>\n      <td>81.973974</td>\n      <td>-0.000200</td>\n      <td>1.660645e-04</td>\n      <td>0.772666</td>\n    </tr>\n    <tr>\n      <td>Senegal</td>\n      <td>&lt;statsmodels.regression.linear_model.Regressio...</td>\n      <td>79.904752</td>\n      <td>-0.019098</td>\n      <td>4.916830e-01</td>\n      <td>0.048479</td>\n    </tr>\n    <tr>\n      <td>Haiti</td>\n      <td>&lt;statsmodels.regression.linear_model.Regressio...</td>\n      <td>77.378716</td>\n      <td>-0.016791</td>\n      <td>3.111034e-02</td>\n      <td>0.385803</td>\n    </tr>\n    <tr>\n      <td>Madagascar</td>\n      <td>&lt;statsmodels.regression.linear_model.Regressio...</td>\n      <td>74.841978</td>\n      <td>-0.020269</td>\n      <td>7.159438e-04</td>\n      <td>0.697961</td>\n    </tr>\n    <tr>\n      <td>Nicaragua</td>\n      <td>&lt;statsmodels.regression.linear_model.Regressio...</td>\n      <td>74.257411</td>\n      <td>-0.004645</td>\n      <td>1.118129e-01</td>\n      <td>0.233159</td>\n    </tr>\n    <tr>\n      <td>Norway</td>\n      <td>&lt;statsmodels.regression.linear_model.Regressio...</td>\n      <td>71.050415</td>\n      <td>0.000179</td>\n      <td>2.329244e-10</td>\n      <td>0.984345</td>\n    </tr>\n    <tr>\n      <td>Iceland</td>\n      <td>&lt;statsmodels.regression.linear_model.Regressio...</td>\n      <td>70.014934</td>\n      <td>0.000316</td>\n      <td>2.479351e-08</td>\n      <td>0.960264</td>\n    </tr>\n    <tr>\n      <td>Netherlands</td>\n      <td>&lt;statsmodels.regression.linear_model.Regressio...</td>\n      <td>69.689054</td>\n      <td>0.000274</td>\n      <td>1.115054e-08</td>\n      <td>0.966116</td>\n    </tr>\n    <tr>\n      <td>Denmark</td>\n      <td>&lt;statsmodels.regression.linear_model.Regressio...</td>\n      <td>68.651654</td>\n      <td>0.000264</td>\n      <td>2.764325e-09</td>\n      <td>0.974346</td>\n    </tr>\n    <tr>\n      <td>Sweden</td>\n      <td>&lt;statsmodels.regression.linear_model.Regressio...</td>\n      <td>68.531059</td>\n      <td>0.000383</td>\n      <td>4.618050e-09</td>\n      <td>0.971580</td>\n    </tr>\n    <tr>\n      <td>Ireland</td>\n      <td>&lt;statsmodels.regression.linear_model.Regressio...</td>\n      <td>68.476445</td>\n      <td>0.000288</td>\n      <td>2.041633e-05</td>\n      <td>0.849363</td>\n    </tr>\n    <tr>\n      <td>Comoros</td>\n      <td>&lt;statsmodels.regression.linear_model.Regressio...</td>\n      <td>66.851026</td>\n      <td>-0.011008</td>\n      <td>1.929429e-01</td>\n      <td>0.163089</td>\n    </tr>\n    <tr>\n      <td>Niger</td>\n      <td>&lt;statsmodels.regression.linear_model.Regressio...</td>\n      <td>66.842524</td>\n      <td>-0.028530</td>\n      <td>4.798438e-03</td>\n      <td>0.565303</td>\n    </tr>\n    <tr>\n      <td>Djibouti</td>\n      <td>&lt;statsmodels.regression.linear_model.Regressio...</td>\n      <td>66.145944</td>\n      <td>-0.007326</td>\n      <td>4.423663e-02</td>\n      <td>0.346024</td>\n    </tr>\n    <tr>\n      <td>Spain</td>\n      <td>&lt;statsmodels.regression.linear_model.Regressio...</td>\n      <td>65.674973</td>\n      <td>0.000608</td>\n      <td>2.565509e-06</td>\n      <td>0.900039</td>\n    </tr>\n    <tr>\n      <td>Puerto Rico</td>\n      <td>&lt;statsmodels.regression.linear_model.Regressio...</td>\n      <td>65.608906</td>\n      <td>0.000656</td>\n      <td>1.073372e-05</td>\n      <td>0.867313</td>\n    </tr>\n    <tr>\n      <td>Greece</td>\n      <td>&lt;statsmodels.regression.linear_model.Regressio...</td>\n      <td>65.559390</td>\n      <td>0.000585</td>\n      <td>5.594159e-07</td>\n      <td>0.926114</td>\n    </tr>\n    <tr>\n      <td>Hong Kong, China</td>\n      <td>&lt;statsmodels.regression.linear_model.Regressio...</td>\n      <td>65.307563</td>\n      <td>0.000504</td>\n      <td>2.226337e-05</td>\n      <td>0.846769</td>\n    </tr>\n    <tr>\n      <td>United Kingdom</td>\n      <td>&lt;statsmodels.regression.linear_model.Regressio...</td>\n      <td>65.148626</td>\n      <td>0.000453</td>\n      <td>8.166261e-10</td>\n      <td>0.979888</td>\n    </tr>\n    <tr>\n      <td>Belgium</td>\n      <td>&lt;statsmodels.regression.linear_model.Regressio...</td>\n      <td>64.742805</td>\n      <td>0.000447</td>\n      <td>1.558814e-10</td>\n      <td>0.985552</td>\n    </tr>\n  </tbody>\n</table>\n</div>",
      "text/plain": "                                                          gdpPercap  \\\ncountry                                                               \nKuwait            <statsmodels.regression.linear_model.Regressio...   \nSenegal           <statsmodels.regression.linear_model.Regressio...   \nHaiti             <statsmodels.regression.linear_model.Regressio...   \nMadagascar        <statsmodels.regression.linear_model.Regressio...   \nNicaragua         <statsmodels.regression.linear_model.Regressio...   \nNorway            <statsmodels.regression.linear_model.Regressio...   \nIceland           <statsmodels.regression.linear_model.Regressio...   \nNetherlands       <statsmodels.regression.linear_model.Regressio...   \nDenmark           <statsmodels.regression.linear_model.Regressio...   \nSweden            <statsmodels.regression.linear_model.Regressio...   \nIreland           <statsmodels.regression.linear_model.Regressio...   \nComoros           <statsmodels.regression.linear_model.Regressio...   \nNiger             <statsmodels.regression.linear_model.Regressio...   \nDjibouti          <statsmodels.regression.linear_model.Regressio...   \nSpain             <statsmodels.regression.linear_model.Regressio...   \nPuerto Rico       <statsmodels.regression.linear_model.Regressio...   \nGreece            <statsmodels.regression.linear_model.Regressio...   \nHong Kong, China  <statsmodels.regression.linear_model.Regressio...   \nUnited Kingdom    <statsmodels.regression.linear_model.Regressio...   \nBelgium           <statsmodels.regression.linear_model.Regressio...   \n\n                  b0_intercept  b1_gdpPercap          b1_p   adj_rsq  \ncountry                                                               \nKuwait               81.973974     -0.000200  1.660645e-04  0.772666  \nSenegal              79.904752     -0.019098  4.916830e-01  0.048479  \nHaiti                77.378716     -0.016791  3.111034e-02  0.385803  \nMadagascar           74.841978     -0.020269  7.159438e-04  0.697961  \nNicaragua            74.257411     -0.004645  1.118129e-01  0.233159  \nNorway               71.050415      0.000179  2.329244e-10  0.984345  \nIceland              70.014934      0.000316  2.479351e-08  0.960264  \nNetherlands          69.689054      0.000274  1.115054e-08  0.966116  \nDenmark              68.651654      0.000264  2.764325e-09  0.974346  \nSweden               68.531059      0.000383  4.618050e-09  0.971580  \nIreland              68.476445      0.000288  2.041633e-05  0.849363  \nComoros              66.851026     -0.011008  1.929429e-01  0.163089  \nNiger                66.842524     -0.028530  4.798438e-03  0.565303  \nDjibouti             66.145944     -0.007326  4.423663e-02  0.346024  \nSpain                65.674973      0.000608  2.565509e-06  0.900039  \nPuerto Rico          65.608906      0.000656  1.073372e-05  0.867313  \nGreece               65.559390      0.000585  5.594159e-07  0.926114  \nHong Kong, China     65.307563      0.000504  2.226337e-05  0.846769  \nUnited Kingdom       65.148626      0.000453  8.166261e-10  0.979888  \nBelgium              64.742805      0.000447  1.558814e-10  0.985552  "
     },
     "execution_count": 45,
     "metadata": {},
     "output_type": "execute_result"
    }
   ],
   "source": [
    "country_reg.sort_values('b0_intercept', ascending=False).head(20)\n"
   ]
  },
  {
   "cell_type": "code",
   "execution_count": 46,
   "metadata": {},
   "outputs": [
    {
     "data": {
      "text/html": "<div>\n<style scoped>\n    .dataframe tbody tr th:only-of-type {\n        vertical-align: middle;\n    }\n\n    .dataframe tbody tr th {\n        vertical-align: top;\n    }\n\n    .dataframe thead th {\n        text-align: right;\n    }\n</style>\n<table border=\"1\" class=\"dataframe\">\n  <thead>\n    <tr style=\"text-align: right;\">\n      <th></th>\n      <th>gdpPercap</th>\n      <th>b0_intercept</th>\n      <th>b1_gdpPercap</th>\n      <th>b1_p</th>\n      <th>adj_rsq</th>\n    </tr>\n    <tr>\n      <th>country</th>\n      <th></th>\n      <th></th>\n      <th></th>\n      <th></th>\n      <th></th>\n    </tr>\n  </thead>\n  <tbody>\n    <tr>\n      <td>Afghanistan</td>\n      <td>&lt;statsmodels.regression.linear_model.Regressio...</td>\n      <td>39.277201</td>\n      <td>-0.002240</td>\n      <td>0.883342</td>\n      <td>0.002261</td>\n    </tr>\n    <tr>\n      <td>Albania</td>\n      <td>&lt;statsmodels.regression.linear_model.Regressio...</td>\n      <td>53.981907</td>\n      <td>0.004439</td>\n      <td>0.000682</td>\n      <td>0.700763</td>\n    </tr>\n    <tr>\n      <td>Algeria</td>\n      <td>&lt;statsmodels.regression.linear_model.Regressio...</td>\n      <td>27.440225</td>\n      <td>0.007137</td>\n      <td>0.000053</td>\n      <td>0.818068</td>\n    </tr>\n    <tr>\n      <td>Angola</td>\n      <td>&lt;statsmodels.regression.linear_model.Regressio...</td>\n      <td>41.614373</td>\n      <td>-0.001034</td>\n      <td>0.341620</td>\n      <td>0.090649</td>\n    </tr>\n    <tr>\n      <td>Argentina</td>\n      <td>&lt;statsmodels.regression.linear_model.Regressio...</td>\n      <td>52.320078</td>\n      <td>0.001869</td>\n      <td>0.000797</td>\n      <td>0.691638</td>\n    </tr>\n    <tr>\n      <td>...</td>\n      <td>...</td>\n      <td>...</td>\n      <td>...</td>\n      <td>...</td>\n      <td>...</td>\n    </tr>\n    <tr>\n      <td>Vietnam</td>\n      <td>&lt;statsmodels.regression.linear_model.Regressio...</td>\n      <td>40.221470</td>\n      <td>0.016958</td>\n      <td>0.002205</td>\n      <td>0.625013</td>\n    </tr>\n    <tr>\n      <td>West Bank and Gaza</td>\n      <td>&lt;statsmodels.regression.linear_model.Regressio...</td>\n      <td>41.070333</td>\n      <td>0.005122</td>\n      <td>0.001807</td>\n      <td>0.639045</td>\n    </tr>\n    <tr>\n      <td>Yemen, Rep.</td>\n      <td>&lt;statsmodels.regression.linear_model.Regressio...</td>\n      <td>19.694607</td>\n      <td>0.017260</td>\n      <td>0.000001</td>\n      <td>0.912747</td>\n    </tr>\n    <tr>\n      <td>Zambia</td>\n      <td>&lt;statsmodels.regression.linear_model.Regressio...</td>\n      <td>29.643082</td>\n      <td>0.012040</td>\n      <td>0.017322</td>\n      <td>0.447776</td>\n    </tr>\n    <tr>\n      <td>Zimbabwe</td>\n      <td>&lt;statsmodels.regression.linear_model.Regressio...</td>\n      <td>38.580853</td>\n      <td>0.022147</td>\n      <td>0.175545</td>\n      <td>0.175291</td>\n    </tr>\n  </tbody>\n</table>\n<p>142 rows × 5 columns</p>\n</div>",
      "text/plain": "                                                            gdpPercap  \\\ncountry                                                                 \nAfghanistan         <statsmodels.regression.linear_model.Regressio...   \nAlbania             <statsmodels.regression.linear_model.Regressio...   \nAlgeria             <statsmodels.regression.linear_model.Regressio...   \nAngola              <statsmodels.regression.linear_model.Regressio...   \nArgentina           <statsmodels.regression.linear_model.Regressio...   \n...                                                               ...   \nVietnam             <statsmodels.regression.linear_model.Regressio...   \nWest Bank and Gaza  <statsmodels.regression.linear_model.Regressio...   \nYemen, Rep.         <statsmodels.regression.linear_model.Regressio...   \nZambia              <statsmodels.regression.linear_model.Regressio...   \nZimbabwe            <statsmodels.regression.linear_model.Regressio...   \n\n                    b0_intercept  b1_gdpPercap      b1_p   adj_rsq  \ncountry                                                             \nAfghanistan            39.277201     -0.002240  0.883342  0.002261  \nAlbania                53.981907      0.004439  0.000682  0.700763  \nAlgeria                27.440225      0.007137  0.000053  0.818068  \nAngola                 41.614373     -0.001034  0.341620  0.090649  \nArgentina              52.320078      0.001869  0.000797  0.691638  \n...                          ...           ...       ...       ...  \nVietnam                40.221470      0.016958  0.002205  0.625013  \nWest Bank and Gaza     41.070333      0.005122  0.001807  0.639045  \nYemen, Rep.            19.694607      0.017260  0.000001  0.912747  \nZambia                 29.643082      0.012040  0.017322  0.447776  \nZimbabwe               38.580853      0.022147  0.175545  0.175291  \n\n[142 rows x 5 columns]"
     },
     "execution_count": 46,
     "metadata": {},
     "output_type": "execute_result"
    }
   ],
   "source": [
    "country_reg"
   ]
  },
  {
   "cell_type": "code",
   "execution_count": 58,
   "metadata": {},
   "outputs": [
    {
     "data": {
      "text/html": "<div>\n<style scoped>\n    .dataframe tbody tr th:only-of-type {\n        vertical-align: middle;\n    }\n\n    .dataframe tbody tr th {\n        vertical-align: top;\n    }\n\n    .dataframe thead th {\n        text-align: right;\n    }\n</style>\n<table border=\"1\" class=\"dataframe\">\n  <thead>\n    <tr style=\"text-align: right;\">\n      <th></th>\n      <th>country</th>\n      <th>continent</th>\n      <th>year</th>\n      <th>lifeExp</th>\n      <th>pop</th>\n      <th>gdpPercap</th>\n    </tr>\n  </thead>\n  <tbody>\n    <tr>\n      <td>0</td>\n      <td>Afghanistan</td>\n      <td>Asia</td>\n      <td>1952</td>\n      <td>28.801</td>\n      <td>8425333</td>\n      <td>779.445314</td>\n    </tr>\n    <tr>\n      <td>1</td>\n      <td>Afghanistan</td>\n      <td>Asia</td>\n      <td>1957</td>\n      <td>30.332</td>\n      <td>9240934</td>\n      <td>820.853030</td>\n    </tr>\n    <tr>\n      <td>2</td>\n      <td>Afghanistan</td>\n      <td>Asia</td>\n      <td>1962</td>\n      <td>31.997</td>\n      <td>10267083</td>\n      <td>853.100710</td>\n    </tr>\n    <tr>\n      <td>3</td>\n      <td>Afghanistan</td>\n      <td>Asia</td>\n      <td>1967</td>\n      <td>34.020</td>\n      <td>11537966</td>\n      <td>836.197138</td>\n    </tr>\n    <tr>\n      <td>4</td>\n      <td>Afghanistan</td>\n      <td>Asia</td>\n      <td>1972</td>\n      <td>36.088</td>\n      <td>13079460</td>\n      <td>739.981106</td>\n    </tr>\n    <tr>\n      <td>...</td>\n      <td>...</td>\n      <td>...</td>\n      <td>...</td>\n      <td>...</td>\n      <td>...</td>\n      <td>...</td>\n    </tr>\n    <tr>\n      <td>1699</td>\n      <td>Zimbabwe</td>\n      <td>Africa</td>\n      <td>1987</td>\n      <td>62.351</td>\n      <td>9216418</td>\n      <td>706.157306</td>\n    </tr>\n    <tr>\n      <td>1700</td>\n      <td>Zimbabwe</td>\n      <td>Africa</td>\n      <td>1992</td>\n      <td>60.377</td>\n      <td>10704340</td>\n      <td>693.420786</td>\n    </tr>\n    <tr>\n      <td>1701</td>\n      <td>Zimbabwe</td>\n      <td>Africa</td>\n      <td>1997</td>\n      <td>46.809</td>\n      <td>11404948</td>\n      <td>792.449960</td>\n    </tr>\n    <tr>\n      <td>1702</td>\n      <td>Zimbabwe</td>\n      <td>Africa</td>\n      <td>2002</td>\n      <td>39.989</td>\n      <td>11926563</td>\n      <td>672.038623</td>\n    </tr>\n    <tr>\n      <td>1703</td>\n      <td>Zimbabwe</td>\n      <td>Africa</td>\n      <td>2007</td>\n      <td>43.487</td>\n      <td>12311143</td>\n      <td>469.709298</td>\n    </tr>\n  </tbody>\n</table>\n<p>1704 rows × 6 columns</p>\n</div>",
      "text/plain": "          country continent  year  lifeExp       pop   gdpPercap\n0     Afghanistan      Asia  1952   28.801   8425333  779.445314\n1     Afghanistan      Asia  1957   30.332   9240934  820.853030\n2     Afghanistan      Asia  1962   31.997  10267083  853.100710\n3     Afghanistan      Asia  1967   34.020  11537966  836.197138\n4     Afghanistan      Asia  1972   36.088  13079460  739.981106\n...           ...       ...   ...      ...       ...         ...\n1699     Zimbabwe    Africa  1987   62.351   9216418  706.157306\n1700     Zimbabwe    Africa  1992   60.377  10704340  693.420786\n1701     Zimbabwe    Africa  1997   46.809  11404948  792.449960\n1702     Zimbabwe    Africa  2002   39.989  11926563  672.038623\n1703     Zimbabwe    Africa  2007   43.487  12311143  469.709298\n\n[1704 rows x 6 columns]"
     },
     "execution_count": 58,
     "metadata": {},
     "output_type": "execute_result"
    }
   ],
   "source": [
    "my_gm = df\n",
    "my_gm"
   ]
  },
  {
   "cell_type": "code",
   "execution_count": 90,
   "metadata": {},
   "outputs": [
    {
     "data": {
      "text/html": "<div>\n<style scoped>\n    .dataframe tbody tr th:only-of-type {\n        vertical-align: middle;\n    }\n\n    .dataframe tbody tr th {\n        vertical-align: top;\n    }\n\n    .dataframe thead th {\n        text-align: right;\n    }\n</style>\n<table border=\"1\" class=\"dataframe\">\n  <thead>\n    <tr style=\"text-align: right;\">\n      <th></th>\n      <th>country</th>\n      <th>continent</th>\n      <th>year</th>\n      <th>lifeExp</th>\n      <th>pop</th>\n      <th>gdpPercap</th>\n      <th>model_object</th>\n      <th>b0_intercept</th>\n      <th>b1_gdpPercap</th>\n      <th>b1_p</th>\n      <th>adj_rsq</th>\n    </tr>\n  </thead>\n  <tbody>\n    <tr>\n      <td>0</td>\n      <td>Afghanistan</td>\n      <td>Asia</td>\n      <td>1952</td>\n      <td>28.801</td>\n      <td>8425333</td>\n      <td>779.445314</td>\n      <td>&lt;statsmodels.regression.linear_model.Regressio...</td>\n      <td>39.277201</td>\n      <td>-0.002240</td>\n      <td>0.883342</td>\n      <td>0.002261</td>\n    </tr>\n    <tr>\n      <td>1</td>\n      <td>Afghanistan</td>\n      <td>Asia</td>\n      <td>1957</td>\n      <td>30.332</td>\n      <td>9240934</td>\n      <td>820.853030</td>\n      <td>&lt;statsmodels.regression.linear_model.Regressio...</td>\n      <td>39.277201</td>\n      <td>-0.002240</td>\n      <td>0.883342</td>\n      <td>0.002261</td>\n    </tr>\n    <tr>\n      <td>2</td>\n      <td>Afghanistan</td>\n      <td>Asia</td>\n      <td>1962</td>\n      <td>31.997</td>\n      <td>10267083</td>\n      <td>853.100710</td>\n      <td>&lt;statsmodels.regression.linear_model.Regressio...</td>\n      <td>39.277201</td>\n      <td>-0.002240</td>\n      <td>0.883342</td>\n      <td>0.002261</td>\n    </tr>\n    <tr>\n      <td>3</td>\n      <td>Afghanistan</td>\n      <td>Asia</td>\n      <td>1967</td>\n      <td>34.020</td>\n      <td>11537966</td>\n      <td>836.197138</td>\n      <td>&lt;statsmodels.regression.linear_model.Regressio...</td>\n      <td>39.277201</td>\n      <td>-0.002240</td>\n      <td>0.883342</td>\n      <td>0.002261</td>\n    </tr>\n    <tr>\n      <td>4</td>\n      <td>Afghanistan</td>\n      <td>Asia</td>\n      <td>1972</td>\n      <td>36.088</td>\n      <td>13079460</td>\n      <td>739.981106</td>\n      <td>&lt;statsmodels.regression.linear_model.Regressio...</td>\n      <td>39.277201</td>\n      <td>-0.002240</td>\n      <td>0.883342</td>\n      <td>0.002261</td>\n    </tr>\n    <tr>\n      <td>...</td>\n      <td>...</td>\n      <td>...</td>\n      <td>...</td>\n      <td>...</td>\n      <td>...</td>\n      <td>...</td>\n      <td>...</td>\n      <td>...</td>\n      <td>...</td>\n      <td>...</td>\n      <td>...</td>\n    </tr>\n    <tr>\n      <td>1699</td>\n      <td>Zimbabwe</td>\n      <td>Africa</td>\n      <td>1987</td>\n      <td>62.351</td>\n      <td>9216418</td>\n      <td>706.157306</td>\n      <td>&lt;statsmodels.regression.linear_model.Regressio...</td>\n      <td>38.580853</td>\n      <td>0.022147</td>\n      <td>0.175545</td>\n      <td>0.175291</td>\n    </tr>\n    <tr>\n      <td>1700</td>\n      <td>Zimbabwe</td>\n      <td>Africa</td>\n      <td>1992</td>\n      <td>60.377</td>\n      <td>10704340</td>\n      <td>693.420786</td>\n      <td>&lt;statsmodels.regression.linear_model.Regressio...</td>\n      <td>38.580853</td>\n      <td>0.022147</td>\n      <td>0.175545</td>\n      <td>0.175291</td>\n    </tr>\n    <tr>\n      <td>1701</td>\n      <td>Zimbabwe</td>\n      <td>Africa</td>\n      <td>1997</td>\n      <td>46.809</td>\n      <td>11404948</td>\n      <td>792.449960</td>\n      <td>&lt;statsmodels.regression.linear_model.Regressio...</td>\n      <td>38.580853</td>\n      <td>0.022147</td>\n      <td>0.175545</td>\n      <td>0.175291</td>\n    </tr>\n    <tr>\n      <td>1702</td>\n      <td>Zimbabwe</td>\n      <td>Africa</td>\n      <td>2002</td>\n      <td>39.989</td>\n      <td>11926563</td>\n      <td>672.038623</td>\n      <td>&lt;statsmodels.regression.linear_model.Regressio...</td>\n      <td>38.580853</td>\n      <td>0.022147</td>\n      <td>0.175545</td>\n      <td>0.175291</td>\n    </tr>\n    <tr>\n      <td>1703</td>\n      <td>Zimbabwe</td>\n      <td>Africa</td>\n      <td>2007</td>\n      <td>43.487</td>\n      <td>12311143</td>\n      <td>469.709298</td>\n      <td>&lt;statsmodels.regression.linear_model.Regressio...</td>\n      <td>38.580853</td>\n      <td>0.022147</td>\n      <td>0.175545</td>\n      <td>0.175291</td>\n    </tr>\n  </tbody>\n</table>\n<p>1704 rows × 11 columns</p>\n</div>",
      "text/plain": "          country continent  year  lifeExp       pop   gdpPercap  \\\n0     Afghanistan      Asia  1952   28.801   8425333  779.445314   \n1     Afghanistan      Asia  1957   30.332   9240934  820.853030   \n2     Afghanistan      Asia  1962   31.997  10267083  853.100710   \n3     Afghanistan      Asia  1967   34.020  11537966  836.197138   \n4     Afghanistan      Asia  1972   36.088  13079460  739.981106   \n...           ...       ...   ...      ...       ...         ...   \n1699     Zimbabwe    Africa  1987   62.351   9216418  706.157306   \n1700     Zimbabwe    Africa  1992   60.377  10704340  693.420786   \n1701     Zimbabwe    Africa  1997   46.809  11404948  792.449960   \n1702     Zimbabwe    Africa  2002   39.989  11926563  672.038623   \n1703     Zimbabwe    Africa  2007   43.487  12311143  469.709298   \n\n                                           model_object  b0_intercept  \\\n0     <statsmodels.regression.linear_model.Regressio...     39.277201   \n1     <statsmodels.regression.linear_model.Regressio...     39.277201   \n2     <statsmodels.regression.linear_model.Regressio...     39.277201   \n3     <statsmodels.regression.linear_model.Regressio...     39.277201   \n4     <statsmodels.regression.linear_model.Regressio...     39.277201   \n...                                                 ...           ...   \n1699  <statsmodels.regression.linear_model.Regressio...     38.580853   \n1700  <statsmodels.regression.linear_model.Regressio...     38.580853   \n1701  <statsmodels.regression.linear_model.Regressio...     38.580853   \n1702  <statsmodels.regression.linear_model.Regressio...     38.580853   \n1703  <statsmodels.regression.linear_model.Regressio...     38.580853   \n\n      b1_gdpPercap      b1_p   adj_rsq  \n0        -0.002240  0.883342  0.002261  \n1        -0.002240  0.883342  0.002261  \n2        -0.002240  0.883342  0.002261  \n3        -0.002240  0.883342  0.002261  \n4        -0.002240  0.883342  0.002261  \n...            ...       ...       ...  \n1699      0.022147  0.175545  0.175291  \n1700      0.022147  0.175545  0.175291  \n1701      0.022147  0.175545  0.175291  \n1702      0.022147  0.175545  0.175291  \n1703      0.022147  0.175545  0.175291  \n\n[1704 rows x 11 columns]"
     },
     "execution_count": 90,
     "metadata": {},
     "output_type": "execute_result"
    }
   ],
   "source": [
    "country_reg = country_reg.rename(columns={'gdpPercap':'model_object'})\n",
    "master = pd.merge(my_gm, country_reg, on='country')\n",
    "master"
   ]
  },
  {
   "cell_type": "code",
   "execution_count": 138,
   "metadata": {},
   "outputs": [
    {
     "ename": "TypeError",
     "evalue": "cannot perform reduce with flexible type",
     "output_type": "error",
     "traceback": [
      "\u001b[0;31m---------------------------------------------------------------------------\u001b[0m",
      "\u001b[0;31mTypeError\u001b[0m                                 Traceback (most recent call last)",
      "\u001b[0;32m<ipython-input-138-35c500eceb73>\u001b[0m in \u001b[0;36m<module>\u001b[0;34m\u001b[0m\n\u001b[1;32m      8\u001b[0m \u001b[0mcols_of_interest\u001b[0m \u001b[0;34m=\u001b[0m \u001b[0mcols_of_interest\u001b[0m\u001b[0;34m.\u001b[0m\u001b[0mdrop\u001b[0m\u001b[0;34m(\u001b[0m\u001b[0;34m'model_object'\u001b[0m\u001b[0;34m,\u001b[0m \u001b[0maxis\u001b[0m\u001b[0;34m=\u001b[0m\u001b[0;36m1\u001b[0m\u001b[0;34m)\u001b[0m\u001b[0;34m\u001b[0m\u001b[0;34m\u001b[0m\u001b[0m\n\u001b[1;32m      9\u001b[0m \u001b[0mcols_of_interest\u001b[0m\u001b[0;34m\u001b[0m\u001b[0;34m\u001b[0m\u001b[0m\n\u001b[0;32m---> 10\u001b[0;31m \u001b[0mlist\u001b[0m\u001b[0;34m(\u001b[0m\u001b[0mmap\u001b[0m\u001b[0;34m(\u001b[0m\u001b[0mstudentize\u001b[0m\u001b[0;34m,\u001b[0m \u001b[0mcols_of_interest\u001b[0m\u001b[0;34m)\u001b[0m\u001b[0;34m)\u001b[0m\u001b[0;34m\u001b[0m\u001b[0;34m\u001b[0m\u001b[0m\n\u001b[0m",
      "\u001b[0;32m<ipython-input-138-35c500eceb73>\u001b[0m in \u001b[0;36mstudentize\u001b[0;34m(x)\u001b[0m\n\u001b[1;32m      1\u001b[0m \u001b[0;32mdef\u001b[0m \u001b[0mstudentize\u001b[0m\u001b[0;34m(\u001b[0m\u001b[0mx\u001b[0m\u001b[0;34m)\u001b[0m\u001b[0;34m:\u001b[0m\u001b[0;34m\u001b[0m\u001b[0;34m\u001b[0m\u001b[0m\n\u001b[0;32m----> 2\u001b[0;31m     \u001b[0mcentered\u001b[0m \u001b[0;34m=\u001b[0m \u001b[0;34m(\u001b[0m\u001b[0mx\u001b[0m \u001b[0;34m-\u001b[0m\u001b[0mnp\u001b[0m\u001b[0;34m.\u001b[0m\u001b[0mmean\u001b[0m\u001b[0;34m(\u001b[0m\u001b[0mx\u001b[0m\u001b[0;34m)\u001b[0m\u001b[0;34m)\u001b[0m\u001b[0;34m\u001b[0m\u001b[0;34m\u001b[0m\u001b[0m\n\u001b[0m\u001b[1;32m      3\u001b[0m     \u001b[0mstudentized\u001b[0m \u001b[0;34m=\u001b[0m \u001b[0mcentered\u001b[0m \u001b[0;34m/\u001b[0m \u001b[0mnp\u001b[0m\u001b[0;34m.\u001b[0m\u001b[0mstd\u001b[0m\u001b[0;34m(\u001b[0m\u001b[0mx\u001b[0m\u001b[0;34m)\u001b[0m\u001b[0;34m\u001b[0m\u001b[0;34m\u001b[0m\u001b[0m\n\u001b[1;32m      4\u001b[0m     \u001b[0;32mreturn\u001b[0m \u001b[0mstudentized\u001b[0m\u001b[0;34m\u001b[0m\u001b[0;34m\u001b[0m\u001b[0m\n\u001b[1;32m      5\u001b[0m \u001b[0;34m\u001b[0m\u001b[0m\n",
      "\u001b[0;32m<__array_function__ internals>\u001b[0m in \u001b[0;36mmean\u001b[0;34m(*args, **kwargs)\u001b[0m\n",
      "\u001b[0;32m/opt/anaconda3/lib/python3.7/site-packages/numpy/core/fromnumeric.py\u001b[0m in \u001b[0;36mmean\u001b[0;34m(a, axis, dtype, out, keepdims)\u001b[0m\n\u001b[1;32m   3255\u001b[0m \u001b[0;34m\u001b[0m\u001b[0m\n\u001b[1;32m   3256\u001b[0m     return _methods._mean(a, axis=axis, dtype=dtype,\n\u001b[0;32m-> 3257\u001b[0;31m                           out=out, **kwargs)\n\u001b[0m\u001b[1;32m   3258\u001b[0m \u001b[0;34m\u001b[0m\u001b[0m\n\u001b[1;32m   3259\u001b[0m \u001b[0;34m\u001b[0m\u001b[0m\n",
      "\u001b[0;32m/opt/anaconda3/lib/python3.7/site-packages/numpy/core/_methods.py\u001b[0m in \u001b[0;36m_mean\u001b[0;34m(a, axis, dtype, out, keepdims)\u001b[0m\n\u001b[1;32m    149\u001b[0m             \u001b[0mis_float16_result\u001b[0m \u001b[0;34m=\u001b[0m \u001b[0;32mTrue\u001b[0m\u001b[0;34m\u001b[0m\u001b[0;34m\u001b[0m\u001b[0m\n\u001b[1;32m    150\u001b[0m \u001b[0;34m\u001b[0m\u001b[0m\n\u001b[0;32m--> 151\u001b[0;31m     \u001b[0mret\u001b[0m \u001b[0;34m=\u001b[0m \u001b[0mumr_sum\u001b[0m\u001b[0;34m(\u001b[0m\u001b[0marr\u001b[0m\u001b[0;34m,\u001b[0m \u001b[0maxis\u001b[0m\u001b[0;34m,\u001b[0m \u001b[0mdtype\u001b[0m\u001b[0;34m,\u001b[0m \u001b[0mout\u001b[0m\u001b[0;34m,\u001b[0m \u001b[0mkeepdims\u001b[0m\u001b[0;34m)\u001b[0m\u001b[0;34m\u001b[0m\u001b[0;34m\u001b[0m\u001b[0m\n\u001b[0m\u001b[1;32m    152\u001b[0m     \u001b[0;32mif\u001b[0m \u001b[0misinstance\u001b[0m\u001b[0;34m(\u001b[0m\u001b[0mret\u001b[0m\u001b[0;34m,\u001b[0m \u001b[0mmu\u001b[0m\u001b[0;34m.\u001b[0m\u001b[0mndarray\u001b[0m\u001b[0;34m)\u001b[0m\u001b[0;34m:\u001b[0m\u001b[0;34m\u001b[0m\u001b[0;34m\u001b[0m\u001b[0m\n\u001b[1;32m    153\u001b[0m         ret = um.true_divide(\n",
      "\u001b[0;31mTypeError\u001b[0m: cannot perform reduce with flexible type"
     ]
    }
   ],
   "source": [
    "def studentize(x):\n",
    "    centered = (x-np.mean(x))\n",
    "    studentized = centered / np.std(x)\n",
    "    return studentized\n",
    "\n",
    "\n",
    "cols_of_interest = master[master.columns[3:10]]\n",
    "cols_of_interest = cols_of_interest.drop('model_object', axis=1)\n",
    "cols_of_interest\n",
    "\n",
    "list(map(studentize, cols_of_interest))"
   ]
  },
  {
   "cell_type": "code",
   "execution_count": 134,
   "metadata": {},
   "outputs": [
    {
     "data": {
      "text/plain": "[pandas.core.series.Series,\n pandas.core.series.Series,\n pandas.core.series.Series,\n pandas.core.series.Series,\n pandas.core.series.Series,\n pandas.core.series.Series]"
     },
     "execution_count": 134,
     "metadata": {},
     "output_type": "execute_result"
    }
   ],
   "source": [
    "[type(df[x]) for x in df]\n"
   ]
  },
  {
   "cell_type": "code",
   "execution_count": 127,
   "metadata": {},
   "outputs": [
    {
     "data": {
      "text/html": "<div>\n<style scoped>\n    .dataframe tbody tr th:only-of-type {\n        vertical-align: middle;\n    }\n\n    .dataframe tbody tr th {\n        vertical-align: top;\n    }\n\n    .dataframe thead th {\n        text-align: right;\n    }\n</style>\n<table border=\"1\" class=\"dataframe\">\n  <thead>\n    <tr style=\"text-align: right;\">\n      <th></th>\n      <th>column_name</th>\n    </tr>\n  </thead>\n  <tbody>\n    <tr>\n      <td>0</td>\n      <td>country</td>\n    </tr>\n    <tr>\n      <td>1</td>\n      <td>continent</td>\n    </tr>\n    <tr>\n      <td>2</td>\n      <td>year</td>\n    </tr>\n    <tr>\n      <td>3</td>\n      <td>lifeExp</td>\n    </tr>\n    <tr>\n      <td>4</td>\n      <td>pop</td>\n    </tr>\n    <tr>\n      <td>5</td>\n      <td>gdpPercap</td>\n    </tr>\n    <tr>\n      <td>6</td>\n      <td>model_object</td>\n    </tr>\n    <tr>\n      <td>7</td>\n      <td>b0_intercept</td>\n    </tr>\n    <tr>\n      <td>8</td>\n      <td>b1_gdpPercap</td>\n    </tr>\n    <tr>\n      <td>9</td>\n      <td>b1_p</td>\n    </tr>\n    <tr>\n      <td>10</td>\n      <td>adj_rsq</td>\n    </tr>\n  </tbody>\n</table>\n</div>",
      "text/plain": "     column_name\n0        country\n1      continent\n2           year\n3        lifeExp\n4            pop\n5      gdpPercap\n6   model_object\n7   b0_intercept\n8   b1_gdpPercap\n9           b1_p\n10       adj_rsq"
     },
     "execution_count": 127,
     "metadata": {},
     "output_type": "execute_result"
    }
   ],
   "source": [
    "def col_number(df):\n",
    "    names = list(df.columns)\n",
    "    type = [x.type() for x in df.columns]\n",
    "    return pd.DataFrame({'column_name':names})\n",
    "    \n",
    "col_number(master)"
   ]
  },
  {
   "cell_type": "code",
   "execution_count": null,
   "metadata": {},
   "outputs": [],
   "source": []
  }
 ],
 "metadata": {
  "kernelspec": {
   "display_name": "Python 3.7.4 64-bit ('base': conda)",
   "name": "python374jvsc74a57bd0dca0ade3e726a953b501b15e8e990130d2b7799f14cfd9f4271676035ebe5511"
  },
  "language_info": {
   "codemirror_mode": {
    "name": "ipython",
    "version": 3
   },
   "file_extension": ".py",
   "mimetype": "text/x-python",
   "name": "python",
   "nbconvert_exporter": "python",
   "pygments_lexer": "ipython3",
   "version": "3.7.4"
  },
  "orig_nbformat": 2
 },
 "nbformat": 4,
 "nbformat_minor": 2
}