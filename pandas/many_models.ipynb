{
 "cells": [
  {
   "cell_type": "code",
   "execution_count": 1,
   "metadata": {},
   "outputs": [],
   "source": [
    "import pandas as pd\n",
    "import statsmodels.api as sm"
   ]
  },
  {
   "cell_type": "code",
   "execution_count": 2,
   "metadata": {},
   "outputs": [],
   "source": [
    "df = pd.read_csv(\"data/my_gm.csv\")"
   ]
  },
  {
   "cell_type": "code",
   "execution_count": 18,
   "metadata": {},
   "outputs": [
    {
     "data": {
      "text/plain": "<statsmodels.regression.linear_model.RegressionResultsWrapper at 0x7ff392d84950>"
     },
     "execution_count": 18,
     "metadata": {},
     "output_type": "execute_result"
    }
   ],
   "source": [
    "def new_ols(df):\n",
    "    matrix = df['gdpPercap']\n",
    "    model_matrix = sm.add_constant(matrix)\n",
    "    y = df['lifeExp']\n",
    "    model = sm.OLS(y, model_matrix)\n",
    "    results = model.fit()\n",
    "    return results\n",
    "    \n",
    "new_ols(df)"
   ]
  },
  {
   "cell_type": "code",
   "execution_count": 15,
   "metadata": {},
   "outputs": [
    {
     "name": "stderr",
     "output_type": "stream",
     "text": [
      "/opt/anaconda3/lib/python3.7/site-packages/numpy/core/fromnumeric.py:2495: FutureWarning: Method .ptp is deprecated and will be removed in a future version. Use numpy.ptp instead.\n",
      "  return ptp(axis=axis, out=out, **kwargs)\n"
     ]
    },
    {
     "ename": "AttributeError",
     "evalue": "'OLSResults' object has no attribute 'params1'",
     "output_type": "error",
     "traceback": [
      "\u001b[0;31m---------------------------------------------------------------------------\u001b[0m",
      "\u001b[0;31mAttributeError\u001b[0m                            Traceback (most recent call last)",
      "\u001b[0;32m<ipython-input-15-c88858672619>\u001b[0m in \u001b[0;36m<module>\u001b[0;34m\u001b[0m\n\u001b[1;32m      8\u001b[0m \u001b[0;34m\u001b[0m\u001b[0m\n\u001b[1;32m      9\u001b[0m \u001b[0mout\u001b[0m \u001b[0;34m=\u001b[0m\u001b[0mnew_intercept\u001b[0m\u001b[0;34m(\u001b[0m\u001b[0mdf\u001b[0m\u001b[0;34m)\u001b[0m\u001b[0;34m\u001b[0m\u001b[0;34m\u001b[0m\u001b[0m\n\u001b[0;32m---> 10\u001b[0;31m \u001b[0mpd\u001b[0m\u001b[0;34m.\u001b[0m\u001b[0mDataFrame\u001b[0m\u001b[0;34m(\u001b[0m\u001b[0;34m{\u001b[0m\u001b[0;34m'slope'\u001b[0m\u001b[0;34m:\u001b[0m \u001b[0mout\u001b[0m\u001b[0;34m.\u001b[0m\u001b[0mparams1\u001b[0m\u001b[0;34m}\u001b[0m\u001b[0;34m)\u001b[0m\u001b[0;34m\u001b[0m\u001b[0;34m\u001b[0m\u001b[0m\n\u001b[0m",
      "\u001b[0;32m/opt/anaconda3/lib/python3.7/site-packages/statsmodels/base/wrapper.py\u001b[0m in \u001b[0;36m__getattribute__\u001b[0;34m(self, attr)\u001b[0m\n\u001b[1;32m     33\u001b[0m             \u001b[0;32mpass\u001b[0m\u001b[0;34m\u001b[0m\u001b[0;34m\u001b[0m\u001b[0m\n\u001b[1;32m     34\u001b[0m \u001b[0;34m\u001b[0m\u001b[0m\n\u001b[0;32m---> 35\u001b[0;31m         \u001b[0mobj\u001b[0m \u001b[0;34m=\u001b[0m \u001b[0mgetattr\u001b[0m\u001b[0;34m(\u001b[0m\u001b[0mresults\u001b[0m\u001b[0;34m,\u001b[0m \u001b[0mattr\u001b[0m\u001b[0;34m)\u001b[0m\u001b[0;34m\u001b[0m\u001b[0;34m\u001b[0m\u001b[0m\n\u001b[0m\u001b[1;32m     36\u001b[0m         \u001b[0mdata\u001b[0m \u001b[0;34m=\u001b[0m \u001b[0mresults\u001b[0m\u001b[0;34m.\u001b[0m\u001b[0mmodel\u001b[0m\u001b[0;34m.\u001b[0m\u001b[0mdata\u001b[0m\u001b[0;34m\u001b[0m\u001b[0;34m\u001b[0m\u001b[0m\n\u001b[1;32m     37\u001b[0m         \u001b[0mhow\u001b[0m \u001b[0;34m=\u001b[0m \u001b[0mself\u001b[0m\u001b[0;34m.\u001b[0m\u001b[0m_wrap_attrs\u001b[0m\u001b[0;34m.\u001b[0m\u001b[0mget\u001b[0m\u001b[0;34m(\u001b[0m\u001b[0mattr\u001b[0m\u001b[0;34m)\u001b[0m\u001b[0;34m\u001b[0m\u001b[0;34m\u001b[0m\u001b[0m\n",
      "\u001b[0;31mAttributeError\u001b[0m: 'OLSResults' object has no attribute 'params1'"
     ]
    }
   ],
   "source": [
    "def new_intercept(df):\n",
    "    matrix = df['gdpPercap']\n",
    "    model_matrix = sm.add_constant(matrix)\n",
    "    y = df['lifeExp']\n",
    "    model = sm.OLS(y, model_matrix)\n",
    "    results = model.fit()\n",
    "    return results\n",
    "    \n",
    "out = new_intercept(df)\n",
    "pd.DataFrame({'slope': out.params})\n"
   ]
  },
  {
   "cell_type": "code",
   "execution_count": 37,
   "metadata": {},
   "outputs": [
    {
     "data": {
      "text/html": "<div>\n<style scoped>\n    .dataframe tbody tr th:only-of-type {\n        vertical-align: middle;\n    }\n\n    .dataframe tbody tr th {\n        vertical-align: top;\n    }\n\n    .dataframe thead th {\n        text-align: right;\n    }\n</style>\n<table border=\"1\" class=\"dataframe\">\n  <thead>\n    <tr style=\"text-align: right;\">\n      <th></th>\n      <th>gdpPercap</th>\n      <th>b0_intercept</th>\n      <th>b1_gdpPercap</th>\n      <th>b1_p</th>\n      <th>adj_rsq</th>\n    </tr>\n    <tr>\n      <th>country</th>\n      <th></th>\n      <th></th>\n      <th></th>\n      <th></th>\n      <th></th>\n    </tr>\n  </thead>\n  <tbody>\n    <tr>\n      <td>Botswana</td>\n      <td>&lt;statsmodels.regression.linear_model.Regressio...</td>\n      <td>54.557534</td>\n      <td>0.000008</td>\n      <td>0.986227</td>\n      <td>0.000031</td>\n    </tr>\n    <tr>\n      <td>Mozambique</td>\n      <td>&lt;statsmodels.regression.linear_model.Regressio...</td>\n      <td>40.144000</td>\n      <td>0.000434</td>\n      <td>0.970059</td>\n      <td>0.000148</td>\n    </tr>\n    <tr>\n      <td>Togo</td>\n      <td>&lt;statsmodels.regression.linear_model.Regressio...</td>\n      <td>50.856992</td>\n      <td>0.000556</td>\n      <td>0.946991</td>\n      <td>0.000465</td>\n    </tr>\n    <tr>\n      <td>Afghanistan</td>\n      <td>&lt;statsmodels.regression.linear_model.Regressio...</td>\n      <td>39.277201</td>\n      <td>-0.002240</td>\n      <td>0.883342</td>\n      <td>0.002261</td>\n    </tr>\n    <tr>\n      <td>Ghana</td>\n      <td>&lt;statsmodels.regression.linear_model.Regressio...</td>\n      <td>49.887921</td>\n      <td>0.002348</td>\n      <td>0.856537</td>\n      <td>0.003430</td>\n    </tr>\n    <tr>\n      <td>Lesotho</td>\n      <td>&lt;statsmodels.regression.linear_model.Regressio...</td>\n      <td>48.741192</td>\n      <td>0.001622</td>\n      <td>0.731632</td>\n      <td>0.012287</td>\n    </tr>\n    <tr>\n      <td>Rwanda</td>\n      <td>&lt;statsmodels.regression.linear_model.Regressio...</td>\n      <td>37.490506</td>\n      <td>0.005907</td>\n      <td>0.679841</td>\n      <td>0.017742</td>\n    </tr>\n    <tr>\n      <td>Libya</td>\n      <td>&lt;statsmodels.regression.linear_model.Regressio...</td>\n      <td>55.985062</td>\n      <td>0.000276</td>\n      <td>0.623543</td>\n      <td>0.025004</td>\n    </tr>\n    <tr>\n      <td>Sierra Leone</td>\n      <td>&lt;statsmodels.regression.linear_model.Regressio...</td>\n      <td>39.673322</td>\n      <td>-0.002707</td>\n      <td>0.551617</td>\n      <td>0.036566</td>\n    </tr>\n    <tr>\n      <td>Uganda</td>\n      <td>&lt;statsmodels.regression.linear_model.Regressio...</td>\n      <td>42.621940</td>\n      <td>0.006166</td>\n      <td>0.494033</td>\n      <td>0.047968</td>\n    </tr>\n    <tr>\n      <td>Senegal</td>\n      <td>&lt;statsmodels.regression.linear_model.Regressio...</td>\n      <td>79.904752</td>\n      <td>-0.019098</td>\n      <td>0.491683</td>\n      <td>0.048479</td>\n    </tr>\n    <tr>\n      <td>Congo, Dem. Rep.</td>\n      <td>&lt;statsmodels.regression.linear_model.Regressio...</td>\n      <td>46.167589</td>\n      <td>-0.002505</td>\n      <td>0.481586</td>\n      <td>0.050719</td>\n    </tr>\n    <tr>\n      <td>Chad</td>\n      <td>&lt;statsmodels.regression.linear_model.Regressio...</td>\n      <td>53.646782</td>\n      <td>-0.005897</td>\n      <td>0.381344</td>\n      <td>0.077374</td>\n    </tr>\n    <tr>\n      <td>Angola</td>\n      <td>&lt;statsmodels.regression.linear_model.Regressio...</td>\n      <td>41.614373</td>\n      <td>-0.001034</td>\n      <td>0.341620</td>\n      <td>0.090649</td>\n    </tr>\n    <tr>\n      <td>Sudan</td>\n      <td>&lt;statsmodels.regression.linear_model.Regressio...</td>\n      <td>35.765496</td>\n      <td>0.006886</td>\n      <td>0.310924</td>\n      <td>0.102264</td>\n    </tr>\n    <tr>\n      <td>Gambia</td>\n      <td>&lt;statsmodels.regression.linear_model.Regressio...</td>\n      <td>25.132790</td>\n      <td>0.028329</td>\n      <td>0.310863</td>\n      <td>0.102288</td>\n    </tr>\n    <tr>\n      <td>Comoros</td>\n      <td>&lt;statsmodels.regression.linear_model.Regressio...</td>\n      <td>66.851026</td>\n      <td>-0.011008</td>\n      <td>0.192943</td>\n      <td>0.163089</td>\n    </tr>\n    <tr>\n      <td>Guinea-Bissau</td>\n      <td>&lt;statsmodels.regression.linear_model.Regressio...</td>\n      <td>31.526894</td>\n      <td>0.011781</td>\n      <td>0.191456</td>\n      <td>0.164088</td>\n    </tr>\n    <tr>\n      <td>Zimbabwe</td>\n      <td>&lt;statsmodels.regression.linear_model.Regressio...</td>\n      <td>38.580853</td>\n      <td>0.022147</td>\n      <td>0.175545</td>\n      <td>0.175291</td>\n    </tr>\n    <tr>\n      <td>Iraq</td>\n      <td>&lt;statsmodels.regression.linear_model.Regressio...</td>\n      <td>51.983802</td>\n      <td>0.000589</td>\n      <td>0.167776</td>\n      <td>0.181134</td>\n    </tr>\n    <tr>\n      <td>Swaziland</td>\n      <td>&lt;statsmodels.regression.linear_model.Regressio...</td>\n      <td>41.177711</td>\n      <td>0.002474</td>\n      <td>0.155246</td>\n      <td>0.191146</td>\n    </tr>\n    <tr>\n      <td>Liberia</td>\n      <td>&lt;statsmodels.regression.linear_model.Regressio...</td>\n      <td>49.232093</td>\n      <td>-0.011170</td>\n      <td>0.135204</td>\n      <td>0.208919</td>\n    </tr>\n    <tr>\n      <td>Nicaragua</td>\n      <td>&lt;statsmodels.regression.linear_model.Regressio...</td>\n      <td>74.257411</td>\n      <td>-0.004645</td>\n      <td>0.111813</td>\n      <td>0.233159</td>\n    </tr>\n    <tr>\n      <td>Venezuela</td>\n      <td>&lt;statsmodels.regression.linear_model.Regressio...</td>\n      <td>46.042475</td>\n      <td>0.002036</td>\n      <td>0.104265</td>\n      <td>0.242006</td>\n    </tr>\n    <tr>\n      <td>Myanmar</td>\n      <td>&lt;statsmodels.regression.linear_model.Regressio...</td>\n      <td>43.002556</td>\n      <td>0.023488</td>\n      <td>0.101947</td>\n      <td>0.244843</td>\n    </tr>\n    <tr>\n      <td>Somalia</td>\n      <td>&lt;statsmodels.regression.linear_model.Regressio...</td>\n      <td>54.560243</td>\n      <td>-0.011897</td>\n      <td>0.093824</td>\n      <td>0.255278</td>\n    </tr>\n    <tr>\n      <td>Cuba</td>\n      <td>&lt;statsmodels.regression.linear_model.Regressio...</td>\n      <td>54.035562</td>\n      <td>0.002707</td>\n      <td>0.092570</td>\n      <td>0.256961</td>\n    </tr>\n    <tr>\n      <td>South Africa</td>\n      <td>&lt;statsmodels.regression.linear_model.Regressio...</td>\n      <td>38.124176</td>\n      <td>0.002190</td>\n      <td>0.078168</td>\n      <td>0.277962</td>\n    </tr>\n    <tr>\n      <td>Djibouti</td>\n      <td>&lt;statsmodels.regression.linear_model.Regressio...</td>\n      <td>66.145944</td>\n      <td>-0.007326</td>\n      <td>0.044237</td>\n      <td>0.346024</td>\n    </tr>\n    <tr>\n      <td>Saudi Arabia</td>\n      <td>&lt;statsmodels.regression.linear_model.Regressio...</td>\n      <td>42.149580</td>\n      <td>0.000816</td>\n      <td>0.038653</td>\n      <td>0.361491</td>\n    </tr>\n  </tbody>\n</table>\n</div>",
      "text/plain": "                                                          gdpPercap  \\\ncountry                                                               \nBotswana          <statsmodels.regression.linear_model.Regressio...   \nMozambique        <statsmodels.regression.linear_model.Regressio...   \nTogo              <statsmodels.regression.linear_model.Regressio...   \nAfghanistan       <statsmodels.regression.linear_model.Regressio...   \nGhana             <statsmodels.regression.linear_model.Regressio...   \nLesotho           <statsmodels.regression.linear_model.Regressio...   \nRwanda            <statsmodels.regression.linear_model.Regressio...   \nLibya             <statsmodels.regression.linear_model.Regressio...   \nSierra Leone      <statsmodels.regression.linear_model.Regressio...   \nUganda            <statsmodels.regression.linear_model.Regressio...   \nSenegal           <statsmodels.regression.linear_model.Regressio...   \nCongo, Dem. Rep.  <statsmodels.regression.linear_model.Regressio...   \nChad              <statsmodels.regression.linear_model.Regressio...   \nAngola            <statsmodels.regression.linear_model.Regressio...   \nSudan             <statsmodels.regression.linear_model.Regressio...   \nGambia            <statsmodels.regression.linear_model.Regressio...   \nComoros           <statsmodels.regression.linear_model.Regressio...   \nGuinea-Bissau     <statsmodels.regression.linear_model.Regressio...   \nZimbabwe          <statsmodels.regression.linear_model.Regressio...   \nIraq              <statsmodels.regression.linear_model.Regressio...   \nSwaziland         <statsmodels.regression.linear_model.Regressio...   \nLiberia           <statsmodels.regression.linear_model.Regressio...   \nNicaragua         <statsmodels.regression.linear_model.Regressio...   \nVenezuela         <statsmodels.regression.linear_model.Regressio...   \nMyanmar           <statsmodels.regression.linear_model.Regressio...   \nSomalia           <statsmodels.regression.linear_model.Regressio...   \nCuba              <statsmodels.regression.linear_model.Regressio...   \nSouth Africa      <statsmodels.regression.linear_model.Regressio...   \nDjibouti          <statsmodels.regression.linear_model.Regressio...   \nSaudi Arabia      <statsmodels.regression.linear_model.Regressio...   \n\n                  b0_intercept  b1_gdpPercap      b1_p   adj_rsq  \ncountry                                                           \nBotswana             54.557534      0.000008  0.986227  0.000031  \nMozambique           40.144000      0.000434  0.970059  0.000148  \nTogo                 50.856992      0.000556  0.946991  0.000465  \nAfghanistan          39.277201     -0.002240  0.883342  0.002261  \nGhana                49.887921      0.002348  0.856537  0.003430  \nLesotho              48.741192      0.001622  0.731632  0.012287  \nRwanda               37.490506      0.005907  0.679841  0.017742  \nLibya                55.985062      0.000276  0.623543  0.025004  \nSierra Leone         39.673322     -0.002707  0.551617  0.036566  \nUganda               42.621940      0.006166  0.494033  0.047968  \nSenegal              79.904752     -0.019098  0.491683  0.048479  \nCongo, Dem. Rep.     46.167589     -0.002505  0.481586  0.050719  \nChad                 53.646782     -0.005897  0.381344  0.077374  \nAngola               41.614373     -0.001034  0.341620  0.090649  \nSudan                35.765496      0.006886  0.310924  0.102264  \nGambia               25.132790      0.028329  0.310863  0.102288  \nComoros              66.851026     -0.011008  0.192943  0.163089  \nGuinea-Bissau        31.526894      0.011781  0.191456  0.164088  \nZimbabwe             38.580853      0.022147  0.175545  0.175291  \nIraq                 51.983802      0.000589  0.167776  0.181134  \nSwaziland            41.177711      0.002474  0.155246  0.191146  \nLiberia              49.232093     -0.011170  0.135204  0.208919  \nNicaragua            74.257411     -0.004645  0.111813  0.233159  \nVenezuela            46.042475      0.002036  0.104265  0.242006  \nMyanmar              43.002556      0.023488  0.101947  0.244843  \nSomalia              54.560243     -0.011897  0.093824  0.255278  \nCuba                 54.035562      0.002707  0.092570  0.256961  \nSouth Africa         38.124176      0.002190  0.078168  0.277962  \nDjibouti             66.145944     -0.007326  0.044237  0.346024  \nSaudi Arabia         42.149580      0.000816  0.038653  0.361491  "
     },
     "execution_count": 37,
     "metadata": {},
     "output_type": "execute_result"
    }
   ],
   "source": [
    "country_groups = df.groupby(['country'])\n",
    "\n",
    "country_reg = country_groups[['gdpPercap']].agg(new_ols)\n",
    "country_reg\n",
    "country_reg['b0_intercept'] = [x.params[0] for x in country_reg.gdpPercap]\n",
    "country_reg['b1_gdpPercap'] = [x.params[1] for x in country_reg.gdpPercap]\n",
    "country_reg['b1_p'] = [x.pvalues[1] for x in country_reg.gdpPercap]\n",
    "country_reg['adj_rsq'] = [x.rsquared for x in country_reg.gdpPercap]\n",
    "\n",
    "country_reg.sort_values('adj_rsq',ascending=True).head(30)\n"
   ]
  },
  {
   "cell_type": "code",
   "execution_count": 7,
   "metadata": {},
   "outputs": [
    {
     "ename": "NameError",
     "evalue": "name 'afg' is not defined",
     "output_type": "error",
     "traceback": [
      "\u001b[0;31m---------------------------------------------------------------------------\u001b[0m",
      "\u001b[0;31mNameError\u001b[0m                                 Traceback (most recent call last)",
      "\u001b[0;32m<ipython-input-7-da00196f7318>\u001b[0m in \u001b[0;36m<module>\u001b[0;34m\u001b[0m\n\u001b[0;32m----> 1\u001b[0;31m \u001b[0mnew_ols\u001b[0m\u001b[0;34m(\u001b[0m\u001b[0mdf\u001b[0m \u001b[0;34m=\u001b[0m \u001b[0mafg\u001b[0m\u001b[0;34m)\u001b[0m\u001b[0;34m\u001b[0m\u001b[0;34m\u001b[0m\u001b[0m\n\u001b[0m",
      "\u001b[0;31mNameError\u001b[0m: name 'afg' is not defined"
     ]
    }
   ],
   "source": [
    "new_ols(df = afg)"
   ]
  }
 ],
 "metadata": {
  "kernelspec": {
   "display_name": "Python 3.7.4 64-bit ('base': conda)",
   "name": "python374jvsc74a57bd0dca0ade3e726a953b501b15e8e990130d2b7799f14cfd9f4271676035ebe5511"
  },
  "language_info": {
   "name": "python",
   "version": ""
  },
  "orig_nbformat": 2
 },
 "nbformat": 4,
 "nbformat_minor": 2
}