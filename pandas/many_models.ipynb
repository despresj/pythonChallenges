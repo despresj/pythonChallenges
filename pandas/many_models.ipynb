{
 "cells": [
  {
   "cell_type": "code",
   "execution_count": 12,
   "metadata": {},
   "outputs": [],
   "source": [
    "import pandas as pd\n",
    "import statsmodels.api as sm"
   ]
  },
  {
   "cell_type": "code",
   "execution_count": 4,
   "metadata": {},
   "outputs": [],
   "source": [
    "df = pd.read_csv(\"data/my_gm.csv\")"
   ]
  },
  {
   "cell_type": "code",
   "execution_count": 21,
   "metadata": {},
   "outputs": [
    {
     "name": "stderr",
     "output_type": "stream",
     "text": [
      "/opt/anaconda3/lib/python3.7/site-packages/numpy/core/fromnumeric.py:2495: FutureWarning: Method .ptp is deprecated and will be removed in a future version. Use numpy.ptp instead.\n",
      "  return ptp(axis=axis, out=out, **kwargs)\n"
     ]
    },
    {
     "data": {
      "text/html": "<div>\n<style scoped>\n    .dataframe tbody tr th:only-of-type {\n        vertical-align: middle;\n    }\n\n    .dataframe tbody tr th {\n        vertical-align: top;\n    }\n\n    .dataframe thead th {\n        text-align: right;\n    }\n</style>\n<table border=\"1\" class=\"dataframe\">\n  <thead>\n    <tr style=\"text-align: right;\">\n      <th></th>\n      <th>const</th>\n      <th>gdpPercap</th>\n    </tr>\n  </thead>\n  <tbody>\n    <tr>\n      <td>0</td>\n      <td>1.0</td>\n      <td>779.445314</td>\n    </tr>\n    <tr>\n      <td>1</td>\n      <td>1.0</td>\n      <td>820.853030</td>\n    </tr>\n    <tr>\n      <td>2</td>\n      <td>1.0</td>\n      <td>853.100710</td>\n    </tr>\n    <tr>\n      <td>3</td>\n      <td>1.0</td>\n      <td>836.197138</td>\n    </tr>\n    <tr>\n      <td>4</td>\n      <td>1.0</td>\n      <td>739.981106</td>\n    </tr>\n    <tr>\n      <td>...</td>\n      <td>...</td>\n      <td>...</td>\n    </tr>\n    <tr>\n      <td>1699</td>\n      <td>1.0</td>\n      <td>706.157306</td>\n    </tr>\n    <tr>\n      <td>1700</td>\n      <td>1.0</td>\n      <td>693.420786</td>\n    </tr>\n    <tr>\n      <td>1701</td>\n      <td>1.0</td>\n      <td>792.449960</td>\n    </tr>\n    <tr>\n      <td>1702</td>\n      <td>1.0</td>\n      <td>672.038623</td>\n    </tr>\n    <tr>\n      <td>1703</td>\n      <td>1.0</td>\n      <td>469.709298</td>\n    </tr>\n  </tbody>\n</table>\n<p>1704 rows × 2 columns</p>\n</div>",
      "text/plain": "      const   gdpPercap\n0       1.0  779.445314\n1       1.0  820.853030\n2       1.0  853.100710\n3       1.0  836.197138\n4       1.0  739.981106\n...     ...         ...\n1699    1.0  706.157306\n1700    1.0  693.420786\n1701    1.0  792.449960\n1702    1.0  672.038623\n1703    1.0  469.709298\n\n[1704 rows x 2 columns]"
     },
     "execution_count": 21,
     "metadata": {},
     "output_type": "execute_result"
    }
   ],
   "source": [
    "matrix = df[['gdpPercap']]\n",
    "y = df['lifeExp']\n",
    "model_matrix = sm.add_constant(matrix)\n",
    "model_matrix"
   ]
  },
  {
   "cell_type": "code",
   "execution_count": 77,
   "metadata": {},
   "outputs": [
    {
     "data": {
      "text/plain": "const        53.955561\ngdpPercap     0.000765\ndtype: float64"
     },
     "execution_count": 77,
     "metadata": {},
     "output_type": "execute_result"
    }
   ],
   "source": [
    "def new_ols(df):\n",
    "    matrix = df['gdpPercap']\n",
    "    model_matrix = sm.add_constant(matrix)\n",
    "    y = df['lifeExp']\n",
    "    model = sm.OLS(y, model_matrix)\n",
    "    results = model.fit()\n",
    "    return results.params\n",
    "    \n",
    "new_ols(df)\n"
   ]
  },
  {
   "cell_type": "code",
   "execution_count": 83,
   "metadata": {},
   "outputs": [
    {
     "data": {
      "text/plain": "53.955560876340336"
     },
     "execution_count": 83,
     "metadata": {},
     "output_type": "execute_result"
    }
   ],
   "source": [
    "def new_intercept(df):\n",
    "    matrix = df['gdpPercap']\n",
    "    model_matrix = sm.add_constant(matrix)\n",
    "    y = df['lifeExp']\n",
    "    model = sm.OLS(y, model_matrix)\n",
    "    results = model.fit()\n",
    "    return results.params[0]\n",
    "    \n",
    "new_intercept(df)"
   ]
  },
  {
   "cell_type": "code",
   "execution_count": 85,
   "metadata": {},
   "outputs": [
    {
     "name": "stderr",
     "output_type": "stream",
     "text": [
      "/opt/anaconda3/lib/python3.7/site-packages/numpy/core/fromnumeric.py:2495: FutureWarning: Method .ptp is deprecated and will be removed in a future version. Use numpy.ptp instead.\n",
      "  return ptp(axis=axis, out=out, **kwargs)\n"
     ]
    },
    {
     "data": {
      "text/html": "<div>\n<style scoped>\n    .dataframe tbody tr th:only-of-type {\n        vertical-align: middle;\n    }\n\n    .dataframe tbody tr th {\n        vertical-align: top;\n    }\n\n    .dataframe thead th {\n        text-align: right;\n    }\n</style>\n<table border=\"1\" class=\"dataframe\">\n  <thead>\n    <tr style=\"text-align: right;\">\n      <th></th>\n      <th>gdpPercap</th>\n    </tr>\n    <tr>\n      <th>country</th>\n      <th></th>\n    </tr>\n  </thead>\n  <tbody>\n    <tr>\n      <td>Afghanistan</td>\n      <td>-0.002240</td>\n    </tr>\n    <tr>\n      <td>Albania</td>\n      <td>0.004439</td>\n    </tr>\n    <tr>\n      <td>Algeria</td>\n      <td>0.007137</td>\n    </tr>\n    <tr>\n      <td>Angola</td>\n      <td>-0.001034</td>\n    </tr>\n    <tr>\n      <td>Argentina</td>\n      <td>0.001869</td>\n    </tr>\n    <tr>\n      <td>...</td>\n      <td>...</td>\n    </tr>\n    <tr>\n      <td>Vietnam</td>\n      <td>0.016958</td>\n    </tr>\n    <tr>\n      <td>West Bank and Gaza</td>\n      <td>0.005122</td>\n    </tr>\n    <tr>\n      <td>Yemen, Rep.</td>\n      <td>0.017260</td>\n    </tr>\n    <tr>\n      <td>Zambia</td>\n      <td>0.012040</td>\n    </tr>\n    <tr>\n      <td>Zimbabwe</td>\n      <td>0.022147</td>\n    </tr>\n  </tbody>\n</table>\n<p>142 rows × 1 columns</p>\n</div>",
      "text/plain": "                    gdpPercap\ncountry                      \nAfghanistan         -0.002240\nAlbania              0.004439\nAlgeria              0.007137\nAngola              -0.001034\nArgentina            0.001869\n...                       ...\nVietnam              0.016958\nWest Bank and Gaza   0.005122\nYemen, Rep.          0.017260\nZambia               0.012040\nZimbabwe             0.022147\n\n[142 rows x 1 columns]"
     },
     "execution_count": 85,
     "metadata": {},
     "output_type": "execute_result"
    }
   ],
   "source": [
    "country_groups = df.groupby(['country'])\n",
    "\n",
    "country_groups[['gdpPercap']].agg(new_ols)\n",
    "# afg = country_groups.get_group(\"Afghanistan\")\n",
    "# new_ols(df = afg)\n",
    "# country_groups.transform(new_ols)"
   ]
  },
  {
   "cell_type": "code",
   "execution_count": 67,
   "metadata": {},
   "outputs": [
    {
     "data": {
      "text/plain": "-0.0022404693285363875"
     },
     "execution_count": 67,
     "metadata": {},
     "output_type": "execute_result"
    }
   ],
   "source": [
    "new_ols(df = afg)"
   ]
  }
 ],
 "metadata": {
  "kernelspec": {
   "display_name": "Python 3.7.4 64-bit ('base': conda)",
   "name": "python374jvsc74a57bd0dca0ade3e726a953b501b15e8e990130d2b7799f14cfd9f4271676035ebe5511"
  },
  "language_info": {
   "codemirror_mode": {
    "name": "ipython",
    "version": 3
   },
   "file_extension": ".py",
   "mimetype": "text/x-python",
   "name": "python",
   "nbconvert_exporter": "python",
   "pygments_lexer": "ipython3",
   "version": "3.7.4"
  },
  "orig_nbformat": 2
 },
 "nbformat": 4,
 "nbformat_minor": 2
}