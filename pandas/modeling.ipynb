{
 "cells": [
  {
   "cell_type": "markdown",
   "metadata": {},
   "source": [
    "## Analysis of professor ratings"
   ]
  },
  {
   "cell_type": "code",
   "execution_count": 175,
   "metadata": {},
   "outputs": [],
   "source": [
    "import pandas as pd\n",
    "import numpy as np\n",
    "import statsmodels.api as sm\n",
    "import matplotlib.pyplot as plt\n",
    "from pyprojroot import here\n",
    "\n",
    "df = pd.read_csv(here(\"pandas/data/evals-mod.csv\"))"
   ]
  },
  {
   "cell_type": "code",
   "execution_count": 176,
   "metadata": {},
   "outputs": [
    {
     "data": {
      "text/plain": "(array([ 1.,  1.,  0.,  2.,  0.,  0.,  0.,  2.,  0.,  3.,  0.,  2.,  5.,\n         0.,  6.,  0.,  4.,  0., 11.,  0., 11.,  0., 17.,  0., 20., 19.,\n         0., 19.,  0., 26.,  0., 24.,  0., 28.,  0., 22.,  0., 26., 43.,\n         0., 41.,  0., 34.,  0., 25.,  0., 35.,  0., 25., 11.]),\n array([2.3  , 2.354, 2.408, 2.462, 2.516, 2.57 , 2.624, 2.678, 2.732,\n        2.786, 2.84 , 2.894, 2.948, 3.002, 3.056, 3.11 , 3.164, 3.218,\n        3.272, 3.326, 3.38 , 3.434, 3.488, 3.542, 3.596, 3.65 , 3.704,\n        3.758, 3.812, 3.866, 3.92 , 3.974, 4.028, 4.082, 4.136, 4.19 ,\n        4.244, 4.298, 4.352, 4.406, 4.46 , 4.514, 4.568, 4.622, 4.676,\n        4.73 , 4.784, 4.838, 4.892, 4.946, 5.   ]),\n <BarContainer object of 50 artists>)"
     },
     "execution_count": 176,
     "metadata": {},
     "output_type": "execute_result"
    },
    {
     "data": {
      "image/png": "[encoded data removed]",
      "text/plain": "<Figure size 432x288 with 1 Axes>"
     },
     "metadata": {
      "needs_background": "light"
     },
     "output_type": "display_data"
    }
   ],
   "source": [
    "\n",
    "# get row wise average\n",
    "df['bty_avg'] = df.loc[:, 'bty_f1lower':'bty_m2upper'].mean(axis=1)\n",
    "\n",
    "plt.hist(df['bty_avg'], bins=50)\n",
    "plt.hist(df['score'], bins=50)\n",
    "\n",
    "# print(plot)\n",
    "\n",
    "# jupyter notebook"
   ]
  },
  {
   "cell_type": "code",
   "execution_count": 177,
   "metadata": {},
   "outputs": [],
   "source": [
    "X = df['bty_avg']\n",
    "X = sm.add_constant(X) \n",
    "y = df['score']\n"
   ]
  },
  {
   "cell_type": "code",
   "execution_count": 178,
   "metadata": {},
   "outputs": [],
   "source": [
    "model = sm.OLS(y, X)\n",
    "results = model.fit()"
   ]
  },
  {
   "cell_type": "code",
   "execution_count": 179,
   "metadata": {},
   "outputs": [
    {
     "name": "stdout",
     "output_type": "stream",
     "text": [
      "                            OLS Regression Results                            \n",
      "==============================================================================\n",
      "Dep. Variable:                  score   R-squared:                       0.035\n",
      "Model:                            OLS   Adj. R-squared:                  0.033\n",
      "Method:                 Least Squares   F-statistic:                     16.73\n",
      "Date:                Fri, 19 Mar 2021   Prob (F-statistic):           5.08e-05\n",
      "Time:                        08:14:27   Log-Likelihood:                -366.22\n",
      "No. Observations:                 463   AIC:                             736.4\n",
      "Df Residuals:                     461   BIC:                             744.7\n",
      "Df Model:                           1                                         \n",
      "Covariance Type:            nonrobust                                         \n",
      "==============================================================================\n",
      "                 coef    std err          t      P>|t|      [0.025      0.975]\n",
      "------------------------------------------------------------------------------\n",
      "const          3.8803      0.076     50.961      0.000       3.731       4.030\n",
      "bty_avg        0.0666      0.016      4.090      0.000       0.035       0.099\n",
      "==============================================================================\n",
      "Omnibus:                       33.007   Durbin-Watson:                   1.267\n",
      "Prob(Omnibus):                  0.000   Jarque-Bera (JB):               38.796\n",
      "Skew:                          -0.709   Prob(JB):                     3.76e-09\n",
      "Kurtosis:                       3.006   Cond. No.                         14.9\n",
      "==============================================================================\n",
      "\n",
      "Notes:\n",
      "[1] Standard Errors assume that the covariance matrix of the errors is correctly specified.\n"
     ]
    },
    {
     "data": {
      "text/plain": "const      3.880333\nbty_avg    0.066637\ndtype: float64"
     },
     "execution_count": 179,
     "metadata": {},
     "output_type": "execute_result"
    }
   ],
   "source": [
    "print(results.summary())\n",
    "results.params"
   ]
  },
  {
   "cell_type": "code",
   "execution_count": 180,
   "metadata": {},
   "outputs": [],
   "source": [
    "x1 = df['bty_avg']\n",
    "b0 = results.params[0] \n",
    "b1 = results.params[1]\n"
   ]
  },
  {
   "cell_type": "code",
   "execution_count": 181,
   "metadata": {},
   "outputs": [
    {
     "data": {
      "text/plain": "Text(7.1, 4.25, 'Slope: 0.067')"
     },
     "execution_count": 181,
     "metadata": {},
     "output_type": "execute_result"
    },
    {
     "data": {
      "image/png": "[encoded data removed]",
      "text/plain": "<Figure size 432x288 with 1 Axes>"
     },
     "metadata": {
      "needs_background": "light"
     },
     "output_type": "display_data"
    }
   ],
   "source": [
    "plot = plt.scatter(x=df['bty_avg'] , y= df['score'])\n",
    "plt.plot(df['bty_avg'], b0 + b1*x1, \"r\")\n",
    "plt.title(\"Relation between Score and Beauty\")\n",
    "plt.xlabel('Beauty Average', fontsize=18)\n",
    "plt.ylabel('Score', fontsize=16)\n",
    "plt.text(7.1, 4.25, \"Slope: 0.067\")"
   ]
  },
  {
   "cell_type": "markdown",
   "metadata": {},
   "source": [
    "## This model has an $R^2 = 0.035$"
   ]
  },
  {
   "cell_type": "code",
   "execution_count": 182,
   "metadata": {},
   "outputs": [
    {
     "data": {
      "text/plain": "0.03502"
     },
     "execution_count": 182,
     "metadata": {},
     "output_type": "execute_result"
    }
   ],
   "source": [
    "round(results.rsquared, 5)"
   ]
  },
  {
   "cell_type": "markdown",
   "metadata": {},
   "source": [
    "## OLS with Categroical Predictor"
   ]
  },
  {
   "cell_type": "code",
   "execution_count": 183,
   "metadata": {},
   "outputs": [],
   "source": [
    "X = pd.get_dummies(df['gender'], drop_first=True)\n",
    "X = sm.add_constant(X) \n",
    "model = sm.OLS(y, X)\n",
    "m_gen = model.fit()"
   ]
  },
  {
   "cell_type": "code",
   "execution_count": 184,
   "metadata": {},
   "outputs": [
    {
     "name": "stdout",
     "output_type": "stream",
     "text": [
      "                            OLS Regression Results                            \n",
      "==============================================================================\n",
      "Dep. Variable:                  score   R-squared:                       0.017\n",
      "Model:                            OLS   Adj. R-squared:                  0.014\n",
      "Method:                 Least Squares   F-statistic:                     7.753\n",
      "Date:                Fri, 19 Mar 2021   Prob (F-statistic):            0.00558\n",
      "Time:                        08:14:38   Log-Likelihood:                -370.61\n",
      "No. Observations:                 463   AIC:                             745.2\n",
      "Df Residuals:                     461   BIC:                             753.5\n",
      "Df Model:                           1                                         \n",
      "Covariance Type:            nonrobust                                         \n",
      "==============================================================================\n",
      "                 coef    std err          t      P>|t|      [0.025      0.975]\n",
      "------------------------------------------------------------------------------\n",
      "const          4.0928      0.039    105.852      0.000       4.017       4.169\n",
      "male           0.1415      0.051      2.784      0.006       0.042       0.241\n",
      "==============================================================================\n",
      "Omnibus:                       31.421   Durbin-Watson:                   1.204\n",
      "Prob(Omnibus):                  0.000   Jarque-Bera (JB):               36.460\n",
      "Skew:                          -0.687   Prob(JB):                     1.21e-08\n",
      "Kurtosis:                       3.062   Cond. No.                         2.85\n",
      "==============================================================================\n",
      "\n",
      "Notes:\n",
      "[1] Standard Errors assume that the covariance matrix of the errors is correctly specified.\n"
     ]
    }
   ],
   "source": [
    "print(m_gen.summary())"
   ]
  },
  {
   "cell_type": "code",
   "execution_count": 186,
   "metadata": {},
   "outputs": [],
   "source": [
    "X = pd.get_dummies(df['rank'])\n",
    "del X['teaching'] # reference category\n",
    "X = sm.add_constant(X)\n",
    "model = sm.OLS(y, X)\n",
    "m_rank = model.fit()"
   ]
  },
  {
   "cell_type": "code",
   "execution_count": 187,
   "metadata": {},
   "outputs": [
    {
     "data": {
      "text/html": "<table class=\"simpletable\">\n<caption>OLS Regression Results</caption>\n<tr>\n  <th>Dep. Variable:</th>          <td>score</td>      <th>  R-squared:         </th> <td>   0.012</td>\n</tr>\n<tr>\n  <th>Model:</th>                   <td>OLS</td>       <th>  Adj. R-squared:    </th> <td>   0.007</td>\n</tr>\n<tr>\n  <th>Method:</th>             <td>Least Squares</td>  <th>  F-statistic:       </th> <td>   2.706</td>\n</tr>\n<tr>\n  <th>Date:</th>             <td>Fri, 19 Mar 2021</td> <th>  Prob (F-statistic):</th>  <td>0.0679</td> \n</tr>\n<tr>\n  <th>Time:</th>                 <td>08:14:43</td>     <th>  Log-Likelihood:    </th> <td> -371.77</td>\n</tr>\n<tr>\n  <th>No. Observations:</th>      <td>   463</td>      <th>  AIC:               </th> <td>   749.5</td>\n</tr>\n<tr>\n  <th>Df Residuals:</th>          <td>   460</td>      <th>  BIC:               </th> <td>   761.9</td>\n</tr>\n<tr>\n  <th>Df Model:</th>              <td>     2</td>      <th>                     </th>     <td> </td>   \n</tr>\n<tr>\n  <th>Covariance Type:</th>      <td>nonrobust</td>    <th>                     </th>     <td> </td>   \n</tr>\n</table>\n<table class=\"simpletable\">\n<tr>\n        <td></td>          <th>coef</th>     <th>std err</th>      <th>t</th>      <th>P>|t|</th>  <th>[0.025</th>    <th>0.975]</th>  \n</tr>\n<tr>\n  <th>const</th>        <td>    4.2843</td> <td>    0.054</td> <td>   79.853</td> <td> 0.000</td> <td>    4.179</td> <td>    4.390</td>\n</tr>\n<tr>\n  <th>tenure track</th> <td>   -0.1297</td> <td>    0.075</td> <td>   -1.733</td> <td> 0.084</td> <td>   -0.277</td> <td>    0.017</td>\n</tr>\n<tr>\n  <th>tenured</th>      <td>   -0.1452</td> <td>    0.064</td> <td>   -2.284</td> <td> 0.023</td> <td>   -0.270</td> <td>   -0.020</td>\n</tr>\n</table>\n<table class=\"simpletable\">\n<tr>\n  <th>Omnibus:</th>       <td>31.248</td> <th>  Durbin-Watson:     </th> <td>   1.209</td>\n</tr>\n<tr>\n  <th>Prob(Omnibus):</th> <td> 0.000</td> <th>  Jarque-Bera (JB):  </th> <td>  36.425</td>\n</tr>\n<tr>\n  <th>Skew:</th>          <td>-0.687</td> <th>  Prob(JB):          </th> <td>1.23e-08</td>\n</tr>\n<tr>\n  <th>Kurtosis:</th>      <td> 2.968</td> <th>  Cond. No.          </th> <td>    4.71</td>\n</tr>\n</table><br/><br/>Notes:<br/>[1] Standard Errors assume that the covariance matrix of the errors is correctly specified.",
      "text/plain": "<class 'statsmodels.iolib.summary.Summary'>\n\"\"\"\n                            OLS Regression Results                            \n==============================================================================\nDep. Variable:                  score   R-squared:                       0.012\nModel:                            OLS   Adj. R-squared:                  0.007\nMethod:                 Least Squares   F-statistic:                     2.706\nDate:                Fri, 19 Mar 2021   Prob (F-statistic):             0.0679\nTime:                        08:14:43   Log-Likelihood:                -371.77\nNo. Observations:                 463   AIC:                             749.5\nDf Residuals:                     460   BIC:                             761.9\nDf Model:                           2                                         \nCovariance Type:            nonrobust                                         \n================================================================================\n                   coef    std err          t      P>|t|      [0.025      0.975]\n--------------------------------------------------------------------------------\nconst            4.2843      0.054     79.853      0.000       4.179       4.390\ntenure track    -0.1297      0.075     -1.733      0.084      -0.277       0.017\ntenured         -0.1452      0.064     -2.284      0.023      -0.270      -0.020\n==============================================================================\nOmnibus:                       31.248   Durbin-Watson:                   1.209\nProb(Omnibus):                  0.000   Jarque-Bera (JB):               36.425\nSkew:                          -0.687   Prob(JB):                     1.23e-08\nKurtosis:                       2.968   Cond. No.                         4.71\n==============================================================================\n\nNotes:\n[1] Standard Errors assume that the covariance matrix of the errors is correctly specified.\n\"\"\""
     },
     "execution_count": 187,
     "metadata": {},
     "output_type": "execute_result"
    }
   ],
   "source": [
    "m_rank.summary()"
   ]
  },
  {
   "cell_type": "code",
   "execution_count": 188,
   "metadata": {},
   "outputs": [
    {
     "data": {
      "text/html": "<table class=\"simpletable\">\n<caption>OLS Regression Results</caption>\n<tr>\n  <th>Dep. Variable:</th>          <td>score</td>      <th>  R-squared:         </th> <td>   0.012</td>\n</tr>\n<tr>\n  <th>Model:</th>                   <td>OLS</td>       <th>  Adj. R-squared:    </th> <td>   0.007</td>\n</tr>\n<tr>\n  <th>Method:</th>             <td>Least Squares</td>  <th>  F-statistic:       </th> <td>   2.706</td>\n</tr>\n<tr>\n  <th>Date:</th>             <td>Fri, 19 Mar 2021</td> <th>  Prob (F-statistic):</th>  <td>0.0679</td> \n</tr>\n<tr>\n  <th>Time:</th>                 <td>08:14:45</td>     <th>  Log-Likelihood:    </th> <td> -371.77</td>\n</tr>\n<tr>\n  <th>No. Observations:</th>      <td>   463</td>      <th>  AIC:               </th> <td>   749.5</td>\n</tr>\n<tr>\n  <th>Df Residuals:</th>          <td>   460</td>      <th>  BIC:               </th> <td>   761.9</td>\n</tr>\n<tr>\n  <th>Df Model:</th>              <td>     2</td>      <th>                     </th>     <td> </td>   \n</tr>\n<tr>\n  <th>Covariance Type:</th>      <td>nonrobust</td>    <th>                     </th>     <td> </td>   \n</tr>\n</table>\n<table class=\"simpletable\">\n<tr>\n      <td></td>        <th>coef</th>     <th>std err</th>      <th>t</th>      <th>P>|t|</th>  <th>[0.025</th>    <th>0.975]</th>  \n</tr>\n<tr>\n  <th>const</th>    <td>    4.1546</td> <td>    0.052</td> <td>   79.680</td> <td> 0.000</td> <td>    4.052</td> <td>    4.257</td>\n</tr>\n<tr>\n  <th>teaching</th> <td>    0.1297</td> <td>    0.075</td> <td>    1.733</td> <td> 0.084</td> <td>   -0.017</td> <td>    0.277</td>\n</tr>\n<tr>\n  <th>tenured</th>  <td>   -0.0155</td> <td>    0.062</td> <td>   -0.249</td> <td> 0.804</td> <td>   -0.138</td> <td>    0.107</td>\n</tr>\n</table>\n<table class=\"simpletable\">\n<tr>\n  <th>Omnibus:</th>       <td>31.248</td> <th>  Durbin-Watson:     </th> <td>   1.209</td>\n</tr>\n<tr>\n  <th>Prob(Omnibus):</th> <td> 0.000</td> <th>  Jarque-Bera (JB):  </th> <td>  36.425</td>\n</tr>\n<tr>\n  <th>Skew:</th>          <td>-0.687</td> <th>  Prob(JB):          </th> <td>1.23e-08</td>\n</tr>\n<tr>\n  <th>Kurtosis:</th>      <td> 2.968</td> <th>  Cond. No.          </th> <td>    4.61</td>\n</tr>\n</table><br/><br/>Notes:<br/>[1] Standard Errors assume that the covariance matrix of the errors is correctly specified.",
      "text/plain": "<class 'statsmodels.iolib.summary.Summary'>\n\"\"\"\n                            OLS Regression Results                            \n==============================================================================\nDep. Variable:                  score   R-squared:                       0.012\nModel:                            OLS   Adj. R-squared:                  0.007\nMethod:                 Least Squares   F-statistic:                     2.706\nDate:                Fri, 19 Mar 2021   Prob (F-statistic):             0.0679\nTime:                        08:14:45   Log-Likelihood:                -371.77\nNo. Observations:                 463   AIC:                             749.5\nDf Residuals:                     460   BIC:                             761.9\nDf Model:                           2                                         \nCovariance Type:            nonrobust                                         \n==============================================================================\n                 coef    std err          t      P>|t|      [0.025      0.975]\n------------------------------------------------------------------------------\nconst          4.1546      0.052     79.680      0.000       4.052       4.257\nteaching       0.1297      0.075      1.733      0.084      -0.017       0.277\ntenured       -0.0155      0.062     -0.249      0.804      -0.138       0.107\n==============================================================================\nOmnibus:                       31.248   Durbin-Watson:                   1.209\nProb(Omnibus):                  0.000   Jarque-Bera (JB):               36.425\nSkew:                          -0.687   Prob(JB):                     1.23e-08\nKurtosis:                       2.968   Cond. No.                         4.61\n==============================================================================\n\nNotes:\n[1] Standard Errors assume that the covariance matrix of the errors is correctly specified.\n\"\"\""
     },
     "execution_count": 188,
     "metadata": {},
     "output_type": "execute_result"
    }
   ],
   "source": [
    "X = pd.get_dummies(df['rank'])\n",
    "del X['tenure track'] # reference category\n",
    "X = sm.add_constant(X)\n",
    "model = sm.OLS(y, X)\n",
    "m_rank = model.fit()\n",
    "m_rank.summary()"
   ]
  },
  {
   "cell_type": "markdown",
   "metadata": {},
   "source": [
    "This tells us that newer professors score higher on average than tunured professors"
   ]
  },
  {
   "cell_type": "code",
   "execution_count": 214,
   "metadata": {},
   "outputs": [
    {
     "data": {
      "text/html": "<table class=\"simpletable\">\n<caption>OLS Regression Results</caption>\n<tr>\n  <th>Dep. Variable:</th>          <td>score</td>      <th>  R-squared:         </th> <td>   0.011</td>\n</tr>\n<tr>\n  <th>Model:</th>                   <td>OLS</td>       <th>  Adj. R-squared:    </th> <td>   0.009</td>\n</tr>\n<tr>\n  <th>Method:</th>             <td>Least Squares</td>  <th>  F-statistic:       </th> <td>   5.361</td>\n</tr>\n<tr>\n  <th>Date:</th>             <td>Fri, 19 Mar 2021</td> <th>  Prob (F-statistic):</th>  <td>0.0210</td> \n</tr>\n<tr>\n  <th>Time:</th>                 <td>08:19:38</td>     <th>  Log-Likelihood:    </th> <td> -371.80</td>\n</tr>\n<tr>\n  <th>No. Observations:</th>      <td>   463</td>      <th>  AIC:               </th> <td>   747.6</td>\n</tr>\n<tr>\n  <th>Df Residuals:</th>          <td>   461</td>      <th>  BIC:               </th> <td>   755.9</td>\n</tr>\n<tr>\n  <th>Df Model:</th>              <td>     1</td>      <th>                     </th>     <td> </td>   \n</tr>\n<tr>\n  <th>Covariance Type:</th>      <td>nonrobust</td>    <th>                     </th>     <td> </td>   \n</tr>\n</table>\n<table class=\"simpletable\">\n<tr>\n         <td></td>            <th>coef</th>     <th>std err</th>      <th>t</th>      <th>P>|t|</th>  <th>[0.025</th>    <th>0.975]</th>  \n</tr>\n<tr>\n  <th>const</th>           <td>    4.2843</td> <td>    0.054</td> <td>   79.934</td> <td> 0.000</td> <td>    4.179</td> <td>    4.390</td>\n</tr>\n<tr>\n  <th>tenure_eligible</th> <td>   -0.1405</td> <td>    0.061</td> <td>   -2.315</td> <td> 0.021</td> <td>   -0.260</td> <td>   -0.021</td>\n</tr>\n</table>\n<table class=\"simpletable\">\n<tr>\n  <th>Omnibus:</th>       <td>31.198</td> <th>  Durbin-Watson:     </th> <td>   1.208</td>\n</tr>\n<tr>\n  <th>Prob(Omnibus):</th> <td> 0.000</td> <th>  Jarque-Bera (JB):  </th> <td>  36.360</td>\n</tr>\n<tr>\n  <th>Skew:</th>          <td>-0.686</td> <th>  Prob(JB):          </th> <td>1.27e-08</td>\n</tr>\n<tr>\n  <th>Kurtosis:</th>      <td> 2.966</td> <th>  Cond. No.          </th> <td>    4.05</td>\n</tr>\n</table><br/><br/>Notes:<br/>[1] Standard Errors assume that the covariance matrix of the errors is correctly specified.",
      "text/plain": "<class 'statsmodels.iolib.summary.Summary'>\n\"\"\"\n                            OLS Regression Results                            \n==============================================================================\nDep. Variable:                  score   R-squared:                       0.011\nModel:                            OLS   Adj. R-squared:                  0.009\nMethod:                 Least Squares   F-statistic:                     5.361\nDate:                Fri, 19 Mar 2021   Prob (F-statistic):             0.0210\nTime:                        08:19:38   Log-Likelihood:                -371.80\nNo. Observations:                 463   AIC:                             747.6\nDf Residuals:                     461   BIC:                             755.9\nDf Model:                           1                                         \nCovariance Type:            nonrobust                                         \n===================================================================================\n                      coef    std err          t      P>|t|      [0.025      0.975]\n-----------------------------------------------------------------------------------\nconst               4.2843      0.054     79.934      0.000       4.179       4.390\ntenure_eligible    -0.1405      0.061     -2.315      0.021      -0.260      -0.021\n==============================================================================\nOmnibus:                       31.198   Durbin-Watson:                   1.208\nProb(Omnibus):                  0.000   Jarque-Bera (JB):               36.360\nSkew:                          -0.686   Prob(JB):                     1.27e-08\nKurtosis:                       2.966   Cond. No.                         4.05\n==============================================================================\n\nNotes:\n[1] Standard Errors assume that the covariance matrix of the errors is correctly specified.\n\"\"\""
     },
     "execution_count": 214,
     "metadata": {},
     "output_type": "execute_result"
    }
   ],
   "source": [
    "X = pd.get_dummies(df['rank'])\n",
    "X['tenure_eligible']  = X['tenure track'] + X['tenured']\n",
    "X = X['tenure_eligible']\n",
    "\n",
    "X = sm.add_constant(X)\n",
    "model = sm.OLS(y, X)\n",
    "m_rank = model.fit()\n",
    "m_rank.summary()"
   ]
  },
  {
   "cell_type": "code",
   "execution_count": 217,
   "metadata": {},
   "outputs": [
    {
     "data": {
      "text/html": "<table class=\"simpletable\">\n<caption>OLS Regression Results</caption>\n<tr>\n  <th>Dep. Variable:</th>          <td>score</td>      <th>  R-squared:         </th> <td>   0.011</td>\n</tr>\n<tr>\n  <th>Model:</th>                   <td>OLS</td>       <th>  Adj. R-squared:    </th> <td>   0.009</td>\n</tr>\n<tr>\n  <th>Method:</th>             <td>Least Squares</td>  <th>  F-statistic:       </th> <td>   5.361</td>\n</tr>\n<tr>\n  <th>Date:</th>             <td>Fri, 19 Mar 2021</td> <th>  Prob (F-statistic):</th>  <td>0.0210</td> \n</tr>\n<tr>\n  <th>Time:</th>                 <td>08:21:16</td>     <th>  Log-Likelihood:    </th> <td> -371.80</td>\n</tr>\n<tr>\n  <th>No. Observations:</th>      <td>   463</td>      <th>  AIC:               </th> <td>   747.6</td>\n</tr>\n<tr>\n  <th>Df Residuals:</th>          <td>   461</td>      <th>  BIC:               </th> <td>   755.9</td>\n</tr>\n<tr>\n  <th>Df Model:</th>              <td>     1</td>      <th>                     </th>     <td> </td>   \n</tr>\n<tr>\n  <th>Covariance Type:</th>      <td>nonrobust</td>    <th>                     </th>     <td> </td>   \n</tr>\n</table>\n<table class=\"simpletable\">\n<tr>\n         <td></td>            <th>coef</th>     <th>std err</th>      <th>t</th>      <th>P>|t|</th>  <th>[0.025</th>    <th>0.975]</th>  \n</tr>\n<tr>\n  <th>const</th>           <td>    4.2843</td> <td>    0.054</td> <td>   79.934</td> <td> 0.000</td> <td>    4.179</td> <td>    4.390</td>\n</tr>\n<tr>\n  <th>tenure_eligible</th> <td>   -0.1405</td> <td>    0.061</td> <td>   -2.315</td> <td> 0.021</td> <td>   -0.260</td> <td>   -0.021</td>\n</tr>\n</table>\n<table class=\"simpletable\">\n<tr>\n  <th>Omnibus:</th>       <td>31.198</td> <th>  Durbin-Watson:     </th> <td>   1.208</td>\n</tr>\n<tr>\n  <th>Prob(Omnibus):</th> <td> 0.000</td> <th>  Jarque-Bera (JB):  </th> <td>  36.360</td>\n</tr>\n<tr>\n  <th>Skew:</th>          <td>-0.686</td> <th>  Prob(JB):          </th> <td>1.27e-08</td>\n</tr>\n<tr>\n  <th>Kurtosis:</th>      <td> 2.966</td> <th>  Cond. No.          </th> <td>    4.05</td>\n</tr>\n</table><br/><br/>Notes:<br/>[1] Standard Errors assume that the covariance matrix of the errors is correctly specified.",
      "text/plain": "<class 'statsmodels.iolib.summary.Summary'>\n\"\"\"\n                            OLS Regression Results                            \n==============================================================================\nDep. Variable:                  score   R-squared:                       0.011\nModel:                            OLS   Adj. R-squared:                  0.009\nMethod:                 Least Squares   F-statistic:                     5.361\nDate:                Fri, 19 Mar 2021   Prob (F-statistic):             0.0210\nTime:                        08:21:16   Log-Likelihood:                -371.80\nNo. Observations:                 463   AIC:                             747.6\nDf Residuals:                     461   BIC:                             755.9\nDf Model:                           1                                         \nCovariance Type:            nonrobust                                         \n===================================================================================\n                      coef    std err          t      P>|t|      [0.025      0.975]\n-----------------------------------------------------------------------------------\nconst               4.2843      0.054     79.934      0.000       4.179       4.390\ntenure_eligible    -0.1405      0.061     -2.315      0.021      -0.260      -0.021\n==============================================================================\nOmnibus:                       31.198   Durbin-Watson:                   1.208\nProb(Omnibus):                  0.000   Jarque-Bera (JB):               36.360\nSkew:                          -0.686   Prob(JB):                     1.27e-08\nKurtosis:                       2.966   Cond. No.                         4.05\n==============================================================================\n\nNotes:\n[1] Standard Errors assume that the covariance matrix of the errors is correctly specified.\n\"\"\""
     },
     "execution_count": 217,
     "metadata": {},
     "output_type": "execute_result"
    }
   ],
   "source": [
    "m_rank.summary()"
   ]
  },
  {
   "cell_type": "code",
   "execution_count": 218,
   "metadata": {},
   "outputs": [
    {
     "data": {
      "text/plain": "0.03502"
     },
     "execution_count": 218,
     "metadata": {},
     "output_type": "execute_result"
    }
   ],
   "source": [
    "round(results.rsquared, 5)"
   ]
  }
 ],
 "metadata": {
  "kernelspec": {
   "display_name": "Python 3.8.2 64-bit",
   "metadata": {
    "interpreter": {
     "hash": "aee8b7b246df8f9039afb4144a1f6fd8d2ca17a180786b69acc140d282b71a49"
    }
   },
   "name": "python3"
  },
  "language_info": {
   "codemirror_mode": {
    "name": "ipython",
    "version": 3
   },
   "file_extension": ".py",
   "mimetype": "text/x-python",
   "name": "python",
   "nbconvert_exporter": "python",
   "pygments_lexer": "ipython3",
   "version": "3.8.2"
  },
  "orig_nbformat": 2
 },
 "nbformat": 4,
 "nbformat_minor": 2
}