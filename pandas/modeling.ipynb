{
 "cells": [
  {
   "cell_type": "markdown",
   "metadata": {},
   "source": [
    "## Analysis of professor ratings"
   ]
  },
  {
   "cell_type": "code",
   "execution_count": 2,
   "metadata": {},
   "outputs": [
    {
     "data": {
      "text/plain": "(array([ 1.,  1.,  0.,  2.,  0.,  0.,  0.,  2.,  0.,  3.,  0.,  2.,  5.,\n         0.,  6.,  0.,  4.,  0., 11.,  0., 11.,  0., 17.,  0., 20., 19.,\n         0., 19.,  0., 26.,  0., 24.,  0., 28.,  0., 22.,  0., 26., 43.,\n         0., 41.,  0., 34.,  0., 25.,  0., 35.,  0., 25., 11.]),\n array([2.3  , 2.354, 2.408, 2.462, 2.516, 2.57 , 2.624, 2.678, 2.732,\n        2.786, 2.84 , 2.894, 2.948, 3.002, 3.056, 3.11 , 3.164, 3.218,\n        3.272, 3.326, 3.38 , 3.434, 3.488, 3.542, 3.596, 3.65 , 3.704,\n        3.758, 3.812, 3.866, 3.92 , 3.974, 4.028, 4.082, 4.136, 4.19 ,\n        4.244, 4.298, 4.352, 4.406, 4.46 , 4.514, 4.568, 4.622, 4.676,\n        4.73 , 4.784, 4.838, 4.892, 4.946, 5.   ]),\n <BarContainer object of 50 artists>)"
     },
     "execution_count": 2,
     "metadata": {},
     "output_type": "execute_result"
    },
    {
     "data": {
      "image/png": "[encoded data removed]",
      "text/plain": "<Figure size 432x288 with 1 Axes>"
     },
     "metadata": {
      "needs_background": "light"
     },
     "output_type": "display_data"
    }
   ],
   "source": [
    "import sys\n",
    "import pandas as pd\n",
    "import statsmodels.api as sm\n",
    "from pyprojroot import here\n",
    "\n",
    "import matplotlib.pyplot as plt\n",
    "\n",
    "df = pd.read_csv(here(\"pandas/data/evals-mod.csv\"))\n",
    "\n",
    "# get row wise average\n",
    "df['bty_avg'] = df.loc[:, 'bty_f1lower':'bty_m2upper'].mean(axis=1)\n",
    "\n",
    "plt.hist(df['bty_avg'], bins=50)\n",
    "plt.hist(df['score'], bins=50)\n",
    "# plot = plt.scatter(x=df['score'] , y= df['bty_avg'])\n",
    "# print(plot)\n",
    "\n",
    "# jupyter notebook"
   ]
  },
  {
   "cell_type": "code",
   "execution_count": 10,
   "metadata": {},
   "outputs": [],
   "source": [
    "X = df['bty_avg']\n",
    "X = sm.add_constant(X) \n",
    "y = df['score']\n"
   ]
  },
  {
   "cell_type": "code",
   "execution_count": 15,
   "metadata": {},
   "outputs": [],
   "source": [
    "model = sm.OLS(y, X)\n",
    "results = model.fit()"
   ]
  },
  {
   "cell_type": "code",
   "execution_count": 16,
   "metadata": {},
   "outputs": [
    {
     "name": "stdout",
     "output_type": "stream",
     "text": [
      "                            OLS Regression Results                            \n",
      "==============================================================================\n",
      "Dep. Variable:                  score   R-squared:                       0.035\n",
      "Model:                            OLS   Adj. R-squared:                  0.033\n",
      "Method:                 Least Squares   F-statistic:                     16.73\n",
      "Date:                Thu, 18 Mar 2021   Prob (F-statistic):           5.08e-05\n",
      "Time:                        08:23:59   Log-Likelihood:                -366.22\n",
      "No. Observations:                 463   AIC:                             736.4\n",
      "Df Residuals:                     461   BIC:                             744.7\n",
      "Df Model:                           1                                         \n",
      "Covariance Type:            nonrobust                                         \n",
      "==============================================================================\n",
      "                 coef    std err          t      P>|t|      [0.025      0.975]\n",
      "------------------------------------------------------------------------------\n",
      "const          3.8803      0.076     50.961      0.000       3.731       4.030\n",
      "bty_avg        0.0666      0.016      4.090      0.000       0.035       0.099\n",
      "==============================================================================\n",
      "Omnibus:                       33.007   Durbin-Watson:                   1.267\n",
      "Prob(Omnibus):                  0.000   Jarque-Bera (JB):               38.796\n",
      "Skew:                          -0.709   Prob(JB):                     3.76e-09\n",
      "Kurtosis:                       3.006   Cond. No.                         14.9\n",
      "==============================================================================\n",
      "\n",
      "Notes:\n",
      "[1] Standard Errors assume that the covariance matrix of the errors is correctly specified.\n"
     ]
    },
    {
     "data": {
      "text/plain": "const      3.880333\nbty_avg    0.066637\ndtype: float64"
     },
     "execution_count": 16,
     "metadata": {},
     "output_type": "execute_result"
    }
   ],
   "source": [
    "print(results.summary())\n",
    "results.params"
   ]
  },
  {
   "cell_type": "code",
   "execution_count": null,
   "metadata": {},
   "outputs": [],
   "source": []
  }
 ],
 "metadata": {
  "kernelspec": {
   "display_name": "Python 3.8.2 64-bit",
   "metadata": {
    "interpreter": {
     "hash": "aee8b7b246df8f9039afb4144a1f6fd8d2ca17a180786b69acc140d282b71a49"
    }
   },
   "name": "python3"
  },
  "language_info": {
   "codemirror_mode": {
    "name": "ipython",
    "version": 3
   },
   "file_extension": ".py",
   "mimetype": "text/x-python",
   "name": "python",
   "nbconvert_exporter": "python",
   "pygments_lexer": "ipython3",
   "version": "3.8.2-final"
  },
  "orig_nbformat": 2
 },
 "nbformat": 4,
 "nbformat_minor": 2
}