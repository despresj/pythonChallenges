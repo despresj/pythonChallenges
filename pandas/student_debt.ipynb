{
 "cells": [
  {
   "cell_type": "code",
   "execution_count": 112,
   "metadata": {},
   "outputs": [],
   "source": [
    "import pandas as pd\n",
    "import matplotlib.pyplot as plt\n",
    "import numpy as np\n",
    "from matplotlib import colors\n",
    "import statsmodels.api as sm\n",
    "import statsmodels.formula.api as smf\n",
    "from itertools import combinations\n",
    "\n",
    "df = pd.read_csv(\"data/allendale-students.csv\")"
   ]
  },
  {
   "cell_type": "code",
   "execution_count": 113,
   "metadata": {},
   "outputs": [
    {
     "data": {
      "image/png": "[encoded data removed]",
      "text/plain": "<Figure size 432x288 with 1 Axes>"
     },
     "metadata": {
      "needs_background": "light"
     },
     "output_type": "display_data"
    }
   ],
   "source": [
    "n_bins = 30\n",
    "colors = [\"red\", \"green\"]\n",
    "plt.hist(df.debt, bins=n_bins, color=colors[0])\n",
    "plt.hist(df.scholarship, bins=n_bins, color=colors[1])\n",
    "plt.ylabel('Frequency')\n",
    "plt.xlabel('Value')\n",
    "plt.title(\"Debt and scholarships\")\n",
    "labels= [\"Debt\",\"Scholarships\"]\n",
    "_ = plt.legend(labels)"
   ]
  },
  {
   "cell_type": "code",
   "execution_count": 114,
   "metadata": {},
   "outputs": [
    {
     "data": {
      "text/html": "<div>\n<style scoped>\n    .dataframe tbody tr th:only-of-type {\n        vertical-align: middle;\n    }\n\n    .dataframe tbody tr th {\n        vertical-align: top;\n    }\n\n    .dataframe thead th {\n        text-align: right;\n    }\n</style>\n<table border=\"1\" class=\"dataframe\">\n  <thead>\n    <tr style=\"text-align: right;\">\n      <th></th>\n      <th>distance</th>\n      <th>scholarship</th>\n      <th>parents</th>\n      <th>car</th>\n      <th>debt</th>\n      <th>housing_on_campus</th>\n      <th>major_business</th>\n      <th>major_other</th>\n    </tr>\n  </thead>\n  <tbody>\n    <tr>\n      <td>0</td>\n      <td>40</td>\n      <td>1532</td>\n      <td>0.440</td>\n      <td>6</td>\n      <td>26389</td>\n      <td>0</td>\n      <td>0</td>\n      <td>0</td>\n    </tr>\n    <tr>\n      <td>1</td>\n      <td>30</td>\n      <td>7479</td>\n      <td>0.265</td>\n      <td>7</td>\n      <td>21268</td>\n      <td>1</td>\n      <td>0</td>\n      <td>0</td>\n    </tr>\n    <tr>\n      <td>2</td>\n      <td>130</td>\n      <td>2664</td>\n      <td>0.115</td>\n      <td>3</td>\n      <td>32312</td>\n      <td>1</td>\n      <td>1</td>\n      <td>0</td>\n    </tr>\n    <tr>\n      <td>3</td>\n      <td>120</td>\n      <td>1998</td>\n      <td>0.325</td>\n      <td>9</td>\n      <td>28539</td>\n      <td>1</td>\n      <td>1</td>\n      <td>0</td>\n    </tr>\n    <tr>\n      <td>4</td>\n      <td>30</td>\n      <td>1462</td>\n      <td>0.105</td>\n      <td>10</td>\n      <td>34867</td>\n      <td>0</td>\n      <td>0</td>\n      <td>1</td>\n    </tr>\n    <tr>\n      <td>...</td>\n      <td>...</td>\n      <td>...</td>\n      <td>...</td>\n      <td>...</td>\n      <td>...</td>\n      <td>...</td>\n      <td>...</td>\n      <td>...</td>\n    </tr>\n    <tr>\n      <td>195</td>\n      <td>30</td>\n      <td>5321</td>\n      <td>0.445</td>\n      <td>8</td>\n      <td>21873</td>\n      <td>0</td>\n      <td>0</td>\n      <td>0</td>\n    </tr>\n    <tr>\n      <td>196</td>\n      <td>50</td>\n      <td>5916</td>\n      <td>0.020</td>\n      <td>10</td>\n      <td>33122</td>\n      <td>0</td>\n      <td>0</td>\n      <td>0</td>\n    </tr>\n    <tr>\n      <td>197</td>\n      <td>410</td>\n      <td>5583</td>\n      <td>0.200</td>\n      <td>7</td>\n      <td>33666</td>\n      <td>1</td>\n      <td>1</td>\n      <td>0</td>\n    </tr>\n    <tr>\n      <td>198</td>\n      <td>320</td>\n      <td>1282</td>\n      <td>0.250</td>\n      <td>4</td>\n      <td>44262</td>\n      <td>0</td>\n      <td>1</td>\n      <td>0</td>\n    </tr>\n    <tr>\n      <td>199</td>\n      <td>110</td>\n      <td>7116</td>\n      <td>0.250</td>\n      <td>5</td>\n      <td>24411</td>\n      <td>0</td>\n      <td>0</td>\n      <td>0</td>\n    </tr>\n  </tbody>\n</table>\n<p>200 rows × 8 columns</p>\n</div>",
      "text/plain": "     distance  scholarship  parents  car   debt  housing_on_campus  \\\n0          40         1532    0.440    6  26389                  0   \n1          30         7479    0.265    7  21268                  1   \n2         130         2664    0.115    3  32312                  1   \n3         120         1998    0.325    9  28539                  1   \n4          30         1462    0.105   10  34867                  0   \n..        ...          ...      ...  ...    ...                ...   \n195        30         5321    0.445    8  21873                  0   \n196        50         5916    0.020   10  33122                  0   \n197       410         5583    0.200    7  33666                  1   \n198       320         1282    0.250    4  44262                  0   \n199       110         7116    0.250    5  24411                  0   \n\n     major_business  major_other  \n0                 0            0  \n1                 0            0  \n2                 1            0  \n3                 1            0  \n4                 0            1  \n..              ...          ...  \n195               0            0  \n196               0            0  \n197               1            0  \n198               1            0  \n199               0            0  \n\n[200 rows x 8 columns]"
     },
     "execution_count": 114,
     "metadata": {},
     "output_type": "execute_result"
    }
   ],
   "source": [
    "df_with_dummies = pd.get_dummies(df).drop(columns=['housing_off campus', 'major_STEM']) \n",
    "df_with_dummies.columns = df_with_dummies.columns.str.replace(' ', '_')\n",
    "df_with_dummies # off-campus and stem majors are reference catgories"
   ]
  },
  {
   "cell_type": "code",
   "execution_count": 115,
   "metadata": {},
   "outputs": [
    {
     "data": {
      "image/png": "[encoded data removed]",
      "text/plain": "<Figure size 432x288 with 1 Axes>"
     },
     "metadata": {
      "needs_background": "light"
     },
     "output_type": "display_data"
    }
   ],
   "source": [
    "df['scholarship_debt'] = df['debt']/ df['scholarship']\n",
    "n_bins = 50\n",
    "_ = plt.hist(df['scholarship_debt'], bins=n_bins, color=colors[1])"
   ]
  },
  {
   "cell_type": "code",
   "execution_count": 116,
   "metadata": {},
   "outputs": [],
   "source": [
    "predictors = df_with_dummies.drop(columns='debt')\n",
    "cols = predictors.columns"
   ]
  },
  {
   "cell_type": "markdown",
   "metadata": {},
   "source": [
    "## Get formula"
   ]
  },
  {
   "cell_type": "code",
   "execution_count": 146,
   "metadata": {},
   "outputs": [],
   "source": [
    "formula_list = []\n",
    "n_columns = len(cols) + 1\n",
    "for i in range(1, n_columns):\n",
    "    iters = combinations(cols, i)\n",
    "    for item in iters:\n",
    "        formula = \"debt ~ \" + \" + \".join(item)\n",
    "        formula_list.append(formula)"
   ]
  },
  {
   "cell_type": "code",
   "execution_count": 118,
   "metadata": {},
   "outputs": [],
   "source": [
    "def count_params(model):\n",
    "    params = model.replace(\"+\", \",\")\n",
    "    params = params.replace(\"debt ~\", \"\")\n",
    "    n_params = params.count(',') + 1\n",
    "    \n",
    "    return n_params\n",
    "\n",
    "params = map(count_params, formula_list)"
   ]
  },
  {
   "cell_type": "code",
   "execution_count": 119,
   "metadata": {},
   "outputs": [],
   "source": [
    "def get_r_sq(model):\n",
    "    mod = smf.ols(formula=model, data=df_with_dummies)\n",
    "    res = mod.fit()\n",
    "    out = [res.rsquared_adj] + list(res.params)\n",
    "    return out\n",
    "\n",
    "adj_R = map(get_r_sq, formula_list)"
   ]
  },
  {
   "cell_type": "code",
   "execution_count": 148,
   "metadata": {},
   "outputs": [
    {
     "ename": "ValueError",
     "evalue": "arrays must all be same length",
     "output_type": "error",
     "traceback": [
      "\u001b[0;31m---------------------------------------------------------------------------\u001b[0m",
      "\u001b[0;31mValueError\u001b[0m                                Traceback (most recent call last)",
      "\u001b[0;32m<ipython-input-148-55fd01a8a3c6>\u001b[0m in \u001b[0;36m<module>\u001b[0;34m\u001b[0m\n\u001b[1;32m      8\u001b[0m adj_r_df = pd.DataFrame({'model': formula_list, \n\u001b[1;32m      9\u001b[0m                          \u001b[0;34m'adj_rsq'\u001b[0m\u001b[0;34m:\u001b[0m \u001b[0madj_R\u001b[0m\u001b[0;34m,\u001b[0m\u001b[0;34m\u001b[0m\u001b[0;34m\u001b[0m\u001b[0m\n\u001b[0;32m---> 10\u001b[0;31m                          \u001b[0;34m'n_params'\u001b[0m\u001b[0;34m:\u001b[0m \u001b[0mparams\u001b[0m\u001b[0;34m\u001b[0m\u001b[0;34m\u001b[0m\u001b[0m\n\u001b[0m\u001b[1;32m     11\u001b[0m                          })\n",
      "\u001b[0;32m/opt/anaconda3/lib/python3.7/site-packages/pandas/core/frame.py\u001b[0m in \u001b[0;36m__init__\u001b[0;34m(self, data, index, columns, dtype, copy)\u001b[0m\n\u001b[1;32m    409\u001b[0m             )\n\u001b[1;32m    410\u001b[0m         \u001b[0;32melif\u001b[0m \u001b[0misinstance\u001b[0m\u001b[0;34m(\u001b[0m\u001b[0mdata\u001b[0m\u001b[0;34m,\u001b[0m \u001b[0mdict\u001b[0m\u001b[0;34m)\u001b[0m\u001b[0;34m:\u001b[0m\u001b[0;34m\u001b[0m\u001b[0;34m\u001b[0m\u001b[0m\n\u001b[0;32m--> 411\u001b[0;31m             \u001b[0mmgr\u001b[0m \u001b[0;34m=\u001b[0m \u001b[0minit_dict\u001b[0m\u001b[0;34m(\u001b[0m\u001b[0mdata\u001b[0m\u001b[0;34m,\u001b[0m \u001b[0mindex\u001b[0m\u001b[0;34m,\u001b[0m \u001b[0mcolumns\u001b[0m\u001b[0;34m,\u001b[0m \u001b[0mdtype\u001b[0m\u001b[0;34m=\u001b[0m\u001b[0mdtype\u001b[0m\u001b[0;34m)\u001b[0m\u001b[0;34m\u001b[0m\u001b[0;34m\u001b[0m\u001b[0m\n\u001b[0m\u001b[1;32m    412\u001b[0m         \u001b[0;32melif\u001b[0m \u001b[0misinstance\u001b[0m\u001b[0;34m(\u001b[0m\u001b[0mdata\u001b[0m\u001b[0;34m,\u001b[0m \u001b[0mma\u001b[0m\u001b[0;34m.\u001b[0m\u001b[0mMaskedArray\u001b[0m\u001b[0;34m)\u001b[0m\u001b[0;34m:\u001b[0m\u001b[0;34m\u001b[0m\u001b[0;34m\u001b[0m\u001b[0m\n\u001b[1;32m    413\u001b[0m             \u001b[0;32mimport\u001b[0m \u001b[0mnumpy\u001b[0m\u001b[0;34m.\u001b[0m\u001b[0mma\u001b[0m\u001b[0;34m.\u001b[0m\u001b[0mmrecords\u001b[0m \u001b[0;32mas\u001b[0m \u001b[0mmrecords\u001b[0m\u001b[0;34m\u001b[0m\u001b[0;34m\u001b[0m\u001b[0m\n",
      "\u001b[0;32m/opt/anaconda3/lib/python3.7/site-packages/pandas/core/internals/construction.py\u001b[0m in \u001b[0;36minit_dict\u001b[0;34m(data, index, columns, dtype)\u001b[0m\n\u001b[1;32m    255\u001b[0m             \u001b[0marr\u001b[0m \u001b[0;32mif\u001b[0m \u001b[0;32mnot\u001b[0m \u001b[0mis_datetime64tz_dtype\u001b[0m\u001b[0;34m(\u001b[0m\u001b[0marr\u001b[0m\u001b[0;34m)\u001b[0m \u001b[0;32melse\u001b[0m \u001b[0marr\u001b[0m\u001b[0;34m.\u001b[0m\u001b[0mcopy\u001b[0m\u001b[0;34m(\u001b[0m\u001b[0;34m)\u001b[0m \u001b[0;32mfor\u001b[0m \u001b[0marr\u001b[0m \u001b[0;32min\u001b[0m \u001b[0marrays\u001b[0m\u001b[0;34m\u001b[0m\u001b[0;34m\u001b[0m\u001b[0m\n\u001b[1;32m    256\u001b[0m         ]\n\u001b[0;32m--> 257\u001b[0;31m     \u001b[0;32mreturn\u001b[0m \u001b[0marrays_to_mgr\u001b[0m\u001b[0;34m(\u001b[0m\u001b[0marrays\u001b[0m\u001b[0;34m,\u001b[0m \u001b[0mdata_names\u001b[0m\u001b[0;34m,\u001b[0m \u001b[0mindex\u001b[0m\u001b[0;34m,\u001b[0m \u001b[0mcolumns\u001b[0m\u001b[0;34m,\u001b[0m \u001b[0mdtype\u001b[0m\u001b[0;34m=\u001b[0m\u001b[0mdtype\u001b[0m\u001b[0;34m)\u001b[0m\u001b[0;34m\u001b[0m\u001b[0;34m\u001b[0m\u001b[0m\n\u001b[0m\u001b[1;32m    258\u001b[0m \u001b[0;34m\u001b[0m\u001b[0m\n\u001b[1;32m    259\u001b[0m \u001b[0;34m\u001b[0m\u001b[0m\n",
      "\u001b[0;32m/opt/anaconda3/lib/python3.7/site-packages/pandas/core/internals/construction.py\u001b[0m in \u001b[0;36marrays_to_mgr\u001b[0;34m(arrays, arr_names, index, columns, dtype)\u001b[0m\n\u001b[1;32m     75\u001b[0m     \u001b[0;31m# figure out the index, if necessary\u001b[0m\u001b[0;34m\u001b[0m\u001b[0;34m\u001b[0m\u001b[0;34m\u001b[0m\u001b[0m\n\u001b[1;32m     76\u001b[0m     \u001b[0;32mif\u001b[0m \u001b[0mindex\u001b[0m \u001b[0;32mis\u001b[0m \u001b[0;32mNone\u001b[0m\u001b[0;34m:\u001b[0m\u001b[0;34m\u001b[0m\u001b[0;34m\u001b[0m\u001b[0m\n\u001b[0;32m---> 77\u001b[0;31m         \u001b[0mindex\u001b[0m \u001b[0;34m=\u001b[0m \u001b[0mextract_index\u001b[0m\u001b[0;34m(\u001b[0m\u001b[0marrays\u001b[0m\u001b[0;34m)\u001b[0m\u001b[0;34m\u001b[0m\u001b[0;34m\u001b[0m\u001b[0m\n\u001b[0m\u001b[1;32m     78\u001b[0m     \u001b[0;32melse\u001b[0m\u001b[0;34m:\u001b[0m\u001b[0;34m\u001b[0m\u001b[0;34m\u001b[0m\u001b[0m\n\u001b[1;32m     79\u001b[0m         \u001b[0mindex\u001b[0m \u001b[0;34m=\u001b[0m \u001b[0mensure_index\u001b[0m\u001b[0;34m(\u001b[0m\u001b[0mindex\u001b[0m\u001b[0;34m)\u001b[0m\u001b[0;34m\u001b[0m\u001b[0;34m\u001b[0m\u001b[0m\n",
      "\u001b[0;32m/opt/anaconda3/lib/python3.7/site-packages/pandas/core/internals/construction.py\u001b[0m in \u001b[0;36mextract_index\u001b[0;34m(data)\u001b[0m\n\u001b[1;32m    366\u001b[0m             \u001b[0mlengths\u001b[0m \u001b[0;34m=\u001b[0m \u001b[0mlist\u001b[0m\u001b[0;34m(\u001b[0m\u001b[0mset\u001b[0m\u001b[0;34m(\u001b[0m\u001b[0mraw_lengths\u001b[0m\u001b[0;34m)\u001b[0m\u001b[0;34m)\u001b[0m\u001b[0;34m\u001b[0m\u001b[0;34m\u001b[0m\u001b[0m\n\u001b[1;32m    367\u001b[0m             \u001b[0;32mif\u001b[0m \u001b[0mlen\u001b[0m\u001b[0;34m(\u001b[0m\u001b[0mlengths\u001b[0m\u001b[0;34m)\u001b[0m \u001b[0;34m>\u001b[0m \u001b[0;36m1\u001b[0m\u001b[0;34m:\u001b[0m\u001b[0;34m\u001b[0m\u001b[0;34m\u001b[0m\u001b[0m\n\u001b[0;32m--> 368\u001b[0;31m                 \u001b[0;32mraise\u001b[0m \u001b[0mValueError\u001b[0m\u001b[0;34m(\u001b[0m\u001b[0;34m\"arrays must all be same length\"\u001b[0m\u001b[0;34m)\u001b[0m\u001b[0;34m\u001b[0m\u001b[0;34m\u001b[0m\u001b[0m\n\u001b[0m\u001b[1;32m    369\u001b[0m \u001b[0;34m\u001b[0m\u001b[0m\n\u001b[1;32m    370\u001b[0m             \u001b[0;32mif\u001b[0m \u001b[0mhave_dicts\u001b[0m\u001b[0;34m:\u001b[0m\u001b[0;34m\u001b[0m\u001b[0;34m\u001b[0m\u001b[0m\n",
      "\u001b[0;31mValueError\u001b[0m: arrays must all be same length"
     ]
    }
   ],
   "source": [
    "def get_r_sq(model):\n",
    "    mod = smf.ols(formula=model, data=df_with_dummies)\n",
    "    res = mod.fit()\n",
    "    return res.rsquared_adj\n",
    "\n",
    "adj_R = map(get_r_sq, formula_list)\n",
    "\n",
    "adj_r_df = pd.DataFrame({'model': formula_list, \n",
    "                         'adj_rsq': adj_R, \n",
    "                         'n_params': params\n",
    "                         })"
   ]
  },
  {
   "cell_type": "code",
   "execution_count": 120,
   "metadata": {},
   "outputs": [
    {
     "data": {
      "text/plain": "[0.24430230058277413, 24910.734232888928, 47.25003383854036]"
     },
     "execution_count": 120,
     "metadata": {},
     "output_type": "execute_result"
    }
   ],
   "source": [
    "get_r_sq(model = formula_list[0])"
   ]
  },
  {
   "cell_type": "code",
   "execution_count": 121,
   "metadata": {},
   "outputs": [],
   "source": [
    "coef_df = pd.DataFrame({'model': formula_list, \n",
    "                         'adj_rsq': adj_R, \n",
    "                         'n_params': params\n",
    "                         })"
   ]
  },
  {
   "cell_type": "code",
   "execution_count": 138,
   "metadata": {},
   "outputs": [
    {
     "data": {
      "text/html": "<div>\n<style scoped>\n    .dataframe tbody tr th:only-of-type {\n        vertical-align: middle;\n    }\n\n    .dataframe tbody tr th {\n        vertical-align: top;\n    }\n\n    .dataframe thead th {\n        text-align: right;\n    }\n</style>\n<table border=\"1\" class=\"dataframe\">\n  <thead>\n    <tr style=\"text-align: right;\">\n      <th></th>\n      <th>beta_1</th>\n      <th>beta_2</th>\n      <th>beta_3</th>\n      <th>beta_4</th>\n      <th>beta_5</th>\n      <th>beta_6</th>\n      <th>beta_7</th>\n      <th>beta_8</th>\n    </tr>\n  </thead>\n  <tbody>\n    <tr>\n      <td>0</td>\n      <td>24910.734233</td>\n      <td>47.250034</td>\n      <td>NaN</td>\n      <td>NaN</td>\n      <td>NaN</td>\n      <td>NaN</td>\n      <td>NaN</td>\n      <td>NaN</td>\n    </tr>\n    <tr>\n      <td>1</td>\n      <td>35735.773269</td>\n      <td>-1.606293</td>\n      <td>NaN</td>\n      <td>NaN</td>\n      <td>NaN</td>\n      <td>NaN</td>\n      <td>NaN</td>\n      <td>NaN</td>\n    </tr>\n    <tr>\n      <td>2</td>\n      <td>35587.432644</td>\n      <td>-22931.586888</td>\n      <td>NaN</td>\n      <td>NaN</td>\n      <td>NaN</td>\n      <td>NaN</td>\n      <td>NaN</td>\n      <td>NaN</td>\n    </tr>\n    <tr>\n      <td>3</td>\n      <td>29553.705664</td>\n      <td>-11.437947</td>\n      <td>NaN</td>\n      <td>NaN</td>\n      <td>NaN</td>\n      <td>NaN</td>\n      <td>NaN</td>\n      <td>NaN</td>\n    </tr>\n    <tr>\n      <td>4</td>\n      <td>28789.608333</td>\n      <td>1707.791667</td>\n      <td>NaN</td>\n      <td>NaN</td>\n      <td>NaN</td>\n      <td>NaN</td>\n      <td>NaN</td>\n      <td>NaN</td>\n    </tr>\n    <tr>\n      <td>...</td>\n      <td>...</td>\n      <td>...</td>\n      <td>...</td>\n      <td>...</td>\n      <td>...</td>\n      <td>...</td>\n      <td>...</td>\n      <td>...</td>\n    </tr>\n    <tr>\n      <td>122</td>\n      <td>37340.465783</td>\n      <td>40.096679</td>\n      <td>-1.535280</td>\n      <td>-22732.180567</td>\n      <td>535.129515</td>\n      <td>849.541682</td>\n      <td>-984.887606</td>\n      <td>NaN</td>\n    </tr>\n    <tr>\n      <td>123</td>\n      <td>30807.718552</td>\n      <td>42.366533</td>\n      <td>-1.517433</td>\n      <td>43.162770</td>\n      <td>553.237747</td>\n      <td>209.122068</td>\n      <td>-570.624572</td>\n      <td>NaN</td>\n    </tr>\n    <tr>\n      <td>124</td>\n      <td>30864.417863</td>\n      <td>44.348504</td>\n      <td>-22050.624647</td>\n      <td>-136.820594</td>\n      <td>720.892165</td>\n      <td>2603.353304</td>\n      <td>297.322404</td>\n      <td>NaN</td>\n    </tr>\n    <tr>\n      <td>125</td>\n      <td>41505.104362</td>\n      <td>-1.612190</td>\n      <td>-24388.569853</td>\n      <td>-4.936134</td>\n      <td>1442.239395</td>\n      <td>1085.012177</td>\n      <td>-734.881610</td>\n      <td>NaN</td>\n    </tr>\n    <tr>\n      <td>126</td>\n      <td>37463.996338</td>\n      <td>40.099618</td>\n      <td>-1.534784</td>\n      <td>-22742.302786</td>\n      <td>-17.786646</td>\n      <td>534.513668</td>\n      <td>860.082829</td>\n      <td>-986.255339</td>\n    </tr>\n  </tbody>\n</table>\n<p>127 rows × 8 columns</p>\n</div>",
      "text/plain": "           beta_1        beta_2        beta_3        beta_4       beta_5  \\\n0    24910.734233     47.250034           NaN           NaN          NaN   \n1    35735.773269     -1.606293           NaN           NaN          NaN   \n2    35587.432644 -22931.586888           NaN           NaN          NaN   \n3    29553.705664    -11.437947           NaN           NaN          NaN   \n4    28789.608333   1707.791667           NaN           NaN          NaN   \n..            ...           ...           ...           ...          ...   \n122  37340.465783     40.096679     -1.535280 -22732.180567   535.129515   \n123  30807.718552     42.366533     -1.517433     43.162770   553.237747   \n124  30864.417863     44.348504 -22050.624647   -136.820594   720.892165   \n125  41505.104362     -1.612190 -24388.569853     -4.936134  1442.239395   \n126  37463.996338     40.099618     -1.534784 -22742.302786   -17.786646   \n\n          beta_6      beta_7      beta_8  \n0            NaN         NaN         NaN  \n1            NaN         NaN         NaN  \n2            NaN         NaN         NaN  \n3            NaN         NaN         NaN  \n4            NaN         NaN         NaN  \n..           ...         ...         ...  \n122   849.541682 -984.887606         NaN  \n123   209.122068 -570.624572         NaN  \n124  2603.353304  297.322404         NaN  \n125  1085.012177 -734.881610         NaN  \n126   534.513668  860.082829 -986.255339  \n\n[127 rows x 8 columns]"
     },
     "execution_count": 138,
     "metadata": {},
     "output_type": "execute_result"
    }
   ],
   "source": [
    " coeffs = pd.DataFrame(adj_r_df.adj_rsq.values.tolist()).iloc[:,1:9]\n",
    " coeffs.add_prefix('beta_')"
   ]
  },
  {
   "cell_type": "code",
   "execution_count": 139,
   "metadata": {},
   "outputs": [
    {
     "data": {
      "text/html": "<div>\n<style scoped>\n    .dataframe tbody tr th:only-of-type {\n        vertical-align: middle;\n    }\n\n    .dataframe tbody tr th {\n        vertical-align: top;\n    }\n\n    .dataframe thead th {\n        text-align: right;\n    }\n</style>\n<table border=\"1\" class=\"dataframe\">\n  <thead>\n    <tr style=\"text-align: right;\">\n      <th></th>\n      <th>model</th>\n      <th>adj_rsq</th>\n      <th>n_params</th>\n    </tr>\n  </thead>\n  <tbody>\n    <tr>\n      <td>103</td>\n      <td>debt ~ distance + scholarship + parents + majo...</td>\n      <td>[0.7456742762603897, 37543.69293028915, 40.464...</td>\n      <td>5</td>\n    </tr>\n    <tr>\n      <td>122</td>\n      <td>debt ~ distance + scholarship + parents + hous...</td>\n      <td>[0.7453258246209475, 37340.465782910105, 40.09...</td>\n      <td>6</td>\n    </tr>\n    <tr>\n      <td>66</td>\n      <td>debt ~ distance + scholarship + parents + majo...</td>\n      <td>[0.7451778713515491, 37853.28639915994, 40.552...</td>\n      <td>4</td>\n    </tr>\n    <tr>\n      <td>65</td>\n      <td>debt ~ distance + scholarship + parents + majo...</td>\n      <td>[0.7450171557001963, 37204.653876998476, 40.38...</td>\n      <td>4</td>\n    </tr>\n    <tr>\n      <td>101</td>\n      <td>debt ~ distance + scholarship + parents + hous...</td>\n      <td>[0.7448264441938217, 37000.14336357948, 39.993...</td>\n      <td>5</td>\n    </tr>\n    <tr>\n      <td>...</td>\n      <td>...</td>\n      <td>...</td>\n      <td>...</td>\n    </tr>\n    <tr>\n      <td>61</td>\n      <td>debt ~ car + major_business + major_other</td>\n      <td>[-0.0024748799315679193, 29079.911903782573, -...</td>\n      <td>3</td>\n    </tr>\n    <tr>\n      <td>6</td>\n      <td>debt ~ major_other</td>\n      <td>[-0.005010227909742815, 29447.62195121952, 139...</td>\n      <td>1</td>\n    </tr>\n    <tr>\n      <td>3</td>\n      <td>debt ~ car</td>\n      <td>[-0.0050430094972617745, 29553.705664119876, -...</td>\n      <td>1</td>\n    </tr>\n    <tr>\n      <td>60</td>\n      <td>debt ~ car + housing_on_campus + major_other</td>\n      <td>[-0.005282403328521479, 28776.030611254493, -4...</td>\n      <td>3</td>\n    </tr>\n    <tr>\n      <td>24</td>\n      <td>debt ~ car + major_other</td>\n      <td>[-0.010106115527423576, 29518.63648280202, -9....</td>\n      <td>2</td>\n    </tr>\n  </tbody>\n</table>\n<p>127 rows × 3 columns</p>\n</div>",
      "text/plain": "                                                 model  \\\n103  debt ~ distance + scholarship + parents + majo...   \n122  debt ~ distance + scholarship + parents + hous...   \n66   debt ~ distance + scholarship + parents + majo...   \n65   debt ~ distance + scholarship + parents + majo...   \n101  debt ~ distance + scholarship + parents + hous...   \n..                                                 ...   \n61           debt ~ car + major_business + major_other   \n6                                   debt ~ major_other   \n3                                           debt ~ car   \n60        debt ~ car + housing_on_campus + major_other   \n24                            debt ~ car + major_other   \n\n                                               adj_rsq  n_params  \n103  [0.7456742762603897, 37543.69293028915, 40.464...         5  \n122  [0.7453258246209475, 37340.465782910105, 40.09...         6  \n66   [0.7451778713515491, 37853.28639915994, 40.552...         4  \n65   [0.7450171557001963, 37204.653876998476, 40.38...         4  \n101  [0.7448264441938217, 37000.14336357948, 39.993...         5  \n..                                                 ...       ...  \n61   [-0.0024748799315679193, 29079.911903782573, -...         3  \n6    [-0.005010227909742815, 29447.62195121952, 139...         1  \n3    [-0.0050430094972617745, 29553.705664119876, -...         1  \n60   [-0.005282403328521479, 28776.030611254493, -4...         3  \n24   [-0.010106115527423576, 29518.63648280202, -9....         2  \n\n[127 rows x 3 columns]"
     },
     "execution_count": 139,
     "metadata": {},
     "output_type": "execute_result"
    }
   ],
   "source": [
    "adj_r_df.sort_values(by=['adj_rsq'], ascending=False)"
   ]
  },
  {
   "cell_type": "code",
   "execution_count": 140,
   "metadata": {},
   "outputs": [],
   "source": [
    "top_models = adj_r_df[adj_r_df['n_params'] < 4].sort_values(by=['adj_rsq'], ascending=False).head(5)\n",
    "best_subset = top_models.iloc[0, 0]"
   ]
  },
  {
   "cell_type": "code",
   "execution_count": 141,
   "metadata": {},
   "outputs": [
    {
     "name": "stdout",
     "output_type": "stream",
     "text": [
      "                            OLS Regression Results                            \n",
      "==============================================================================\n",
      "Dep. Variable:                   debt   R-squared:                       0.747\n",
      "Model:                            OLS   Adj. R-squared:                  0.743\n",
      "Method:                 Least Squares   F-statistic:                     192.5\n",
      "Date:                Thu, 22 Apr 2021   Prob (F-statistic):           3.62e-58\n",
      "Time:                        08:23:51   Log-Likelihood:                -1955.2\n",
      "No. Observations:                 200   AIC:                             3918.\n",
      "Df Residuals:                     196   BIC:                             3932.\n",
      "Df Model:                           3                                         \n",
      "Covariance Type:            nonrobust                                         \n",
      "===============================================================================\n",
      "                  coef    std err          t      P>|t|      [0.025      0.975]\n",
      "-------------------------------------------------------------------------------\n",
      "Intercept    3.751e+04    852.185     44.016      0.000    3.58e+04    3.92e+04\n",
      "distance       40.4810      3.429     11.807      0.000      33.719      47.243\n",
      "scholarship    -1.5445      0.090    -17.134      0.000      -1.722      -1.367\n",
      "parents     -2.222e+04   2201.407    -10.092      0.000   -2.66e+04   -1.79e+04\n",
      "==============================================================================\n",
      "Omnibus:                       39.349   Durbin-Watson:                   2.008\n",
      "Prob(Omnibus):                  0.000   Jarque-Bera (JB):              151.329\n",
      "Skew:                           0.692   Prob(JB):                     1.38e-33\n",
      "Kurtosis:                       7.030   Cond. No.                     3.89e+04\n",
      "==============================================================================\n",
      "\n",
      "Warnings:\n",
      "[1] Standard Errors assume that the covariance matrix of the errors is correctly specified.\n",
      "[2] The condition number is large, 3.89e+04. This might indicate that there are\n",
      "strong multicollinearity or other numerical problems.\n"
     ]
    }
   ],
   "source": [
    "model = smf.ols(formula=best_subset, data=df_with_dummies)\n",
    "fit = model.fit()\n",
    "print(fit.summary())"
   ]
  },
  {
   "cell_type": "code",
   "execution_count": 126,
   "metadata": {},
   "outputs": [
    {
     "data": {
      "text/plain": "scholarship       debt                0.642963\ndebt              scholarship         0.642963\ndistance          debt                0.498096\ndebt              distance            0.498096\n                  parents             0.375440\nparents           debt                0.375440\nscholarship       scholarship_debt    0.275512\nscholarship_debt  scholarship         0.275512\n                  debt                0.229879\ndebt              scholarship_debt    0.229879\ndistance          scholarship_debt    0.093353\nscholarship_debt  distance            0.093353\nscholarship       distance            0.078612\ndistance          scholarship         0.078612\n                  parents             0.062568\nparents           distance            0.062568\ncar               scholarship_debt    0.053710\nscholarship_debt  car                 0.053710\n                  parents             0.034507\nparents           scholarship_debt    0.034507\nscholarship       car                 0.031174\ncar               scholarship         0.031174\nparents           car                 0.024488\ncar               parents             0.024488\nparents           scholarship         0.024225\nscholarship       parents             0.024225\ncar               distance            0.007354\ndistance          car                 0.007354\ncar               debt                0.002731\ndebt              car                 0.002731\ndtype: float64"
     },
     "execution_count": 126,
     "metadata": {},
     "output_type": "execute_result"
    }
   ],
   "source": [
    "c = df.corr().abs()\n",
    "s = c.unstack()\n",
    "so = s.sort_values(kind=\"quicksort\", ascending=False)\n",
    "so[so!=1]\n"
   ]
  },
  {
   "cell_type": "code",
   "execution_count": 127,
   "metadata": {},
   "outputs": [
    {
     "data": {
      "text/html": "<div>\n<style scoped>\n    .dataframe tbody tr th:only-of-type {\n        vertical-align: middle;\n    }\n\n    .dataframe tbody tr th {\n        vertical-align: top;\n    }\n\n    .dataframe thead th {\n        text-align: right;\n    }\n</style>\n<table border=\"1\" class=\"dataframe\">\n  <thead>\n    <tr style=\"text-align: right;\">\n      <th></th>\n      <th>model</th>\n      <th>adj_rsq</th>\n      <th>n_params</th>\n    </tr>\n  </thead>\n  <tbody>\n    <tr>\n      <td>0</td>\n      <td>debt ~ distance</td>\n      <td>[0.24430230058277413, 24910.734232888928, 47.2...</td>\n      <td>1</td>\n    </tr>\n    <tr>\n      <td>1</td>\n      <td>debt ~ scholarship</td>\n      <td>[0.41043937503909445, 35735.77326869441, -1.60...</td>\n      <td>1</td>\n    </tr>\n    <tr>\n      <td>2</td>\n      <td>debt ~ parents</td>\n      <td>[0.136616379363652, 35587.43264370504, -22931....</td>\n      <td>1</td>\n    </tr>\n    <tr>\n      <td>3</td>\n      <td>debt ~ car</td>\n      <td>[-0.0050430094972617745, 29553.705664119876, -...</td>\n      <td>1</td>\n    </tr>\n    <tr>\n      <td>4</td>\n      <td>debt ~ housing_on_campus</td>\n      <td>[0.0047702610420479186, 28789.608333333344, 17...</td>\n      <td>1</td>\n    </tr>\n    <tr>\n      <td>...</td>\n      <td>...</td>\n      <td>...</td>\n      <td>...</td>\n    </tr>\n    <tr>\n      <td>122</td>\n      <td>debt ~ distance + scholarship + parents + hous...</td>\n      <td>[0.7453258246209475, 37340.465782910105, 40.09...</td>\n      <td>6</td>\n    </tr>\n    <tr>\n      <td>123</td>\n      <td>debt ~ distance + scholarship + car + housing_...</td>\n      <td>[0.6052507987712804, 30807.718552031794, 42.36...</td>\n      <td>6</td>\n    </tr>\n    <tr>\n      <td>124</td>\n      <td>debt ~ distance + parents + car + housing_on_c...</td>\n      <td>[0.3684680834820988, 30864.4178631702, 44.3485...</td>\n      <td>6</td>\n    </tr>\n    <tr>\n      <td>125</td>\n      <td>debt ~ scholarship + parents + car + housing_o...</td>\n      <td>[0.56595827200616, 41505.10436246401, -1.61218...</td>\n      <td>6</td>\n    </tr>\n    <tr>\n      <td>126</td>\n      <td>debt ~ distance + scholarship + parents + car ...</td>\n      <td>[0.7440176876898292, 37463.996338105906, 40.09...</td>\n      <td>7</td>\n    </tr>\n  </tbody>\n</table>\n<p>127 rows × 3 columns</p>\n</div>",
      "text/plain": "                                                 model  \\\n0                                      debt ~ distance   \n1                                   debt ~ scholarship   \n2                                       debt ~ parents   \n3                                           debt ~ car   \n4                             debt ~ housing_on_campus   \n..                                                 ...   \n122  debt ~ distance + scholarship + parents + hous...   \n123  debt ~ distance + scholarship + car + housing_...   \n124  debt ~ distance + parents + car + housing_on_c...   \n125  debt ~ scholarship + parents + car + housing_o...   \n126  debt ~ distance + scholarship + parents + car ...   \n\n                                               adj_rsq  n_params  \n0    [0.24430230058277413, 24910.734232888928, 47.2...         1  \n1    [0.41043937503909445, 35735.77326869441, -1.60...         1  \n2    [0.136616379363652, 35587.43264370504, -22931....         1  \n3    [-0.0050430094972617745, 29553.705664119876, -...         1  \n4    [0.0047702610420479186, 28789.608333333344, 17...         1  \n..                                                 ...       ...  \n122  [0.7453258246209475, 37340.465782910105, 40.09...         6  \n123  [0.6052507987712804, 30807.718552031794, 42.36...         6  \n124  [0.3684680834820988, 30864.4178631702, 44.3485...         6  \n125  [0.56595827200616, 41505.10436246401, -1.61218...         6  \n126  [0.7440176876898292, 37463.996338105906, 40.09...         7  \n\n[127 rows x 3 columns]"
     },
     "execution_count": 127,
     "metadata": {},
     "output_type": "execute_result"
    }
   ],
   "source": [
    "adj_r_df"
   ]
  },
  {
   "cell_type": "code",
   "execution_count": 142,
   "metadata": {},
   "outputs": [
    {
     "ename": "ValueError",
     "evalue": "color kwarg must have one color per data set. 127 data sets and 1 colors were provided",
     "output_type": "error",
     "traceback": [
      "\u001b[0;31m---------------------------------------------------------------------------\u001b[0m",
      "\u001b[0;31mValueError\u001b[0m                                Traceback (most recent call last)",
      "\u001b[0;32m<ipython-input-142-372b871c0e05>\u001b[0m in \u001b[0;36m<module>\u001b[0;34m\u001b[0m\n\u001b[0;32m----> 1\u001b[0;31m \u001b[0mplt\u001b[0m\u001b[0;34m.\u001b[0m\u001b[0mhist\u001b[0m\u001b[0;34m(\u001b[0m\u001b[0madj_r_df\u001b[0m\u001b[0;34m.\u001b[0m\u001b[0madj_rsq\u001b[0m\u001b[0;34m,\u001b[0m \u001b[0mbins\u001b[0m\u001b[0;34m=\u001b[0m\u001b[0mn_bins\u001b[0m\u001b[0;34m,\u001b[0m \u001b[0mcolor\u001b[0m\u001b[0;34m=\u001b[0m\u001b[0mcolors\u001b[0m\u001b[0;34m[\u001b[0m\u001b[0;36m0\u001b[0m\u001b[0;34m]\u001b[0m\u001b[0;34m)\u001b[0m\u001b[0;34m\u001b[0m\u001b[0;34m\u001b[0m\u001b[0m\n\u001b[0m\u001b[1;32m      2\u001b[0m \u001b[0mplt\u001b[0m\u001b[0;34m.\u001b[0m\u001b[0mylabel\u001b[0m\u001b[0;34m(\u001b[0m\u001b[0;34m'Frequency'\u001b[0m\u001b[0;34m)\u001b[0m\u001b[0;34m\u001b[0m\u001b[0;34m\u001b[0m\u001b[0m\n\u001b[1;32m      3\u001b[0m \u001b[0;34m\u001b[0m\u001b[0m\n\u001b[1;32m      4\u001b[0m \u001b[0mplt\u001b[0m\u001b[0;34m.\u001b[0m\u001b[0mxlabel\u001b[0m\u001b[0;34m(\u001b[0m\u001b[0;34m'Value'\u001b[0m\u001b[0;34m)\u001b[0m\u001b[0;34m\u001b[0m\u001b[0;34m\u001b[0m\u001b[0m\n",
      "\u001b[0;32m/opt/anaconda3/lib/python3.7/site-packages/matplotlib/pyplot.py\u001b[0m in \u001b[0;36mhist\u001b[0;34m(x, bins, range, density, weights, cumulative, bottom, histtype, align, orientation, rwidth, log, color, label, stacked, normed, data, **kwargs)\u001b[0m\n\u001b[1;32m   2640\u001b[0m         \u001b[0malign\u001b[0m\u001b[0;34m=\u001b[0m\u001b[0malign\u001b[0m\u001b[0;34m,\u001b[0m \u001b[0morientation\u001b[0m\u001b[0;34m=\u001b[0m\u001b[0morientation\u001b[0m\u001b[0;34m,\u001b[0m \u001b[0mrwidth\u001b[0m\u001b[0;34m=\u001b[0m\u001b[0mrwidth\u001b[0m\u001b[0;34m,\u001b[0m \u001b[0mlog\u001b[0m\u001b[0;34m=\u001b[0m\u001b[0mlog\u001b[0m\u001b[0;34m,\u001b[0m\u001b[0;34m\u001b[0m\u001b[0;34m\u001b[0m\u001b[0m\n\u001b[1;32m   2641\u001b[0m         \u001b[0mcolor\u001b[0m\u001b[0;34m=\u001b[0m\u001b[0mcolor\u001b[0m\u001b[0;34m,\u001b[0m \u001b[0mlabel\u001b[0m\u001b[0;34m=\u001b[0m\u001b[0mlabel\u001b[0m\u001b[0;34m,\u001b[0m \u001b[0mstacked\u001b[0m\u001b[0;34m=\u001b[0m\u001b[0mstacked\u001b[0m\u001b[0;34m,\u001b[0m \u001b[0mnormed\u001b[0m\u001b[0;34m=\u001b[0m\u001b[0mnormed\u001b[0m\u001b[0;34m,\u001b[0m\u001b[0;34m\u001b[0m\u001b[0;34m\u001b[0m\u001b[0m\n\u001b[0;32m-> 2642\u001b[0;31m         **({\"data\": data} if data is not None else {}), **kwargs)\n\u001b[0m\u001b[1;32m   2643\u001b[0m \u001b[0;34m\u001b[0m\u001b[0m\n\u001b[1;32m   2644\u001b[0m \u001b[0;34m\u001b[0m\u001b[0m\n",
      "\u001b[0;32m/opt/anaconda3/lib/python3.7/site-packages/matplotlib/__init__.py\u001b[0m in \u001b[0;36minner\u001b[0;34m(ax, data, *args, **kwargs)\u001b[0m\n\u001b[1;32m   1599\u001b[0m     \u001b[0;32mdef\u001b[0m \u001b[0minner\u001b[0m\u001b[0;34m(\u001b[0m\u001b[0max\u001b[0m\u001b[0;34m,\u001b[0m \u001b[0;34m*\u001b[0m\u001b[0margs\u001b[0m\u001b[0;34m,\u001b[0m \u001b[0mdata\u001b[0m\u001b[0;34m=\u001b[0m\u001b[0;32mNone\u001b[0m\u001b[0;34m,\u001b[0m \u001b[0;34m**\u001b[0m\u001b[0mkwargs\u001b[0m\u001b[0;34m)\u001b[0m\u001b[0;34m:\u001b[0m\u001b[0;34m\u001b[0m\u001b[0;34m\u001b[0m\u001b[0m\n\u001b[1;32m   1600\u001b[0m         \u001b[0;32mif\u001b[0m \u001b[0mdata\u001b[0m \u001b[0;32mis\u001b[0m \u001b[0;32mNone\u001b[0m\u001b[0;34m:\u001b[0m\u001b[0;34m\u001b[0m\u001b[0;34m\u001b[0m\u001b[0m\n\u001b[0;32m-> 1601\u001b[0;31m             \u001b[0;32mreturn\u001b[0m \u001b[0mfunc\u001b[0m\u001b[0;34m(\u001b[0m\u001b[0max\u001b[0m\u001b[0;34m,\u001b[0m \u001b[0;34m*\u001b[0m\u001b[0mmap\u001b[0m\u001b[0;34m(\u001b[0m\u001b[0msanitize_sequence\u001b[0m\u001b[0;34m,\u001b[0m \u001b[0margs\u001b[0m\u001b[0;34m)\u001b[0m\u001b[0;34m,\u001b[0m \u001b[0;34m**\u001b[0m\u001b[0mkwargs\u001b[0m\u001b[0;34m)\u001b[0m\u001b[0;34m\u001b[0m\u001b[0;34m\u001b[0m\u001b[0m\n\u001b[0m\u001b[1;32m   1602\u001b[0m \u001b[0;34m\u001b[0m\u001b[0m\n\u001b[1;32m   1603\u001b[0m         \u001b[0mbound\u001b[0m \u001b[0;34m=\u001b[0m \u001b[0mnew_sig\u001b[0m\u001b[0;34m.\u001b[0m\u001b[0mbind\u001b[0m\u001b[0;34m(\u001b[0m\u001b[0max\u001b[0m\u001b[0;34m,\u001b[0m \u001b[0;34m*\u001b[0m\u001b[0margs\u001b[0m\u001b[0;34m,\u001b[0m \u001b[0;34m**\u001b[0m\u001b[0mkwargs\u001b[0m\u001b[0;34m)\u001b[0m\u001b[0;34m\u001b[0m\u001b[0;34m\u001b[0m\u001b[0m\n",
      "\u001b[0;32m/opt/anaconda3/lib/python3.7/site-packages/matplotlib/axes/_axes.py\u001b[0m in \u001b[0;36mhist\u001b[0;34m(self, x, bins, range, density, weights, cumulative, bottom, histtype, align, orientation, rwidth, log, color, label, stacked, normed, **kwargs)\u001b[0m\n\u001b[1;32m   6719\u001b[0m                     \u001b[0;34m\"color kwarg must have one color per data set. %d data \"\u001b[0m\u001b[0;34m\u001b[0m\u001b[0;34m\u001b[0m\u001b[0m\n\u001b[1;32m   6720\u001b[0m                     \"sets and %d colors were provided\" % (nx, len(color)))\n\u001b[0;32m-> 6721\u001b[0;31m                 \u001b[0;32mraise\u001b[0m \u001b[0mValueError\u001b[0m\u001b[0;34m(\u001b[0m\u001b[0merror_message\u001b[0m\u001b[0;34m)\u001b[0m\u001b[0;34m\u001b[0m\u001b[0;34m\u001b[0m\u001b[0m\n\u001b[0m\u001b[1;32m   6722\u001b[0m \u001b[0;34m\u001b[0m\u001b[0m\n\u001b[1;32m   6723\u001b[0m         \u001b[0mhist_kwargs\u001b[0m \u001b[0;34m=\u001b[0m \u001b[0mdict\u001b[0m\u001b[0;34m(\u001b[0m\u001b[0;34m)\u001b[0m\u001b[0;34m\u001b[0m\u001b[0;34m\u001b[0m\u001b[0m\n",
      "\u001b[0;31mValueError\u001b[0m: color kwarg must have one color per data set. 127 data sets and 1 colors were provided"
     ]
    },
    {
     "data": {
      "image/png": "[encoded data removed]",
      "text/plain": "<Figure size 432x288 with 1 Axes>"
     },
     "metadata": {
      "needs_background": "light"
     },
     "output_type": "display_data"
    }
   ],
   "source": [
    "plt.hist(adj_r_df.adj_rsq, bins=n_bins, color=colors[0])\n",
    "plt.ylabel('Frequency')\n",
    "plt.xlabel('Value')"
   ]
  },
  {
   "cell_type": "code",
   "execution_count": null,
   "metadata": {},
   "outputs": [],
   "source": []
  }
 ],
 "metadata": {
  "kernelspec": {
   "display_name": "Python 3.7.4 64-bit ('base': conda)",
   "name": "python374jvsc74a57bd0dca0ade3e726a953b501b15e8e990130d2b7799f14cfd9f4271676035ebe5511"
  },
  "language_info": {
   "codemirror_mode": {
    "name": "ipython",
    "version": 3
   },
   "file_extension": ".py",
   "mimetype": "text/x-python",
   "name": "python",
   "nbconvert_exporter": "python",
   "pygments_lexer": "ipython3",
   "version": "3.7.4"
  },
  "orig_nbformat": 2
 },
 "nbformat": 4,
 "nbformat_minor": 2
}