{
 "cells": [
  {
   "cell_type": "code",
   "execution_count": 8,
   "metadata": {},
   "outputs": [],
   "source": [
    "import pandas as pd\n",
    "import matplotlib.pyplot as plt\n",
    "import numpy as np\n",
    "from matplotlib import colors\n",
    "\n",
    "df = pd.read_csv(\"data/allendale-students.csv\")"
   ]
  },
  {
   "cell_type": "code",
   "execution_count": 9,
   "metadata": {},
   "outputs": [
    {
     "data": {
      "image/png": "[encoded data removed]",
      "text/plain": "<Figure size 432x288 with 1 Axes>"
     },
     "metadata": {
      "needs_background": "light"
     },
     "output_type": "display_data"
    }
   ],
   "source": [
    "n_bins = 30\n",
    "colors = [\"red\", \"green\"]\n",
    "plt.hist(df.debt, bins=n_bins, color=colors[0])\n",
    "plt.hist(df.scholarship, bins=n_bins, color=colors[1])\n",
    "plt.ylabel('Frequency')\n",
    "plt.xlabel('Value')\n",
    "plt.title(\"Debt and scholarships\")\n",
    "labels= [\"Debt\",\"Scholarships\"]\n",
    "_ = plt.legend(labels)"
   ]
  },
  {
   "cell_type": "code",
   "execution_count": 10,
   "metadata": {},
   "outputs": [
    {
     "data": {
      "text/html": "<div>\n<style scoped>\n    .dataframe tbody tr th:only-of-type {\n        vertical-align: middle;\n    }\n\n    .dataframe tbody tr th {\n        vertical-align: top;\n    }\n\n    .dataframe thead th {\n        text-align: right;\n    }\n</style>\n<table border=\"1\" class=\"dataframe\">\n  <thead>\n    <tr style=\"text-align: right;\">\n      <th></th>\n      <th>distance</th>\n      <th>scholarship</th>\n      <th>parents</th>\n      <th>car</th>\n      <th>debt</th>\n      <th>housing_on_campus</th>\n      <th>major_business</th>\n      <th>major_other</th>\n    </tr>\n  </thead>\n  <tbody>\n    <tr>\n      <td>0</td>\n      <td>40</td>\n      <td>1532</td>\n      <td>0.440</td>\n      <td>6</td>\n      <td>26389</td>\n      <td>0</td>\n      <td>0</td>\n      <td>0</td>\n    </tr>\n    <tr>\n      <td>1</td>\n      <td>30</td>\n      <td>7479</td>\n      <td>0.265</td>\n      <td>7</td>\n      <td>21268</td>\n      <td>1</td>\n      <td>0</td>\n      <td>0</td>\n    </tr>\n    <tr>\n      <td>2</td>\n      <td>130</td>\n      <td>2664</td>\n      <td>0.115</td>\n      <td>3</td>\n      <td>32312</td>\n      <td>1</td>\n      <td>1</td>\n      <td>0</td>\n    </tr>\n    <tr>\n      <td>3</td>\n      <td>120</td>\n      <td>1998</td>\n      <td>0.325</td>\n      <td>9</td>\n      <td>28539</td>\n      <td>1</td>\n      <td>1</td>\n      <td>0</td>\n    </tr>\n    <tr>\n      <td>4</td>\n      <td>30</td>\n      <td>1462</td>\n      <td>0.105</td>\n      <td>10</td>\n      <td>34867</td>\n      <td>0</td>\n      <td>0</td>\n      <td>1</td>\n    </tr>\n    <tr>\n      <td>...</td>\n      <td>...</td>\n      <td>...</td>\n      <td>...</td>\n      <td>...</td>\n      <td>...</td>\n      <td>...</td>\n      <td>...</td>\n      <td>...</td>\n    </tr>\n    <tr>\n      <td>195</td>\n      <td>30</td>\n      <td>5321</td>\n      <td>0.445</td>\n      <td>8</td>\n      <td>21873</td>\n      <td>0</td>\n      <td>0</td>\n      <td>0</td>\n    </tr>\n    <tr>\n      <td>196</td>\n      <td>50</td>\n      <td>5916</td>\n      <td>0.020</td>\n      <td>10</td>\n      <td>33122</td>\n      <td>0</td>\n      <td>0</td>\n      <td>0</td>\n    </tr>\n    <tr>\n      <td>197</td>\n      <td>410</td>\n      <td>5583</td>\n      <td>0.200</td>\n      <td>7</td>\n      <td>33666</td>\n      <td>1</td>\n      <td>1</td>\n      <td>0</td>\n    </tr>\n    <tr>\n      <td>198</td>\n      <td>320</td>\n      <td>1282</td>\n      <td>0.250</td>\n      <td>4</td>\n      <td>44262</td>\n      <td>0</td>\n      <td>1</td>\n      <td>0</td>\n    </tr>\n    <tr>\n      <td>199</td>\n      <td>110</td>\n      <td>7116</td>\n      <td>0.250</td>\n      <td>5</td>\n      <td>24411</td>\n      <td>0</td>\n      <td>0</td>\n      <td>0</td>\n    </tr>\n  </tbody>\n</table>\n<p>200 rows × 8 columns</p>\n</div>",
      "text/plain": "     distance  scholarship  parents  car   debt  housing_on_campus  \\\n0          40         1532    0.440    6  26389                  0   \n1          30         7479    0.265    7  21268                  1   \n2         130         2664    0.115    3  32312                  1   \n3         120         1998    0.325    9  28539                  1   \n4          30         1462    0.105   10  34867                  0   \n..        ...          ...      ...  ...    ...                ...   \n195        30         5321    0.445    8  21873                  0   \n196        50         5916    0.020   10  33122                  0   \n197       410         5583    0.200    7  33666                  1   \n198       320         1282    0.250    4  44262                  0   \n199       110         7116    0.250    5  24411                  0   \n\n     major_business  major_other  \n0                 0            0  \n1                 0            0  \n2                 1            0  \n3                 1            0  \n4                 0            1  \n..              ...          ...  \n195               0            0  \n196               0            0  \n197               1            0  \n198               1            0  \n199               0            0  \n\n[200 rows x 8 columns]"
     },
     "execution_count": 10,
     "metadata": {},
     "output_type": "execute_result"
    }
   ],
   "source": [
    "df_with_dummies = pd.get_dummies(df).drop(columns=['housing_off campus', 'major_STEM']) \n",
    "df_with_dummies.columns = df_with_dummies.columns.str.replace(' ', '_')\n",
    "df_with_dummies # off-campus and stem majors are reference catgories"
   ]
  },
  {
   "cell_type": "code",
   "execution_count": 11,
   "metadata": {},
   "outputs": [
    {
     "data": {
      "image/png": "[encoded data removed]",
      "text/plain": "<Figure size 432x288 with 1 Axes>"
     },
     "metadata": {
      "needs_background": "light"
     },
     "output_type": "display_data"
    }
   ],
   "source": [
    "df['scholarship_debt'] = df['debt']/ df['scholarship']\n",
    "n_bins = 50\n",
    "_ = plt.hist(df['scholarship_debt'], bins=n_bins, color=colors[1])"
   ]
  },
  {
   "cell_type": "code",
   "execution_count": 12,
   "metadata": {},
   "outputs": [],
   "source": [
    "import statsmodels.api as sm\n",
    "from itertools import combinations\n",
    "import statsmodels.formula.api as smf"
   ]
  },
  {
   "cell_type": "code",
   "execution_count": 13,
   "metadata": {},
   "outputs": [],
   "source": [
    "predictors = df_with_dummies.drop(columns='debt')\n",
    "cols = predictors.columns"
   ]
  },
  {
   "cell_type": "code",
   "execution_count": 14,
   "metadata": {},
   "outputs": [],
   "source": [
    "predictor_list = [list(combinations(cols, x)) for x in range(1, len(cols)-1)]"
   ]
  },
  {
   "cell_type": "code",
   "execution_count": 16,
   "metadata": {},
   "outputs": [
    {
     "data": {
      "text/plain": "119"
     },
     "execution_count": 16,
     "metadata": {},
     "output_type": "execute_result"
    }
   ],
   "source": [
    "formula_list = []\n",
    "\n",
    "for i in range(1, len(cols) -1):\n",
    "    iters = combinations(cols[0:9], i)\n",
    "    for item in iters:\n",
    "        formula = \" + \".join(item)\n",
    "        formula = \"debt ~ \" + formula\n",
    "        formula_list.append(formula)\n",
    "\n"
   ]
  },
  {
   "cell_type": "code",
   "execution_count": 82,
   "metadata": {},
   "outputs": [
    {
     "data": {
      "text/plain": "[]"
     },
     "execution_count": 82,
     "metadata": {},
     "output_type": "execute_result"
    }
   ],
   "source": [
    "\n",
    "[\"debt ~ \" +\" + \".join(x) for x in combos]"
   ]
  },
  {
   "cell_type": "code",
   "execution_count": 83,
   "metadata": {},
   "outputs": [],
   "source": [
    "def get_r_sq(model):\n",
    "    mod = smf.ols(formula=model, data=df_with_dummies)\n",
    "    res = mod.fit()\n",
    "    return res.rsquared_adj\n",
    "\n",
    "results = map(get_r_sq, formula_list)\n",
    "\n",
    "def count_params(model):\n",
    "    params = model.replace(\"+\", \",\")\n",
    "    params = params.replace(\"debt ~\", \"\")\n",
    "    n_params = params.count(',') + 1\n",
    "    return n_params\n",
    "\n",
    "params = map(count_params, formula_list)\n"
   ]
  },
  {
   "cell_type": "code",
   "execution_count": 57,
   "metadata": {},
   "outputs": [
    {
     "data": {
      "text/html": "<div>\n<style scoped>\n    .dataframe tbody tr th:only-of-type {\n        vertical-align: middle;\n    }\n\n    .dataframe tbody tr th {\n        vertical-align: top;\n    }\n\n    .dataframe thead th {\n        text-align: right;\n    }\n</style>\n<table border=\"1\" class=\"dataframe\">\n  <thead>\n    <tr style=\"text-align: right;\">\n      <th></th>\n      <th>model</th>\n      <th>adj_rsq</th>\n      <th>n_params</th>\n    </tr>\n  </thead>\n  <tbody>\n    <tr>\n      <td>0</td>\n      <td>debt ~ distance</td>\n      <td>0.244302</td>\n      <td>1</td>\n    </tr>\n    <tr>\n      <td>1</td>\n      <td>debt ~ scholarship</td>\n      <td>0.410439</td>\n      <td>1</td>\n    </tr>\n    <tr>\n      <td>2</td>\n      <td>debt ~ parents</td>\n      <td>0.136616</td>\n      <td>1</td>\n    </tr>\n    <tr>\n      <td>3</td>\n      <td>debt ~ car</td>\n      <td>-0.005043</td>\n      <td>1</td>\n    </tr>\n    <tr>\n      <td>4</td>\n      <td>debt ~ housing_on_campus</td>\n      <td>0.004770</td>\n      <td>1</td>\n    </tr>\n    <tr>\n      <td>...</td>\n      <td>...</td>\n      <td>...</td>\n      <td>...</td>\n    </tr>\n    <tr>\n      <td>114</td>\n      <td>debt ~ scholarship + parents + car + housing_o...</td>\n      <td>0.565060</td>\n      <td>5</td>\n    </tr>\n    <tr>\n      <td>115</td>\n      <td>debt ~ scholarship + parents + car + major_bus...</td>\n      <td>0.561081</td>\n      <td>5</td>\n    </tr>\n    <tr>\n      <td>116</td>\n      <td>debt ~ scholarship + parents + housing_on_camp...</td>\n      <td>0.568194</td>\n      <td>5</td>\n    </tr>\n    <tr>\n      <td>117</td>\n      <td>debt ~ scholarship + car + housing_on_campus +...</td>\n      <td>0.407258</td>\n      <td>5</td>\n    </tr>\n    <tr>\n      <td>118</td>\n      <td>debt ~ parents + car + housing_on_campus + maj...</td>\n      <td>0.152267</td>\n      <td>5</td>\n    </tr>\n  </tbody>\n</table>\n<p>119 rows × 3 columns</p>\n</div>",
      "text/plain": "                                                 model   adj_rsq  n_params\n0                                      debt ~ distance  0.244302         1\n1                                   debt ~ scholarship  0.410439         1\n2                                       debt ~ parents  0.136616         1\n3                                           debt ~ car -0.005043         1\n4                             debt ~ housing_on_campus  0.004770         1\n..                                                 ...       ...       ...\n114  debt ~ scholarship + parents + car + housing_o...  0.565060         5\n115  debt ~ scholarship + parents + car + major_bus...  0.561081         5\n116  debt ~ scholarship + parents + housing_on_camp...  0.568194         5\n117  debt ~ scholarship + car + housing_on_campus +...  0.407258         5\n118  debt ~ parents + car + housing_on_campus + maj...  0.152267         5\n\n[119 rows x 3 columns]"
     },
     "execution_count": 57,
     "metadata": {},
     "output_type": "execute_result"
    }
   ],
   "source": [
    "adj_r_df = pd.DataFrame({'model': formula_list, \"adj_rsq\": output, \"n_params\": params})\n",
    "adj_r_df "
   ]
  }
 ],
 "metadata": {
  "kernelspec": {
   "display_name": "Python 3.7.4 64-bit ('base': conda)",
   "name": "python374jvsc74a57bd0dca0ade3e726a953b501b15e8e990130d2b7799f14cfd9f4271676035ebe5511"
  },
  "language_info": {
   "codemirror_mode": {
    "name": "ipython",
    "version": 3
   },
   "file_extension": ".py",
   "mimetype": "text/x-python",
   "name": "python",
   "nbconvert_exporter": "python",
   "pygments_lexer": "ipython3",
   "version": "3.7.4"
  },
  "orig_nbformat": 2
 },
 "nbformat": 4,
 "nbformat_minor": 2
}