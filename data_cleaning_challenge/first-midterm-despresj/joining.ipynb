{
 "cells": [
  {
   "cell_type": "code",
   "execution_count": 23,
   "metadata": {},
   "outputs": [],
   "source": [
    "import pandas as pd\n",
    "from os import listdir\n",
    "\n",
    "full_path = \"/Users/josephdespres/Documents/Python/pythonChallenges/data_cleaning_proj/first-midterm-despresj/data/\"\n",
    "\n",
    "files = listdir(\"data\")\n",
    "pd.DataFrame(files)\n",
    "# incidents\n",
    "gtd = pd.read_csv(full_path + files[0], encoding='latin1')\n",
    "# county-city-poverty-data\n",
    "poverty = pd.read_csv(full_path + files[1])\n",
    "cities_pop = pd.read_csv(full_path + files[2], encoding='latin1')\n",
    "county_cities = pd.read_csv(full_path + files[3], encoding='latin1')\n"
   ]
  },
  {
   "cell_type": "code",
   "execution_count": 24,
   "metadata": {},
   "outputs": [
    {
     "data": {
      "text/html": "<div>\n<style scoped>\n    .dataframe tbody tr th:only-of-type {\n        vertical-align: middle;\n    }\n\n    .dataframe tbody tr th {\n        vertical-align: top;\n    }\n\n    .dataframe thead th {\n        text-align: right;\n    }\n</style>\n<table border=\"1\" class=\"dataframe\">\n  <thead>\n    <tr style=\"text-align: right;\">\n      <th></th>\n      <th>SUMLEV</th>\n      <th>STATE</th>\n      <th>COUNTY</th>\n      <th>PLACE</th>\n      <th>NAME</th>\n      <th>STNAME</th>\n      <th>POPESTIMATE2013</th>\n      <th>POPESTIMATE2014</th>\n      <th>POPESTIMATE2015</th>\n      <th>POPESTIMATE2016</th>\n    </tr>\n  </thead>\n  <tbody>\n    <tr>\n      <th>0</th>\n      <td>40</td>\n      <td>1</td>\n      <td>0</td>\n      <td>0</td>\n      <td>Alabama</td>\n      <td>Alabama</td>\n      <td>4829479</td>\n      <td>4843214</td>\n      <td>4853875</td>\n      <td>4863300</td>\n    </tr>\n    <tr>\n      <th>1</th>\n      <td>162</td>\n      <td>1</td>\n      <td>0</td>\n      <td>124</td>\n      <td>Abbeville city</td>\n      <td>Alabama</td>\n      <td>2631</td>\n      <td>2619</td>\n      <td>2616</td>\n      <td>2603</td>\n    </tr>\n    <tr>\n      <th>2</th>\n      <td>162</td>\n      <td>1</td>\n      <td>0</td>\n      <td>460</td>\n      <td>Adamsville city</td>\n      <td>Alabama</td>\n      <td>4447</td>\n      <td>4428</td>\n      <td>4395</td>\n      <td>4360</td>\n    </tr>\n    <tr>\n      <th>3</th>\n      <td>162</td>\n      <td>1</td>\n      <td>0</td>\n      <td>484</td>\n      <td>Addison town</td>\n      <td>Alabama</td>\n      <td>748</td>\n      <td>747</td>\n      <td>740</td>\n      <td>738</td>\n    </tr>\n    <tr>\n      <th>4</th>\n      <td>162</td>\n      <td>1</td>\n      <td>0</td>\n      <td>676</td>\n      <td>Akron town</td>\n      <td>Alabama</td>\n      <td>342</td>\n      <td>337</td>\n      <td>337</td>\n      <td>334</td>\n    </tr>\n    <tr>\n      <th>...</th>\n      <td>...</td>\n      <td>...</td>\n      <td>...</td>\n      <td>...</td>\n      <td>...</td>\n      <td>...</td>\n      <td>...</td>\n      <td>...</td>\n      <td>...</td>\n      <td>...</td>\n    </tr>\n    <tr>\n      <th>81580</th>\n      <td>157</td>\n      <td>56</td>\n      <td>43</td>\n      <td>99990</td>\n      <td>Balance of Washakie County</td>\n      <td>Wyoming</td>\n      <td>2744</td>\n      <td>2697</td>\n      <td>2704</td>\n      <td>2669</td>\n    </tr>\n    <tr>\n      <th>81581</th>\n      <td>50</td>\n      <td>56</td>\n      <td>45</td>\n      <td>0</td>\n      <td>Weston County</td>\n      <td>Wyoming</td>\n      <td>7163</td>\n      <td>7179</td>\n      <td>7230</td>\n      <td>7236</td>\n    </tr>\n    <tr>\n      <th>81582</th>\n      <td>157</td>\n      <td>56</td>\n      <td>45</td>\n      <td>56215</td>\n      <td>Newcastle city</td>\n      <td>Wyoming</td>\n      <td>3496</td>\n      <td>3505</td>\n      <td>3525</td>\n      <td>3535</td>\n    </tr>\n    <tr>\n      <th>81583</th>\n      <td>157</td>\n      <td>56</td>\n      <td>45</td>\n      <td>79125</td>\n      <td>Upton town</td>\n      <td>Wyoming</td>\n      <td>1094</td>\n      <td>1101</td>\n      <td>1107</td>\n      <td>1106</td>\n    </tr>\n    <tr>\n      <th>81584</th>\n      <td>157</td>\n      <td>56</td>\n      <td>45</td>\n      <td>99990</td>\n      <td>Balance of Weston County</td>\n      <td>Wyoming</td>\n      <td>2573</td>\n      <td>2573</td>\n      <td>2598</td>\n      <td>2595</td>\n    </tr>\n  </tbody>\n</table>\n<p>81585 rows × 10 columns</p>\n</div>",
      "text/plain": "       SUMLEV  STATE  COUNTY  PLACE                        NAME   STNAME  \\\n0          40      1       0      0                     Alabama  Alabama   \n1         162      1       0    124              Abbeville city  Alabama   \n2         162      1       0    460             Adamsville city  Alabama   \n3         162      1       0    484                Addison town  Alabama   \n4         162      1       0    676                  Akron town  Alabama   \n...       ...    ...     ...    ...                         ...      ...   \n81580     157     56      43  99990  Balance of Washakie County  Wyoming   \n81581      50     56      45      0               Weston County  Wyoming   \n81582     157     56      45  56215              Newcastle city  Wyoming   \n81583     157     56      45  79125                  Upton town  Wyoming   \n81584     157     56      45  99990    Balance of Weston County  Wyoming   \n\n       POPESTIMATE2013  POPESTIMATE2014  POPESTIMATE2015  POPESTIMATE2016  \n0              4829479          4843214          4853875          4863300  \n1                 2631             2619             2616             2603  \n2                 4447             4428             4395             4360  \n3                  748              747              740              738  \n4                  342              337              337              334  \n...                ...              ...              ...              ...  \n81580             2744             2697             2704             2669  \n81581             7163             7179             7230             7236  \n81582             3496             3505             3525             3535  \n81583             1094             1101             1107             1106  \n81584             2573             2573             2598             2595  \n\n[81585 rows x 10 columns]"
     },
     "execution_count": 24,
     "metadata": {},
     "output_type": "execute_result"
    }
   ],
   "source": [
    "cities_pop"
   ]
  },
  {
   "cell_type": "markdown",
   "metadata": {},
   "source": [
    "# gameplan\n",
    "here we have 3 datasets one on poverty by county, one on population by city, one that will bridge the two. \n",
    "Remember cities and counties are written differently (eg st. louis could be saint louis). The goal here will be no missing data.\n",
    "\n",
    "- make df: `popcounty` by adding `counties` to population-by-city `cities_pop`.\n",
    "- make df: `povcity` by joining poverty-by-county `cities_pop` and adding cities `county_cities` \n",
    "- make df: stats_city_county by combining `povcity` and `popcounty`\n",
    "- make df: joining this to incident."
   ]
  },
  {
   "cell_type": "code",
   "execution_count": 27,
   "metadata": {},
   "outputs": [
    {
     "data": {
      "text/html": "<div>\n<style scoped>\n    .dataframe tbody tr th:only-of-type {\n        vertical-align: middle;\n    }\n\n    .dataframe tbody tr th {\n        vertical-align: top;\n    }\n\n    .dataframe thead th {\n        text-align: right;\n    }\n</style>\n<table border=\"1\" class=\"dataframe\">\n  <thead>\n    <tr style=\"text-align: right;\">\n      <th></th>\n      <th>SUMLEV</th>\n      <th>STATE</th>\n      <th>COUNTY</th>\n      <th>PLACE</th>\n      <th>NAME</th>\n      <th>STNAME</th>\n      <th>POPESTIMATE2013</th>\n      <th>POPESTIMATE2014</th>\n      <th>POPESTIMATE2015</th>\n      <th>POPESTIMATE2016</th>\n    </tr>\n  </thead>\n  <tbody>\n    <tr>\n      <th>0</th>\n      <td>40</td>\n      <td>1</td>\n      <td>0</td>\n      <td>0</td>\n      <td>Alabama</td>\n      <td>Alabama</td>\n      <td>4829479</td>\n      <td>4843214</td>\n      <td>4853875</td>\n      <td>4863300</td>\n    </tr>\n    <tr>\n      <th>1</th>\n      <td>162</td>\n      <td>1</td>\n      <td>0</td>\n      <td>124</td>\n      <td>Abbeville city</td>\n      <td>Alabama</td>\n      <td>2631</td>\n      <td>2619</td>\n      <td>2616</td>\n      <td>2603</td>\n    </tr>\n    <tr>\n      <th>2</th>\n      <td>162</td>\n      <td>1</td>\n      <td>0</td>\n      <td>460</td>\n      <td>Adamsville city</td>\n      <td>Alabama</td>\n      <td>4447</td>\n      <td>4428</td>\n      <td>4395</td>\n      <td>4360</td>\n    </tr>\n    <tr>\n      <th>3</th>\n      <td>162</td>\n      <td>1</td>\n      <td>0</td>\n      <td>484</td>\n      <td>Addison town</td>\n      <td>Alabama</td>\n      <td>748</td>\n      <td>747</td>\n      <td>740</td>\n      <td>738</td>\n    </tr>\n    <tr>\n      <th>4</th>\n      <td>162</td>\n      <td>1</td>\n      <td>0</td>\n      <td>676</td>\n      <td>Akron town</td>\n      <td>Alabama</td>\n      <td>342</td>\n      <td>337</td>\n      <td>337</td>\n      <td>334</td>\n    </tr>\n    <tr>\n      <th>...</th>\n      <td>...</td>\n      <td>...</td>\n      <td>...</td>\n      <td>...</td>\n      <td>...</td>\n      <td>...</td>\n      <td>...</td>\n      <td>...</td>\n      <td>...</td>\n      <td>...</td>\n    </tr>\n    <tr>\n      <th>81580</th>\n      <td>157</td>\n      <td>56</td>\n      <td>43</td>\n      <td>99990</td>\n      <td>Balance of Washakie County</td>\n      <td>Wyoming</td>\n      <td>2744</td>\n      <td>2697</td>\n      <td>2704</td>\n      <td>2669</td>\n    </tr>\n    <tr>\n      <th>81581</th>\n      <td>50</td>\n      <td>56</td>\n      <td>45</td>\n      <td>0</td>\n      <td>Weston County</td>\n      <td>Wyoming</td>\n      <td>7163</td>\n      <td>7179</td>\n      <td>7230</td>\n      <td>7236</td>\n    </tr>\n    <tr>\n      <th>81582</th>\n      <td>157</td>\n      <td>56</td>\n      <td>45</td>\n      <td>56215</td>\n      <td>Newcastle city</td>\n      <td>Wyoming</td>\n      <td>3496</td>\n      <td>3505</td>\n      <td>3525</td>\n      <td>3535</td>\n    </tr>\n    <tr>\n      <th>81583</th>\n      <td>157</td>\n      <td>56</td>\n      <td>45</td>\n      <td>79125</td>\n      <td>Upton town</td>\n      <td>Wyoming</td>\n      <td>1094</td>\n      <td>1101</td>\n      <td>1107</td>\n      <td>1106</td>\n    </tr>\n    <tr>\n      <th>81584</th>\n      <td>157</td>\n      <td>56</td>\n      <td>45</td>\n      <td>99990</td>\n      <td>Balance of Weston County</td>\n      <td>Wyoming</td>\n      <td>2573</td>\n      <td>2573</td>\n      <td>2598</td>\n      <td>2595</td>\n    </tr>\n  </tbody>\n</table>\n<p>81585 rows × 10 columns</p>\n</div>",
      "text/plain": "       SUMLEV  STATE  COUNTY  PLACE                        NAME   STNAME  \\\n0          40      1       0      0                     Alabama  Alabama   \n1         162      1       0    124              Abbeville city  Alabama   \n2         162      1       0    460             Adamsville city  Alabama   \n3         162      1       0    484                Addison town  Alabama   \n4         162      1       0    676                  Akron town  Alabama   \n...       ...    ...     ...    ...                         ...      ...   \n81580     157     56      43  99990  Balance of Washakie County  Wyoming   \n81581      50     56      45      0               Weston County  Wyoming   \n81582     157     56      45  56215              Newcastle city  Wyoming   \n81583     157     56      45  79125                  Upton town  Wyoming   \n81584     157     56      45  99990    Balance of Weston County  Wyoming   \n\n       POPESTIMATE2013  POPESTIMATE2014  POPESTIMATE2015  POPESTIMATE2016  \n0              4829479          4843214          4853875          4863300  \n1                 2631             2619             2616             2603  \n2                 4447             4428             4395             4360  \n3                  748              747              740              738  \n4                  342              337              337              334  \n...                ...              ...              ...              ...  \n81580             2744             2697             2704             2669  \n81581             7163             7179             7230             7236  \n81582             3496             3505             3525             3535  \n81583             1094             1101             1107             1106  \n81584             2573             2573             2598             2595  \n\n[81585 rows x 10 columns]"
     },
     "execution_count": 27,
     "metadata": {},
     "output_type": "execute_result"
    }
   ],
   "source": [
    "cities_pop"
   ]
  },
  {
   "cell_type": "code",
   "execution_count": 6,
   "metadata": {},
   "outputs": [
    {
     "data": {
      "text/html": "<div>\n<style scoped>\n    .dataframe tbody tr th:only-of-type {\n        vertical-align: middle;\n    }\n\n    .dataframe tbody tr th {\n        vertical-align: top;\n    }\n\n    .dataframe thead th {\n        text-align: right;\n    }\n</style>\n<table border=\"1\" class=\"dataframe\">\n  <thead>\n    <tr style=\"text-align: right;\">\n      <th></th>\n      <th>State</th>\n      <th>Area_Name</th>\n      <th>PCTPOVALL_2015</th>\n      <th>PCTPOV017_2015</th>\n      <th>MEDHHINC_2015</th>\n    </tr>\n  </thead>\n  <tbody>\n    <tr>\n      <th>0</th>\n      <td>AL</td>\n      <td>Alabama</td>\n      <td>18.5</td>\n      <td>26.5</td>\n      <td>44,833</td>\n    </tr>\n    <tr>\n      <th>1</th>\n      <td>AL</td>\n      <td>Autauga County</td>\n      <td>12.7</td>\n      <td>18.8</td>\n      <td>56,580</td>\n    </tr>\n    <tr>\n      <th>2</th>\n      <td>AL</td>\n      <td>Baldwin County</td>\n      <td>12.9</td>\n      <td>19.6</td>\n      <td>52,387</td>\n    </tr>\n    <tr>\n      <th>3</th>\n      <td>AL</td>\n      <td>Barbour County</td>\n      <td>32.0</td>\n      <td>45.2</td>\n      <td>31,433</td>\n    </tr>\n    <tr>\n      <th>4</th>\n      <td>AL</td>\n      <td>Bibb County</td>\n      <td>22.2</td>\n      <td>29.3</td>\n      <td>40,767</td>\n    </tr>\n    <tr>\n      <th>...</th>\n      <td>...</td>\n      <td>...</td>\n      <td>...</td>\n      <td>...</td>\n      <td>...</td>\n    </tr>\n    <tr>\n      <th>3188</th>\n      <td>WY</td>\n      <td>Sweetwater County</td>\n      <td>8.5</td>\n      <td>10.2</td>\n      <td>71,867</td>\n    </tr>\n    <tr>\n      <th>3189</th>\n      <td>WY</td>\n      <td>Teton County</td>\n      <td>6.6</td>\n      <td>7.6</td>\n      <td>83,290</td>\n    </tr>\n    <tr>\n      <th>3190</th>\n      <td>WY</td>\n      <td>Uinta County</td>\n      <td>9.8</td>\n      <td>11.9</td>\n      <td>62,968</td>\n    </tr>\n    <tr>\n      <th>3191</th>\n      <td>WY</td>\n      <td>Washakie County</td>\n      <td>11.2</td>\n      <td>15.7</td>\n      <td>56,088</td>\n    </tr>\n    <tr>\n      <th>3192</th>\n      <td>WY</td>\n      <td>Weston County</td>\n      <td>9.8</td>\n      <td>13.1</td>\n      <td>60,986</td>\n    </tr>\n  </tbody>\n</table>\n<p>3193 rows × 5 columns</p>\n</div>",
      "text/plain": "     State          Area_Name PCTPOVALL_2015 PCTPOV017_2015 MEDHHINC_2015\n0       AL            Alabama           18.5           26.5        44,833\n1       AL     Autauga County           12.7           18.8        56,580\n2       AL     Baldwin County           12.9           19.6        52,387\n3       AL     Barbour County           32.0           45.2        31,433\n4       AL        Bibb County           22.2           29.3        40,767\n...    ...                ...            ...            ...           ...\n3188    WY  Sweetwater County            8.5           10.2        71,867\n3189    WY       Teton County            6.6            7.6        83,290\n3190    WY       Uinta County            9.8           11.9        62,968\n3191    WY    Washakie County           11.2           15.7        56,088\n3192    WY      Weston County            9.8           13.1        60,986\n\n[3193 rows x 5 columns]"
     },
     "execution_count": 6,
     "metadata": {},
     "output_type": "execute_result"
    }
   ],
   "source": [
    "poverty"
   ]
  },
  {
   "cell_type": "code",
   "execution_count": 7,
   "metadata": {},
   "outputs": [
    {
     "data": {
      "text/html": "<div>\n<style scoped>\n    .dataframe tbody tr th:only-of-type {\n        vertical-align: middle;\n    }\n\n    .dataframe tbody tr th {\n        vertical-align: top;\n    }\n\n    .dataframe thead th {\n        text-align: right;\n    }\n</style>\n<table border=\"1\" class=\"dataframe\">\n  <thead>\n    <tr style=\"text-align: right;\">\n      <th></th>\n      <th>latitude</th>\n      <th>longitude</th>\n      <th>city</th>\n      <th>state</th>\n      <th>county</th>\n    </tr>\n  </thead>\n  <tbody>\n    <tr>\n      <th>0</th>\n      <td>40.922326</td>\n      <td>-72.637078</td>\n      <td>Holtsville</td>\n      <td>NY</td>\n      <td>Suffolk</td>\n    </tr>\n    <tr>\n      <th>1</th>\n      <td>40.922326</td>\n      <td>-72.637078</td>\n      <td>Holtsville</td>\n      <td>NY</td>\n      <td>Suffolk</td>\n    </tr>\n    <tr>\n      <th>2</th>\n      <td>18.165273</td>\n      <td>-66.722583</td>\n      <td>Adjuntas</td>\n      <td>PR</td>\n      <td>Adjuntas</td>\n    </tr>\n    <tr>\n      <th>3</th>\n      <td>18.393103</td>\n      <td>-67.180953</td>\n      <td>Aguada</td>\n      <td>PR</td>\n      <td>Aguada</td>\n    </tr>\n    <tr>\n      <th>4</th>\n      <td>18.455913</td>\n      <td>-67.145780</td>\n      <td>Aguadilla</td>\n      <td>PR</td>\n      <td>Aguadilla</td>\n    </tr>\n    <tr>\n      <th>...</th>\n      <td>...</td>\n      <td>...</td>\n      <td>...</td>\n      <td>...</td>\n      <td>...</td>\n    </tr>\n    <tr>\n      <th>42736</th>\n      <td>55.094325</td>\n      <td>-131.566827</td>\n      <td>Metlakatla</td>\n      <td>AK</td>\n      <td>Prince Wales Ketchikan</td>\n    </tr>\n    <tr>\n      <th>42737</th>\n      <td>55.517921</td>\n      <td>-132.003244</td>\n      <td>Point Baker</td>\n      <td>AK</td>\n      <td>Prince Wales Ketchikan</td>\n    </tr>\n    <tr>\n      <th>42738</th>\n      <td>55.395359</td>\n      <td>-131.675370</td>\n      <td>Ward Cove</td>\n      <td>AK</td>\n      <td>Ketchikan Gateway</td>\n    </tr>\n    <tr>\n      <th>42739</th>\n      <td>56.449893</td>\n      <td>-132.364407</td>\n      <td>Wrangell</td>\n      <td>AK</td>\n      <td>Wrangell Petersburg</td>\n    </tr>\n    <tr>\n      <th>42740</th>\n      <td>55.542007</td>\n      <td>-131.432682</td>\n      <td>Ketchikan</td>\n      <td>AK</td>\n      <td>Ketchikan Gateway</td>\n    </tr>\n  </tbody>\n</table>\n<p>42741 rows × 5 columns</p>\n</div>",
      "text/plain": "        latitude   longitude         city state                  county\n0      40.922326  -72.637078   Holtsville    NY                 Suffolk\n1      40.922326  -72.637078   Holtsville    NY                 Suffolk\n2      18.165273  -66.722583     Adjuntas    PR                Adjuntas\n3      18.393103  -67.180953       Aguada    PR                  Aguada\n4      18.455913  -67.145780    Aguadilla    PR               Aguadilla\n...          ...         ...          ...   ...                     ...\n42736  55.094325 -131.566827   Metlakatla    AK  Prince Wales Ketchikan\n42737  55.517921 -132.003244  Point Baker    AK  Prince Wales Ketchikan\n42738  55.395359 -131.675370    Ward Cove    AK       Ketchikan Gateway\n42739  56.449893 -132.364407     Wrangell    AK     Wrangell Petersburg\n42740  55.542007 -131.432682    Ketchikan    AK       Ketchikan Gateway\n\n[42741 rows x 5 columns]"
     },
     "execution_count": 7,
     "metadata": {},
     "output_type": "execute_result"
    }
   ],
   "source": [
    "county_cities"
   ]
  },
  {
   "cell_type": "code",
   "execution_count": 8,
   "metadata": {},
   "outputs": [
    {
     "data": {
      "text/html": "<div>\n<style scoped>\n    .dataframe tbody tr th:only-of-type {\n        vertical-align: middle;\n    }\n\n    .dataframe tbody tr th {\n        vertical-align: top;\n    }\n\n    .dataframe thead th {\n        text-align: right;\n    }\n</style>\n<table border=\"1\" class=\"dataframe\">\n  <thead>\n    <tr style=\"text-align: right;\">\n      <th></th>\n      <th>SUMLEV</th>\n      <th>STATE</th>\n      <th>COUNTY</th>\n      <th>PLACE</th>\n      <th>NAME</th>\n      <th>STNAME</th>\n      <th>POPESTIMATE2013</th>\n      <th>POPESTIMATE2014</th>\n      <th>POPESTIMATE2015</th>\n      <th>POPESTIMATE2016</th>\n    </tr>\n  </thead>\n  <tbody>\n    <tr>\n      <th>0</th>\n      <td>40</td>\n      <td>1</td>\n      <td>0</td>\n      <td>0</td>\n      <td>Alabama</td>\n      <td>Alabama</td>\n      <td>4829479</td>\n      <td>4843214</td>\n      <td>4853875</td>\n      <td>4863300</td>\n    </tr>\n    <tr>\n      <th>1</th>\n      <td>162</td>\n      <td>1</td>\n      <td>0</td>\n      <td>124</td>\n      <td>Abbeville city</td>\n      <td>Alabama</td>\n      <td>2631</td>\n      <td>2619</td>\n      <td>2616</td>\n      <td>2603</td>\n    </tr>\n    <tr>\n      <th>2</th>\n      <td>162</td>\n      <td>1</td>\n      <td>0</td>\n      <td>460</td>\n      <td>Adamsville city</td>\n      <td>Alabama</td>\n      <td>4447</td>\n      <td>4428</td>\n      <td>4395</td>\n      <td>4360</td>\n    </tr>\n    <tr>\n      <th>3</th>\n      <td>162</td>\n      <td>1</td>\n      <td>0</td>\n      <td>484</td>\n      <td>Addison town</td>\n      <td>Alabama</td>\n      <td>748</td>\n      <td>747</td>\n      <td>740</td>\n      <td>738</td>\n    </tr>\n    <tr>\n      <th>4</th>\n      <td>162</td>\n      <td>1</td>\n      <td>0</td>\n      <td>676</td>\n      <td>Akron town</td>\n      <td>Alabama</td>\n      <td>342</td>\n      <td>337</td>\n      <td>337</td>\n      <td>334</td>\n    </tr>\n    <tr>\n      <th>...</th>\n      <td>...</td>\n      <td>...</td>\n      <td>...</td>\n      <td>...</td>\n      <td>...</td>\n      <td>...</td>\n      <td>...</td>\n      <td>...</td>\n      <td>...</td>\n      <td>...</td>\n    </tr>\n    <tr>\n      <th>81580</th>\n      <td>157</td>\n      <td>56</td>\n      <td>43</td>\n      <td>99990</td>\n      <td>Balance of Washakie County</td>\n      <td>Wyoming</td>\n      <td>2744</td>\n      <td>2697</td>\n      <td>2704</td>\n      <td>2669</td>\n    </tr>\n    <tr>\n      <th>81581</th>\n      <td>50</td>\n      <td>56</td>\n      <td>45</td>\n      <td>0</td>\n      <td>Weston County</td>\n      <td>Wyoming</td>\n      <td>7163</td>\n      <td>7179</td>\n      <td>7230</td>\n      <td>7236</td>\n    </tr>\n    <tr>\n      <th>81582</th>\n      <td>157</td>\n      <td>56</td>\n      <td>45</td>\n      <td>56215</td>\n      <td>Newcastle city</td>\n      <td>Wyoming</td>\n      <td>3496</td>\n      <td>3505</td>\n      <td>3525</td>\n      <td>3535</td>\n    </tr>\n    <tr>\n      <th>81583</th>\n      <td>157</td>\n      <td>56</td>\n      <td>45</td>\n      <td>79125</td>\n      <td>Upton town</td>\n      <td>Wyoming</td>\n      <td>1094</td>\n      <td>1101</td>\n      <td>1107</td>\n      <td>1106</td>\n    </tr>\n    <tr>\n      <th>81584</th>\n      <td>157</td>\n      <td>56</td>\n      <td>45</td>\n      <td>99990</td>\n      <td>Balance of Weston County</td>\n      <td>Wyoming</td>\n      <td>2573</td>\n      <td>2573</td>\n      <td>2598</td>\n      <td>2595</td>\n    </tr>\n  </tbody>\n</table>\n<p>81585 rows × 10 columns</p>\n</div>",
      "text/plain": "       SUMLEV  STATE  COUNTY  PLACE                        NAME   STNAME  \\\n0          40      1       0      0                     Alabama  Alabama   \n1         162      1       0    124              Abbeville city  Alabama   \n2         162      1       0    460             Adamsville city  Alabama   \n3         162      1       0    484                Addison town  Alabama   \n4         162      1       0    676                  Akron town  Alabama   \n...       ...    ...     ...    ...                         ...      ...   \n81580     157     56      43  99990  Balance of Washakie County  Wyoming   \n81581      50     56      45      0               Weston County  Wyoming   \n81582     157     56      45  56215              Newcastle city  Wyoming   \n81583     157     56      45  79125                  Upton town  Wyoming   \n81584     157     56      45  99990    Balance of Weston County  Wyoming   \n\n       POPESTIMATE2013  POPESTIMATE2014  POPESTIMATE2015  POPESTIMATE2016  \n0              4829479          4843214          4853875          4863300  \n1                 2631             2619             2616             2603  \n2                 4447             4428             4395             4360  \n3                  748              747              740              738  \n4                  342              337              337              334  \n...                ...              ...              ...              ...  \n81580             2744             2697             2704             2669  \n81581             7163             7179             7230             7236  \n81582             3496             3505             3525             3535  \n81583             1094             1101             1107             1106  \n81584             2573             2573             2598             2595  \n\n[81585 rows x 10 columns]"
     },
     "execution_count": 8,
     "metadata": {},
     "output_type": "execute_result"
    }
   ],
   "source": []
  },
  {
   "cell_type": "code",
   "execution_count": null,
   "metadata": {},
   "outputs": [],
   "source": []
  }
 ],
 "metadata": {
  "kernelspec": {
   "display_name": "Python 3.8.2 64-bit",
   "metadata": {
    "interpreter": {
     "hash": "aee8b7b246df8f9039afb4144a1f6fd8d2ca17a180786b69acc140d282b71a49"
    }
   },
   "name": "python3"
  },
  "language_info": {
   "codemirror_mode": {
    "name": "ipython",
    "version": 3
   },
   "file_extension": ".py",
   "mimetype": "text/x-python",
   "name": "python",
   "nbconvert_exporter": "python",
   "pygments_lexer": "ipython3",
   "version": "3.8.2"
  },
  "orig_nbformat": 2
 },
 "nbformat": 4,
 "nbformat_minor": 2
}