{
 "cells": [
  {
   "cell_type": "code",
   "execution_count": 60,
   "metadata": {},
   "outputs": [
    {
     "ename": "UnicodeDecodeError",
     "evalue": "'utf-8' codec can't decode byte 0xe9 in position 45391: invalid continuation byte",
     "output_type": "error",
     "traceback": [
      "\u001b[0;31m---------------------------------------------------------------------------\u001b[0m",
      "\u001b[0;31mUnicodeDecodeError\u001b[0m                        Traceback (most recent call last)",
      "\u001b[0;32m<ipython-input-60-fa8218d0cec0>\u001b[0m in \u001b[0;36m<module>\u001b[0;34m\u001b[0m\n\u001b[1;32m     14\u001b[0m \u001b[0mcities_pop\u001b[0m \u001b[0;34m=\u001b[0m \u001b[0mcities_pop\u001b[0m\u001b[0;34m.\u001b[0m\u001b[0mrename\u001b[0m\u001b[0;34m(\u001b[0m\u001b[0mcolumns\u001b[0m\u001b[0;34m=\u001b[0m\u001b[0;34m{\u001b[0m\u001b[0;34m\"NAME\"\u001b[0m\u001b[0;34m:\u001b[0m \u001b[0;34m\"city_og\"\u001b[0m\u001b[0;34m,\u001b[0m \u001b[0;34m\"STNAME\"\u001b[0m\u001b[0;34m:\u001b[0m \u001b[0;34m\"state\"\u001b[0m\u001b[0;34m}\u001b[0m\u001b[0;34m)\u001b[0m\u001b[0;34m\u001b[0m\u001b[0;34m\u001b[0m\u001b[0m\n\u001b[1;32m     15\u001b[0m \u001b[0mcounty_cities\u001b[0m \u001b[0;34m=\u001b[0m \u001b[0mpd\u001b[0m\u001b[0;34m.\u001b[0m\u001b[0mread_csv\u001b[0m\u001b[0;34m(\u001b[0m\u001b[0mfull_path\u001b[0m \u001b[0;34m+\u001b[0m \u001b[0mfiles\u001b[0m\u001b[0;34m[\u001b[0m\u001b[0;36m3\u001b[0m\u001b[0;34m]\u001b[0m\u001b[0;34m,\u001b[0m \u001b[0mencoding\u001b[0m\u001b[0;34m=\u001b[0m\u001b[0;34m'utf-8'\u001b[0m \u001b[0;34m)\u001b[0m\u001b[0;34m\u001b[0m\u001b[0;34m\u001b[0m\u001b[0m\n\u001b[0;32m---> 16\u001b[0;31m \u001b[0mgtd\u001b[0m \u001b[0;34m=\u001b[0m \u001b[0mpd\u001b[0m\u001b[0;34m.\u001b[0m\u001b[0mread_csv\u001b[0m\u001b[0;34m(\u001b[0m\u001b[0mfull_path\u001b[0m \u001b[0;34m+\u001b[0m \u001b[0mfiles\u001b[0m\u001b[0;34m[\u001b[0m\u001b[0;36m0\u001b[0m\u001b[0;34m]\u001b[0m\u001b[0;34m,\u001b[0m \u001b[0mencoding\u001b[0m\u001b[0;34m=\u001b[0m\u001b[0;34m'utf-8'\u001b[0m \u001b[0;34m)\u001b[0m\u001b[0;34m\u001b[0m\u001b[0;34m\u001b[0m\u001b[0m\n\u001b[0m\u001b[1;32m     17\u001b[0m \u001b[0mgtd\u001b[0m \u001b[0;34m=\u001b[0m \u001b[0mgtd\u001b[0m\u001b[0;34m.\u001b[0m\u001b[0mrename\u001b[0m\u001b[0;34m(\u001b[0m\u001b[0mcolumns\u001b[0m \u001b[0;34m=\u001b[0m \u001b[0;34m{\u001b[0m\u001b[0;34m'provstate'\u001b[0m\u001b[0;34m:\u001b[0m \u001b[0;34m'state'\u001b[0m\u001b[0;34m}\u001b[0m\u001b[0;34m)\u001b[0m\u001b[0;34m\u001b[0m\u001b[0;34m\u001b[0m\u001b[0m\n",
      "\u001b[0;32m~/Library/Python/3.8/lib/python/site-packages/pandas/io/parsers.py\u001b[0m in \u001b[0;36mparser_f\u001b[0;34m(filepath_or_buffer, sep, delimiter, header, names, index_col, usecols, squeeze, prefix, mangle_dupe_cols, dtype, engine, converters, true_values, false_values, skipinitialspace, skiprows, skipfooter, nrows, na_values, keep_default_na, na_filter, verbose, skip_blank_lines, parse_dates, infer_datetime_format, keep_date_col, date_parser, dayfirst, cache_dates, iterator, chunksize, compression, thousands, decimal, lineterminator, quotechar, quoting, doublequote, escapechar, comment, encoding, dialect, error_bad_lines, warn_bad_lines, delim_whitespace, low_memory, memory_map, float_precision)\u001b[0m\n\u001b[1;32m    674\u001b[0m         )\n\u001b[1;32m    675\u001b[0m \u001b[0;34m\u001b[0m\u001b[0m\n\u001b[0;32m--> 676\u001b[0;31m         \u001b[0;32mreturn\u001b[0m \u001b[0m_read\u001b[0m\u001b[0;34m(\u001b[0m\u001b[0mfilepath_or_buffer\u001b[0m\u001b[0;34m,\u001b[0m \u001b[0mkwds\u001b[0m\u001b[0;34m)\u001b[0m\u001b[0;34m\u001b[0m\u001b[0;34m\u001b[0m\u001b[0m\n\u001b[0m\u001b[1;32m    677\u001b[0m \u001b[0;34m\u001b[0m\u001b[0m\n\u001b[1;32m    678\u001b[0m     \u001b[0mparser_f\u001b[0m\u001b[0;34m.\u001b[0m\u001b[0m__name__\u001b[0m \u001b[0;34m=\u001b[0m \u001b[0mname\u001b[0m\u001b[0;34m\u001b[0m\u001b[0;34m\u001b[0m\u001b[0m\n",
      "\u001b[0;32m~/Library/Python/3.8/lib/python/site-packages/pandas/io/parsers.py\u001b[0m in \u001b[0;36m_read\u001b[0;34m(filepath_or_buffer, kwds)\u001b[0m\n\u001b[1;32m    446\u001b[0m \u001b[0;34m\u001b[0m\u001b[0m\n\u001b[1;32m    447\u001b[0m     \u001b[0;31m# Create the parser.\u001b[0m\u001b[0;34m\u001b[0m\u001b[0;34m\u001b[0m\u001b[0;34m\u001b[0m\u001b[0m\n\u001b[0;32m--> 448\u001b[0;31m     \u001b[0mparser\u001b[0m \u001b[0;34m=\u001b[0m \u001b[0mTextFileReader\u001b[0m\u001b[0;34m(\u001b[0m\u001b[0mfp_or_buf\u001b[0m\u001b[0;34m,\u001b[0m \u001b[0;34m**\u001b[0m\u001b[0mkwds\u001b[0m\u001b[0;34m)\u001b[0m\u001b[0;34m\u001b[0m\u001b[0;34m\u001b[0m\u001b[0m\n\u001b[0m\u001b[1;32m    449\u001b[0m \u001b[0;34m\u001b[0m\u001b[0m\n\u001b[1;32m    450\u001b[0m     \u001b[0;32mif\u001b[0m \u001b[0mchunksize\u001b[0m \u001b[0;32mor\u001b[0m \u001b[0miterator\u001b[0m\u001b[0;34m:\u001b[0m\u001b[0;34m\u001b[0m\u001b[0;34m\u001b[0m\u001b[0m\n",
      "\u001b[0;32m~/Library/Python/3.8/lib/python/site-packages/pandas/io/parsers.py\u001b[0m in \u001b[0;36m__init__\u001b[0;34m(self, f, engine, **kwds)\u001b[0m\n\u001b[1;32m    878\u001b[0m             \u001b[0mself\u001b[0m\u001b[0;34m.\u001b[0m\u001b[0moptions\u001b[0m\u001b[0;34m[\u001b[0m\u001b[0;34m\"has_index_names\"\u001b[0m\u001b[0;34m]\u001b[0m \u001b[0;34m=\u001b[0m \u001b[0mkwds\u001b[0m\u001b[0;34m[\u001b[0m\u001b[0;34m\"has_index_names\"\u001b[0m\u001b[0;34m]\u001b[0m\u001b[0;34m\u001b[0m\u001b[0;34m\u001b[0m\u001b[0m\n\u001b[1;32m    879\u001b[0m \u001b[0;34m\u001b[0m\u001b[0m\n\u001b[0;32m--> 880\u001b[0;31m         \u001b[0mself\u001b[0m\u001b[0;34m.\u001b[0m\u001b[0m_make_engine\u001b[0m\u001b[0;34m(\u001b[0m\u001b[0mself\u001b[0m\u001b[0;34m.\u001b[0m\u001b[0mengine\u001b[0m\u001b[0;34m)\u001b[0m\u001b[0;34m\u001b[0m\u001b[0;34m\u001b[0m\u001b[0m\n\u001b[0m\u001b[1;32m    881\u001b[0m \u001b[0;34m\u001b[0m\u001b[0m\n\u001b[1;32m    882\u001b[0m     \u001b[0;32mdef\u001b[0m \u001b[0mclose\u001b[0m\u001b[0;34m(\u001b[0m\u001b[0mself\u001b[0m\u001b[0;34m)\u001b[0m\u001b[0;34m:\u001b[0m\u001b[0;34m\u001b[0m\u001b[0;34m\u001b[0m\u001b[0m\n",
      "\u001b[0;32m~/Library/Python/3.8/lib/python/site-packages/pandas/io/parsers.py\u001b[0m in \u001b[0;36m_make_engine\u001b[0;34m(self, engine)\u001b[0m\n\u001b[1;32m   1112\u001b[0m     \u001b[0;32mdef\u001b[0m \u001b[0m_make_engine\u001b[0m\u001b[0;34m(\u001b[0m\u001b[0mself\u001b[0m\u001b[0;34m,\u001b[0m \u001b[0mengine\u001b[0m\u001b[0;34m=\u001b[0m\u001b[0;34m\"c\"\u001b[0m\u001b[0;34m)\u001b[0m\u001b[0;34m:\u001b[0m\u001b[0;34m\u001b[0m\u001b[0;34m\u001b[0m\u001b[0m\n\u001b[1;32m   1113\u001b[0m         \u001b[0;32mif\u001b[0m \u001b[0mengine\u001b[0m \u001b[0;34m==\u001b[0m \u001b[0;34m\"c\"\u001b[0m\u001b[0;34m:\u001b[0m\u001b[0;34m\u001b[0m\u001b[0;34m\u001b[0m\u001b[0m\n\u001b[0;32m-> 1114\u001b[0;31m             \u001b[0mself\u001b[0m\u001b[0;34m.\u001b[0m\u001b[0m_engine\u001b[0m \u001b[0;34m=\u001b[0m \u001b[0mCParserWrapper\u001b[0m\u001b[0;34m(\u001b[0m\u001b[0mself\u001b[0m\u001b[0;34m.\u001b[0m\u001b[0mf\u001b[0m\u001b[0;34m,\u001b[0m \u001b[0;34m**\u001b[0m\u001b[0mself\u001b[0m\u001b[0;34m.\u001b[0m\u001b[0moptions\u001b[0m\u001b[0;34m)\u001b[0m\u001b[0;34m\u001b[0m\u001b[0;34m\u001b[0m\u001b[0m\n\u001b[0m\u001b[1;32m   1115\u001b[0m         \u001b[0;32melse\u001b[0m\u001b[0;34m:\u001b[0m\u001b[0;34m\u001b[0m\u001b[0;34m\u001b[0m\u001b[0m\n\u001b[1;32m   1116\u001b[0m             \u001b[0;32mif\u001b[0m \u001b[0mengine\u001b[0m \u001b[0;34m==\u001b[0m \u001b[0;34m\"python\"\u001b[0m\u001b[0;34m:\u001b[0m\u001b[0;34m\u001b[0m\u001b[0;34m\u001b[0m\u001b[0m\n",
      "\u001b[0;32m~/Library/Python/3.8/lib/python/site-packages/pandas/io/parsers.py\u001b[0m in \u001b[0;36m__init__\u001b[0;34m(self, src, **kwds)\u001b[0m\n\u001b[1;32m   1889\u001b[0m         \u001b[0mkwds\u001b[0m\u001b[0;34m[\u001b[0m\u001b[0;34m\"usecols\"\u001b[0m\u001b[0;34m]\u001b[0m \u001b[0;34m=\u001b[0m \u001b[0mself\u001b[0m\u001b[0;34m.\u001b[0m\u001b[0musecols\u001b[0m\u001b[0;34m\u001b[0m\u001b[0;34m\u001b[0m\u001b[0m\n\u001b[1;32m   1890\u001b[0m \u001b[0;34m\u001b[0m\u001b[0m\n\u001b[0;32m-> 1891\u001b[0;31m         \u001b[0mself\u001b[0m\u001b[0;34m.\u001b[0m\u001b[0m_reader\u001b[0m \u001b[0;34m=\u001b[0m \u001b[0mparsers\u001b[0m\u001b[0;34m.\u001b[0m\u001b[0mTextReader\u001b[0m\u001b[0;34m(\u001b[0m\u001b[0msrc\u001b[0m\u001b[0;34m,\u001b[0m \u001b[0;34m**\u001b[0m\u001b[0mkwds\u001b[0m\u001b[0;34m)\u001b[0m\u001b[0;34m\u001b[0m\u001b[0;34m\u001b[0m\u001b[0m\n\u001b[0m\u001b[1;32m   1892\u001b[0m         \u001b[0mself\u001b[0m\u001b[0;34m.\u001b[0m\u001b[0munnamed_cols\u001b[0m \u001b[0;34m=\u001b[0m \u001b[0mself\u001b[0m\u001b[0;34m.\u001b[0m\u001b[0m_reader\u001b[0m\u001b[0;34m.\u001b[0m\u001b[0munnamed_cols\u001b[0m\u001b[0;34m\u001b[0m\u001b[0;34m\u001b[0m\u001b[0m\n\u001b[1;32m   1893\u001b[0m \u001b[0;34m\u001b[0m\u001b[0m\n",
      "\u001b[0;32mpandas/_libs/parsers.pyx\u001b[0m in \u001b[0;36mpandas._libs.parsers.TextReader.__cinit__\u001b[0;34m()\u001b[0m\n",
      "\u001b[0;32mpandas/_libs/parsers.pyx\u001b[0m in \u001b[0;36mpandas._libs.parsers.TextReader._get_header\u001b[0;34m()\u001b[0m\n",
      "\u001b[0;32mpandas/_libs/parsers.pyx\u001b[0m in \u001b[0;36mpandas._libs.parsers.TextReader._tokenize_rows\u001b[0;34m()\u001b[0m\n",
      "\u001b[0;32mpandas/_libs/parsers.pyx\u001b[0m in \u001b[0;36mpandas._libs.parsers.raise_parser_error\u001b[0;34m()\u001b[0m\n",
      "\u001b[0;31mUnicodeDecodeError\u001b[0m: 'utf-8' codec can't decode byte 0xe9 in position 45391: invalid continuation byte"
     ]
    }
   ],
   "source": [
    "import pandas as pd\n",
    "import string\n",
    "from os import listdir\n",
    "\n",
    "\n",
    "full_path = \"/Users/josephdespres/Documents/Python/pythonChallenges/data_cleaning_challenge/first-midterm-despresj/data/\"\n",
    "\n",
    "files = listdir(\"data\")\n",
    "pd.DataFrame(files)\n",
    "# incidents\n",
    "# county-city-poverty-data\n",
    "poverty = pd.read_csv(full_path + files[1], encoding='utf-8')\n",
    "cities_pop = pd.read_csv(full_path + files[2], encoding='utf-8')\n",
    "cities_pop = cities_pop.rename(columns={\"NAME\": \"city_og\", \"STNAME\": \"state\"})\n",
    "county_cities = pd.read_csv(full_path + files[3], encoding='utf-8' )\n",
    "gtd = pd.read_csv(full_path + files[0], encoding='utf-8' )\n",
    "gtd = gtd.rename(columns = {'provstate': 'state'})"
   ]
  },
  {
   "cell_type": "code",
   "execution_count": 62,
   "metadata": {},
   "outputs": [
    {
     "name": "stdout",
     "output_type": "stream",
     "text": [
      "{'encoding': 'ascii', 'confidence': 1.0, 'language': ''}\n",
      "{'encoding': 'ascii', 'confidence': 1.0, 'language': ''}\n",
      "{'encoding': 'ascii', 'confidence': 1.0, 'language': ''}\n",
      "{'encoding': 'ascii', 'confidence': 1.0, 'language': ''}\n"
     ]
    }
   ],
   "source": [
    "import chardet\n",
    "for i in range(4):\n",
    "    with open(full_path + files[2], 'rb') as rawdata:\n",
    "        result = chardet.detect(rawdata.read(100000))\n",
    "        print(result)"
   ]
  },
  {
   "cell_type": "code",
   "execution_count": 4,
   "metadata": {},
   "outputs": [
    {
     "data": {
      "text/plain": "['GTD.csv', 'poverty.csv', 'population.csv', 'county_city.csv']"
     },
     "execution_count": 4,
     "metadata": {},
     "output_type": "execute_result"
    }
   ],
   "source": [
    " listdir(\"data\")\n",
    " "
   ]
  },
  {
   "cell_type": "code",
   "execution_count": 21,
   "metadata": {},
   "outputs": [
    {
     "data": {
      "text/html": "<div>\n<style scoped>\n    .dataframe tbody tr th:only-of-type {\n        vertical-align: middle;\n    }\n\n    .dataframe tbody tr th {\n        vertical-align: top;\n    }\n\n    .dataframe thead th {\n        text-align: right;\n    }\n</style>\n<table border=\"1\" class=\"dataframe\">\n  <thead>\n    <tr style=\"text-align: right;\">\n      <th></th>\n      <th>gtd</th>\n      <th>city_pop</th>\n      <th>county_cities</th>\n      <th>poverty</th>\n    </tr>\n  </thead>\n  <tbody>\n    <tr>\n      <th>0</th>\n      <td>iyear</td>\n      <td>SUMLEV</td>\n      <td>latitude</td>\n      <td>State</td>\n    </tr>\n    <tr>\n      <th>1</th>\n      <td>imonth</td>\n      <td>STATE</td>\n      <td>longitude</td>\n      <td>Area_Name</td>\n    </tr>\n    <tr>\n      <th>2</th>\n      <td>iday</td>\n      <td>COUNTY</td>\n      <td>city</td>\n      <td>PCTPOVALL_2015</td>\n    </tr>\n    <tr>\n      <th>3</th>\n      <td>state</td>\n      <td>PLACE</td>\n      <td>state</td>\n      <td>PCTPOV017_2015</td>\n    </tr>\n    <tr>\n      <th>4</th>\n      <td>city</td>\n      <td>city_og</td>\n      <td>county</td>\n      <td>MEDHHINC_2015</td>\n    </tr>\n    <tr>\n      <th>5</th>\n      <td>latitude</td>\n      <td>state</td>\n      <td>NaN</td>\n      <td>NaN</td>\n    </tr>\n  </tbody>\n</table>\n</div>",
      "text/plain": "        gtd city_pop county_cities         poverty\n0     iyear   SUMLEV      latitude           State\n1    imonth    STATE     longitude       Area_Name\n2      iday   COUNTY          city  PCTPOVALL_2015\n3     state    PLACE         state  PCTPOV017_2015\n4      city  city_og        county   MEDHHINC_2015\n5  latitude    state           NaN             NaN"
     },
     "execution_count": 21,
     "metadata": {},
     "output_type": "execute_result"
    }
   ],
   "source": [
    "gtd.columns\n",
    "cities_pop.columns\n",
    "variables = pd.DataFrame({'gtd': pd.Series(gtd.columns),\n",
    "              'city_pop': pd.Series(cities_pop.columns),\n",
    "              'county_cities': pd.Series(county_cities.columns),\n",
    "              'poverty': pd.Series(poverty.columns)})\n",
    "\n",
    "\n",
    "variables[0:6]"
   ]
  },
  {
   "cell_type": "code",
   "execution_count": 22,
   "metadata": {},
   "outputs": [],
   "source": [
    "cities_pop['city'] = cities_pop['city_og'].str.replace(r'\\b[a-z]+\\b', \"\",regex=True)"
   ]
  },
  {
   "cell_type": "code",
   "execution_count": 23,
   "metadata": {},
   "outputs": [],
   "source": [
    "def city_finder(df, string):\n",
    "    return df[df['city'].str.contains(string, case=False)]"
   ]
  },
  {
   "cell_type": "code",
   "execution_count": 24,
   "metadata": {},
   "outputs": [],
   "source": [
    "pd.set_option(\"display.max_rows\", 101)"
   ]
  },
  {
   "cell_type": "code",
   "execution_count": 25,
   "metadata": {},
   "outputs": [
    {
     "data": {
      "text/html": "<div>\n<style scoped>\n    .dataframe tbody tr th:only-of-type {\n        vertical-align: middle;\n    }\n\n    .dataframe tbody tr th {\n        vertical-align: top;\n    }\n\n    .dataframe thead th {\n        text-align: right;\n    }\n</style>\n<table border=\"1\" class=\"dataframe\">\n  <thead>\n    <tr style=\"text-align: right;\">\n      <th></th>\n      <th>SUMLEV</th>\n      <th>STATE</th>\n      <th>COUNTY</th>\n      <th>PLACE</th>\n      <th>city_og</th>\n      <th>state</th>\n      <th>POPESTIMATE2013</th>\n      <th>POPESTIMATE2014</th>\n      <th>POPESTIMATE2015</th>\n      <th>POPESTIMATE2016</th>\n      <th>city</th>\n    </tr>\n  </thead>\n  <tbody>\n    <tr>\n      <th>51781</th>\n      <td>61</td>\n      <td>38</td>\n      <td>9</td>\n      <td>0</td>\n      <td>Tacoma township</td>\n      <td>North Dakota</td>\n      <td>63</td>\n      <td>62</td>\n      <td>63</td>\n      <td>62</td>\n      <td>Tacoma</td>\n    </tr>\n    <tr>\n      <th>76371</th>\n      <td>162</td>\n      <td>53</td>\n      <td>0</td>\n      <td>70000</td>\n      <td>Tacoma city</td>\n      <td>Washington</td>\n      <td>202736</td>\n      <td>204461</td>\n      <td>207660</td>\n      <td>211277</td>\n      <td>Tacoma</td>\n    </tr>\n    <tr>\n      <th>76651</th>\n      <td>157</td>\n      <td>53</td>\n      <td>53</td>\n      <td>70000</td>\n      <td>Tacoma city</td>\n      <td>Washington</td>\n      <td>202736</td>\n      <td>204461</td>\n      <td>207660</td>\n      <td>211277</td>\n      <td>Tacoma</td>\n    </tr>\n  </tbody>\n</table>\n</div>",
      "text/plain": "       SUMLEV  STATE  COUNTY  PLACE          city_og         state  \\\n51781      61     38       9      0  Tacoma township  North Dakota   \n76371     162     53       0  70000      Tacoma city    Washington   \n76651     157     53      53  70000      Tacoma city    Washington   \n\n       POPESTIMATE2013  POPESTIMATE2014  POPESTIMATE2015  POPESTIMATE2016  \\\n51781               63               62               63               62   \n76371           202736           204461           207660           211277   \n76651           202736           204461           207660           211277   \n\n          city  \n51781  Tacoma   \n76371  Tacoma   \n76651  Tacoma   "
     },
     "execution_count": 25,
     "metadata": {},
     "output_type": "execute_result"
    }
   ],
   "source": [
    "city_finder(cities_pop, 'tacoma')"
   ]
  },
  {
   "cell_type": "code",
   "execution_count": 26,
   "metadata": {},
   "outputs": [
    {
     "data": {
      "text/html": "<div>\n<style scoped>\n    .dataframe tbody tr th:only-of-type {\n        vertical-align: middle;\n    }\n\n    .dataframe tbody tr th {\n        vertical-align: top;\n    }\n\n    .dataframe thead th {\n        text-align: right;\n    }\n</style>\n<table border=\"1\" class=\"dataframe\">\n  <thead>\n    <tr style=\"text-align: right;\">\n      <th></th>\n      <th>iyear</th>\n      <th>imonth</th>\n      <th>iday</th>\n      <th>state</th>\n      <th>city</th>\n      <th>latitude</th>\n      <th>longitude</th>\n      <th>vicinity</th>\n      <th>summary</th>\n      <th>doubtterr</th>\n      <th>...</th>\n      <th>weapsubtype1</th>\n      <th>weapsubtype1_txt</th>\n      <th>nkill</th>\n      <th>nwound</th>\n      <th>property</th>\n      <th>propextent</th>\n      <th>propextent_txt</th>\n      <th>propvalue</th>\n      <th>propcomment</th>\n      <th>scite1</th>\n    </tr>\n  </thead>\n  <tbody>\n    <tr>\n      <th>0</th>\n      <td>2013</td>\n      <td>1</td>\n      <td>17</td>\n      <td>Washington</td>\n      <td>Tacoma</td>\n      <td>47.252877</td>\n      <td>-122.444291</td>\n      <td>0</td>\n      <td>01/17/2013: An explosive device detonated outs...</td>\n      <td>0</td>\n      <td>...</td>\n      <td>17.0</td>\n      <td>Other Explosive Type</td>\n      <td>0</td>\n      <td>0</td>\n      <td>0</td>\n      <td>NaN</td>\n      <td>NaN</td>\n      <td>NaN</td>\n      <td>NaN</td>\n      <td>\"Small   bomb explodes   outside WA Correction...</td>\n    </tr>\n    <tr>\n      <th>141</th>\n      <td>2016</td>\n      <td>11</td>\n      <td>25</td>\n      <td>Washington</td>\n      <td>Tacoma</td>\n      <td>47.154901</td>\n      <td>-122.368098</td>\n      <td>0</td>\n      <td>11/25/2016: Assailants set fire to Our Savior ...</td>\n      <td>0</td>\n      <td>...</td>\n      <td>18.0</td>\n      <td>Arson/Fire</td>\n      <td>0</td>\n      <td>0</td>\n      <td>1</td>\n      <td>3.0</td>\n      <td>Minor (likely &lt; $1 million)</td>\n      <td>-99.0</td>\n      <td>A church was damaged in this attack.</td>\n      <td>\"Tacoma church badly damaged by suspected arso...</td>\n    </tr>\n  </tbody>\n</table>\n<p>2 rows × 38 columns</p>\n</div>",
      "text/plain": "     iyear  imonth  iday       state    city   latitude   longitude  vicinity  \\\n0     2013       1    17  Washington  Tacoma  47.252877 -122.444291         0   \n141   2016      11    25  Washington  Tacoma  47.154901 -122.368098         0   \n\n                                               summary  doubtterr  ...  \\\n0    01/17/2013: An explosive device detonated outs...          0  ...   \n141  11/25/2016: Assailants set fire to Our Savior ...          0  ...   \n\n     weapsubtype1      weapsubtype1_txt  nkill  nwound property  propextent  \\\n0            17.0  Other Explosive Type      0       0        0         NaN   \n141          18.0            Arson/Fire      0       0        1         3.0   \n\n                  propextent_txt  propvalue  \\\n0                            NaN        NaN   \n141  Minor (likely < $1 million)      -99.0   \n\n                              propcomment  \\\n0                                     NaN   \n141  A church was damaged in this attack.   \n\n                                                scite1  \n0    \"Small   bomb explodes   outside WA Correction...  \n141  \"Tacoma church badly damaged by suspected arso...  \n\n[2 rows x 38 columns]"
     },
     "execution_count": 26,
     "metadata": {},
     "output_type": "execute_result"
    }
   ],
   "source": [
    "city_finder(gtd, 'tac')"
   ]
  },
  {
   "cell_type": "code",
   "execution_count": 27,
   "metadata": {},
   "outputs": [],
   "source": [
    "# try making an identifyer\n",
    "gtd['id'] = gtd['city'] + gtd['state']\n",
    "gtd['id'] = gtd['id'].astype(str)\n",
    "cities_pop['id'] = cities_pop['city'] + cities_pop['state']\n",
    "cities_pop['id'] = cities_pop['id'].astype(str)"
   ]
  },
  {
   "cell_type": "code",
   "execution_count": 28,
   "metadata": {},
   "outputs": [],
   "source": [
    "to_join = cities_pop[['id', 'POPESTIMATE2013', 'POPESTIMATE2014', 'POPESTIMATE2015', 'POPESTIMATE2016']]\n",
    "to_join = to_join.drop_duplicates()"
   ]
  },
  {
   "cell_type": "code",
   "execution_count": null,
   "metadata": {},
   "outputs": [
    {
     "data": {
      "text/html": "<div>\n<style scoped>\n    .dataframe tbody tr th:only-of-type {\n        vertical-align: middle;\n    }\n\n    .dataframe tbody tr th {\n        vertical-align: top;\n    }\n\n    .dataframe thead th {\n        text-align: right;\n    }\n</style>\n<table border=\"1\" class=\"dataframe\">\n  <thead>\n    <tr style=\"text-align: right;\">\n      <th></th>\n      <th>iyear</th>\n      <th>imonth</th>\n      <th>iday</th>\n      <th>state</th>\n      <th>city</th>\n      <th>latitude</th>\n      <th>longitude</th>\n      <th>vicinity</th>\n      <th>summary</th>\n      <th>doubtterr</th>\n      <th>...</th>\n      <th>propextent</th>\n      <th>propextent_txt</th>\n      <th>propvalue</th>\n      <th>propcomment</th>\n      <th>scite1</th>\n      <th>id</th>\n      <th>POPESTIMATE2013</th>\n      <th>POPESTIMATE2014</th>\n      <th>POPESTIMATE2015</th>\n      <th>POPESTIMATE2016</th>\n    </tr>\n  </thead>\n  <tbody>\n    <tr>\n      <th>0</th>\n      <td>2013</td>\n      <td>1</td>\n      <td>17</td>\n      <td>Washington</td>\n      <td>Tacoma</td>\n      <td>47.252877</td>\n      <td>-122.444291</td>\n      <td>0</td>\n      <td>01/17/2013: An explosive device detonated outs...</td>\n      <td>0</td>\n      <td>...</td>\n      <td>NaN</td>\n      <td>NaN</td>\n      <td>NaN</td>\n      <td>NaN</td>\n      <td>\"Small   bomb explodes   outside WA Correction...</td>\n      <td>TacomaWashington</td>\n      <td>NaN</td>\n      <td>NaN</td>\n      <td>NaN</td>\n      <td>NaN</td>\n    </tr>\n    <tr>\n      <th>1</th>\n      <td>2013</td>\n      <td>2</td>\n      <td>7</td>\n      <td>California</td>\n      <td>Corona</td>\n      <td>33.875294</td>\n      <td>-117.566438</td>\n      <td>0</td>\n      <td>02/07/2013: An assailant opened fire on two Ri...</td>\n      <td>1</td>\n      <td>...</td>\n      <td>NaN</td>\n      <td>NaN</td>\n      <td>NaN</td>\n      <td>NaN</td>\n      <td>\"Key events in hunt for former Los Angeles pol...</td>\n      <td>CoronaCalifornia</td>\n      <td>NaN</td>\n      <td>NaN</td>\n      <td>NaN</td>\n      <td>NaN</td>\n    </tr>\n    <tr>\n      <th>2</th>\n      <td>2013</td>\n      <td>2</td>\n      <td>25</td>\n      <td>Washington</td>\n      <td>Seattle</td>\n      <td>47.593200</td>\n      <td>-122.300567</td>\n      <td>0</td>\n      <td>02/25/2013: Assailants set fire to a construct...</td>\n      <td>0</td>\n      <td>...</td>\n      <td>3.0</td>\n      <td>Minor (likely &lt; $1 million)</td>\n      <td>60000.0</td>\n      <td>A single family home and construction equipmen...</td>\n      <td>\"Environmental anarchists claim responsibility...</td>\n      <td>SeattleWashington</td>\n      <td>NaN</td>\n      <td>NaN</td>\n      <td>NaN</td>\n      <td>NaN</td>\n    </tr>\n    <tr>\n      <th>3</th>\n      <td>2013</td>\n      <td>4</td>\n      <td>15</td>\n      <td>Massachusetts</td>\n      <td>Boston</td>\n      <td>42.350265</td>\n      <td>-71.080976</td>\n      <td>0</td>\n      <td>04/15/2013: An explosive device consisting of ...</td>\n      <td>0</td>\n      <td>...</td>\n      <td>4.0</td>\n      <td>Unknown</td>\n      <td>-99.0</td>\n      <td>Nearby shops and buildings were damaged in thi...</td>\n      <td>\"Boston Marathon Terror Attack Fast Facts,\" CN...</td>\n      <td>BostonMassachusetts</td>\n      <td>NaN</td>\n      <td>NaN</td>\n      <td>NaN</td>\n      <td>NaN</td>\n    </tr>\n    <tr>\n      <th>4</th>\n      <td>2013</td>\n      <td>4</td>\n      <td>15</td>\n      <td>Massachusetts</td>\n      <td>Boston</td>\n      <td>42.350265</td>\n      <td>-71.080976</td>\n      <td>0</td>\n      <td>04/15/2013: An explosive device consisting of ...</td>\n      <td>0</td>\n      <td>...</td>\n      <td>4.0</td>\n      <td>Unknown</td>\n      <td>-99.0</td>\n      <td>Nearby shops and buildings were damaged in thi...</td>\n      <td>\"Boston Marathon Terror Attack Fast Facts,\" CN...</td>\n      <td>BostonMassachusetts</td>\n      <td>NaN</td>\n      <td>NaN</td>\n      <td>NaN</td>\n      <td>NaN</td>\n    </tr>\n    <tr>\n      <th>...</th>\n      <td>...</td>\n      <td>...</td>\n      <td>...</td>\n      <td>...</td>\n      <td>...</td>\n      <td>...</td>\n      <td>...</td>\n      <td>...</td>\n      <td>...</td>\n      <td>...</td>\n      <td>...</td>\n      <td>...</td>\n      <td>...</td>\n      <td>...</td>\n      <td>...</td>\n      <td>...</td>\n      <td>...</td>\n      <td>...</td>\n      <td>...</td>\n      <td>...</td>\n      <td>...</td>\n    </tr>\n    <tr>\n      <th>141</th>\n      <td>2016</td>\n      <td>11</td>\n      <td>25</td>\n      <td>Washington</td>\n      <td>Tacoma</td>\n      <td>47.154901</td>\n      <td>-122.368098</td>\n      <td>0</td>\n      <td>11/25/2016: Assailants set fire to Our Savior ...</td>\n      <td>0</td>\n      <td>...</td>\n      <td>3.0</td>\n      <td>Minor (likely &lt; $1 million)</td>\n      <td>-99.0</td>\n      <td>A church was damaged in this attack.</td>\n      <td>\"Tacoma church badly damaged by suspected arso...</td>\n      <td>TacomaWashington</td>\n      <td>NaN</td>\n      <td>NaN</td>\n      <td>NaN</td>\n      <td>NaN</td>\n    </tr>\n    <tr>\n      <th>142</th>\n      <td>2016</td>\n      <td>11</td>\n      <td>28</td>\n      <td>Ohio</td>\n      <td>Columbus</td>\n      <td>40.003290</td>\n      <td>-83.011421</td>\n      <td>0</td>\n      <td>11/28/2016: An assailant rammed his vehicle in...</td>\n      <td>0</td>\n      <td>...</td>\n      <td>NaN</td>\n      <td>NaN</td>\n      <td>NaN</td>\n      <td>NaN</td>\n      <td>\"Ohio State University attack: Suspect dead an...</td>\n      <td>ColumbusOhio</td>\n      <td>NaN</td>\n      <td>NaN</td>\n      <td>NaN</td>\n      <td>NaN</td>\n    </tr>\n    <tr>\n      <th>143</th>\n      <td>2016</td>\n      <td>12</td>\n      <td>4</td>\n      <td>District of Columbia</td>\n      <td>Washington</td>\n      <td>38.955943</td>\n      <td>-77.069984</td>\n      <td>0</td>\n      <td>12/04/2016: An assailant opened fire inside Co...</td>\n      <td>0</td>\n      <td>...</td>\n      <td>3.0</td>\n      <td>Minor (likely &lt; $1 million)</td>\n      <td>5744.0</td>\n      <td>A computer system, a ping pong table, and lock...</td>\n      <td>\"The Comet Ping Pong Gunman Answers Our Report...</td>\n      <td>WashingtonDistrict of Columbia</td>\n      <td>NaN</td>\n      <td>NaN</td>\n      <td>NaN</td>\n      <td>NaN</td>\n    </tr>\n    <tr>\n      <th>144</th>\n      <td>2016</td>\n      <td>12</td>\n      <td>7</td>\n      <td>California</td>\n      <td>Redlands</td>\n      <td>34.053546</td>\n      <td>-117.181537</td>\n      <td>0</td>\n      <td>12/07/2016: Assailants set fire to First Bapti...</td>\n      <td>0</td>\n      <td>...</td>\n      <td>3.0</td>\n      <td>Minor (likely &lt; $1 million)</td>\n      <td>2000.0</td>\n      <td>A church was damaged in this attack.</td>\n      <td>\"Arson investigators probe series of fires at ...</td>\n      <td>RedlandsCalifornia</td>\n      <td>NaN</td>\n      <td>NaN</td>\n      <td>NaN</td>\n      <td>NaN</td>\n    </tr>\n    <tr>\n      <th>145</th>\n      <td>2016</td>\n      <td>12</td>\n      <td>15</td>\n      <td>Texas</td>\n      <td>Dallas</td>\n      <td>32.776664</td>\n      <td>-96.796988</td>\n      <td>0</td>\n      <td>12/15/2016: An assailant sent a message via Tw...</td>\n      <td>0</td>\n      <td>...</td>\n      <td>NaN</td>\n      <td>NaN</td>\n      <td>NaN</td>\n      <td>NaN</td>\n      <td>\"A Tweet to Kurt Eichenwald, a Strobe and a Se...</td>\n      <td>DallasTexas</td>\n      <td>NaN</td>\n      <td>NaN</td>\n      <td>NaN</td>\n      <td>NaN</td>\n    </tr>\n  </tbody>\n</table>\n<p>146 rows × 43 columns</p>\n</div>",
      "text/plain": "     iyear  imonth  iday                 state        city   latitude  \\\n0     2013       1    17            Washington      Tacoma  47.252877   \n1     2013       2     7            California      Corona  33.875294   \n2     2013       2    25            Washington     Seattle  47.593200   \n3     2013       4    15         Massachusetts      Boston  42.350265   \n4     2013       4    15         Massachusetts      Boston  42.350265   \n..     ...     ...   ...                   ...         ...        ...   \n141   2016      11    25            Washington      Tacoma  47.154901   \n142   2016      11    28                  Ohio    Columbus  40.003290   \n143   2016      12     4  District of Columbia  Washington  38.955943   \n144   2016      12     7            California    Redlands  34.053546   \n145   2016      12    15                 Texas      Dallas  32.776664   \n\n      longitude  vicinity                                            summary  \\\n0   -122.444291         0  01/17/2013: An explosive device detonated outs...   \n1   -117.566438         0  02/07/2013: An assailant opened fire on two Ri...   \n2   -122.300567         0  02/25/2013: Assailants set fire to a construct...   \n3    -71.080976         0  04/15/2013: An explosive device consisting of ...   \n4    -71.080976         0  04/15/2013: An explosive device consisting of ...   \n..          ...       ...                                                ...   \n141 -122.368098         0  11/25/2016: Assailants set fire to Our Savior ...   \n142  -83.011421         0  11/28/2016: An assailant rammed his vehicle in...   \n143  -77.069984         0  12/04/2016: An assailant opened fire inside Co...   \n144 -117.181537         0  12/07/2016: Assailants set fire to First Bapti...   \n145  -96.796988         0  12/15/2016: An assailant sent a message via Tw...   \n\n     doubtterr  ...  propextent               propextent_txt  propvalue  \\\n0            0  ...         NaN                          NaN        NaN   \n1            1  ...         NaN                          NaN        NaN   \n2            0  ...         3.0  Minor (likely < $1 million)    60000.0   \n3            0  ...         4.0                      Unknown      -99.0   \n4            0  ...         4.0                      Unknown      -99.0   \n..         ...  ...         ...                          ...        ...   \n141          0  ...         3.0  Minor (likely < $1 million)      -99.0   \n142          0  ...         NaN                          NaN        NaN   \n143          0  ...         3.0  Minor (likely < $1 million)     5744.0   \n144          0  ...         3.0  Minor (likely < $1 million)     2000.0   \n145          0  ...         NaN                          NaN        NaN   \n\n                                           propcomment  \\\n0                                                  NaN   \n1                                                  NaN   \n2    A single family home and construction equipmen...   \n3    Nearby shops and buildings were damaged in thi...   \n4    Nearby shops and buildings were damaged in thi...   \n..                                                 ...   \n141               A church was damaged in this attack.   \n142                                                NaN   \n143  A computer system, a ping pong table, and lock...   \n144               A church was damaged in this attack.   \n145                                                NaN   \n\n                                                scite1  \\\n0    \"Small   bomb explodes   outside WA Correction...   \n1    \"Key events in hunt for former Los Angeles pol...   \n2    \"Environmental anarchists claim responsibility...   \n3    \"Boston Marathon Terror Attack Fast Facts,\" CN...   \n4    \"Boston Marathon Terror Attack Fast Facts,\" CN...   \n..                                                 ...   \n141  \"Tacoma church badly damaged by suspected arso...   \n142  \"Ohio State University attack: Suspect dead an...   \n143  \"The Comet Ping Pong Gunman Answers Our Report...   \n144  \"Arson investigators probe series of fires at ...   \n145  \"A Tweet to Kurt Eichenwald, a Strobe and a Se...   \n\n                                 id POPESTIMATE2013  POPESTIMATE2014  \\\n0                  TacomaWashington             NaN              NaN   \n1                  CoronaCalifornia             NaN              NaN   \n2                 SeattleWashington             NaN              NaN   \n3               BostonMassachusetts             NaN              NaN   \n4               BostonMassachusetts             NaN              NaN   \n..                              ...             ...              ...   \n141                TacomaWashington             NaN              NaN   \n142                    ColumbusOhio             NaN              NaN   \n143  WashingtonDistrict of Columbia             NaN              NaN   \n144              RedlandsCalifornia             NaN              NaN   \n145                     DallasTexas             NaN              NaN   \n\n    POPESTIMATE2015 POPESTIMATE2016  \n0               NaN             NaN  \n1               NaN             NaN  \n2               NaN             NaN  \n3               NaN             NaN  \n4               NaN             NaN  \n..              ...             ...  \n141             NaN             NaN  \n142             NaN             NaN  \n143             NaN             NaN  \n144             NaN             NaN  \n145             NaN             NaN  \n\n[146 rows x 43 columns]"
     },
     "execution_count": 29,
     "metadata": {},
     "output_type": "execute_result"
    }
   ],
   "source": [
    "maybe = gtd.merge(to_join, how='left')\n",
    "maybe\n"
   ]
  },
  {
   "cell_type": "code",
   "execution_count": 157,
   "metadata": {},
   "outputs": [
    {
     "ename": "ValueError",
     "evalue": "You are trying to merge on object and int64 columns. If you wish to proceed you should use pd.concat",
     "output_type": "error",
     "traceback": [
      "\u001b[0;31m---------------------------------------------------------------------------\u001b[0m",
      "\u001b[0;31mValueError\u001b[0m                                Traceback (most recent call last)",
      "\u001b[0;32m<ipython-input-157-ec6d9c310f9c>\u001b[0m in \u001b[0;36m<module>\u001b[0;34m\u001b[0m\n\u001b[0;32m----> 1\u001b[0;31m \u001b[0mmaybe\u001b[0m \u001b[0;34m=\u001b[0m \u001b[0mgtd\u001b[0m\u001b[0;34m.\u001b[0m\u001b[0mjoin\u001b[0m\u001b[0;34m(\u001b[0m\u001b[0mto_join\u001b[0m\u001b[0;34m,\u001b[0m \u001b[0mhow\u001b[0m\u001b[0;34m=\u001b[0m\u001b[0;34m'left'\u001b[0m\u001b[0;34m,\u001b[0m \u001b[0mon\u001b[0m\u001b[0;34m=\u001b[0m\u001b[0;34m'id'\u001b[0m\u001b[0;34m)\u001b[0m\u001b[0;34m\u001b[0m\u001b[0;34m\u001b[0m\u001b[0m\n\u001b[0m\u001b[1;32m      2\u001b[0m \u001b[0mmaybe\u001b[0m\u001b[0;34m\u001b[0m\u001b[0;34m\u001b[0m\u001b[0m\n",
      "\u001b[0;32m~/Library/Python/3.8/lib/python/site-packages/pandas/core/frame.py\u001b[0m in \u001b[0;36mjoin\u001b[0;34m(self, other, on, how, lsuffix, rsuffix, sort)\u001b[0m\n\u001b[1;32m   7206\u001b[0m         \u001b[0;36m5\u001b[0m  \u001b[0mK5\u001b[0m  \u001b[0mA5\u001b[0m  \u001b[0mNaN\u001b[0m\u001b[0;34m\u001b[0m\u001b[0;34m\u001b[0m\u001b[0m\n\u001b[1;32m   7207\u001b[0m         \"\"\"\n\u001b[0;32m-> 7208\u001b[0;31m         return self._join_compat(\n\u001b[0m\u001b[1;32m   7209\u001b[0m             \u001b[0mother\u001b[0m\u001b[0;34m,\u001b[0m \u001b[0mon\u001b[0m\u001b[0;34m=\u001b[0m\u001b[0mon\u001b[0m\u001b[0;34m,\u001b[0m \u001b[0mhow\u001b[0m\u001b[0;34m=\u001b[0m\u001b[0mhow\u001b[0m\u001b[0;34m,\u001b[0m \u001b[0mlsuffix\u001b[0m\u001b[0;34m=\u001b[0m\u001b[0mlsuffix\u001b[0m\u001b[0;34m,\u001b[0m \u001b[0mrsuffix\u001b[0m\u001b[0;34m=\u001b[0m\u001b[0mrsuffix\u001b[0m\u001b[0;34m,\u001b[0m \u001b[0msort\u001b[0m\u001b[0;34m=\u001b[0m\u001b[0msort\u001b[0m\u001b[0;34m\u001b[0m\u001b[0;34m\u001b[0m\u001b[0m\n\u001b[1;32m   7210\u001b[0m         )\n",
      "\u001b[0;32m~/Library/Python/3.8/lib/python/site-packages/pandas/core/frame.py\u001b[0m in \u001b[0;36m_join_compat\u001b[0;34m(self, other, on, how, lsuffix, rsuffix, sort)\u001b[0m\n\u001b[1;32m   7222\u001b[0m \u001b[0;34m\u001b[0m\u001b[0m\n\u001b[1;32m   7223\u001b[0m         \u001b[0;32mif\u001b[0m \u001b[0misinstance\u001b[0m\u001b[0;34m(\u001b[0m\u001b[0mother\u001b[0m\u001b[0;34m,\u001b[0m \u001b[0mDataFrame\u001b[0m\u001b[0;34m)\u001b[0m\u001b[0;34m:\u001b[0m\u001b[0;34m\u001b[0m\u001b[0;34m\u001b[0m\u001b[0m\n\u001b[0;32m-> 7224\u001b[0;31m             return merge(\n\u001b[0m\u001b[1;32m   7225\u001b[0m                 \u001b[0mself\u001b[0m\u001b[0;34m,\u001b[0m\u001b[0;34m\u001b[0m\u001b[0;34m\u001b[0m\u001b[0m\n\u001b[1;32m   7226\u001b[0m                 \u001b[0mother\u001b[0m\u001b[0;34m,\u001b[0m\u001b[0;34m\u001b[0m\u001b[0;34m\u001b[0m\u001b[0m\n",
      "\u001b[0;32m~/Library/Python/3.8/lib/python/site-packages/pandas/core/reshape/merge.py\u001b[0m in \u001b[0;36mmerge\u001b[0;34m(left, right, how, on, left_on, right_on, left_index, right_index, sort, suffixes, copy, indicator, validate)\u001b[0m\n\u001b[1;32m     71\u001b[0m     \u001b[0mvalidate\u001b[0m\u001b[0;34m=\u001b[0m\u001b[0;32mNone\u001b[0m\u001b[0;34m,\u001b[0m\u001b[0;34m\u001b[0m\u001b[0;34m\u001b[0m\u001b[0m\n\u001b[1;32m     72\u001b[0m ) -> \"DataFrame\":\n\u001b[0;32m---> 73\u001b[0;31m     op = _MergeOperation(\n\u001b[0m\u001b[1;32m     74\u001b[0m         \u001b[0mleft\u001b[0m\u001b[0;34m,\u001b[0m\u001b[0;34m\u001b[0m\u001b[0;34m\u001b[0m\u001b[0m\n\u001b[1;32m     75\u001b[0m         \u001b[0mright\u001b[0m\u001b[0;34m,\u001b[0m\u001b[0;34m\u001b[0m\u001b[0;34m\u001b[0m\u001b[0m\n",
      "\u001b[0;32m~/Library/Python/3.8/lib/python/site-packages/pandas/core/reshape/merge.py\u001b[0m in \u001b[0;36m__init__\u001b[0;34m(self, left, right, how, on, left_on, right_on, axis, left_index, right_index, sort, suffixes, copy, indicator, validate)\u001b[0m\n\u001b[1;32m    629\u001b[0m         \u001b[0;31m# validate the merge keys dtypes. We may need to coerce\u001b[0m\u001b[0;34m\u001b[0m\u001b[0;34m\u001b[0m\u001b[0;34m\u001b[0m\u001b[0m\n\u001b[1;32m    630\u001b[0m         \u001b[0;31m# to avoid incompat dtypes\u001b[0m\u001b[0;34m\u001b[0m\u001b[0;34m\u001b[0m\u001b[0;34m\u001b[0m\u001b[0m\n\u001b[0;32m--> 631\u001b[0;31m         \u001b[0mself\u001b[0m\u001b[0;34m.\u001b[0m\u001b[0m_maybe_coerce_merge_keys\u001b[0m\u001b[0;34m(\u001b[0m\u001b[0;34m)\u001b[0m\u001b[0;34m\u001b[0m\u001b[0;34m\u001b[0m\u001b[0m\n\u001b[0m\u001b[1;32m    632\u001b[0m \u001b[0;34m\u001b[0m\u001b[0m\n\u001b[1;32m    633\u001b[0m         \u001b[0;31m# If argument passed to validate,\u001b[0m\u001b[0;34m\u001b[0m\u001b[0;34m\u001b[0m\u001b[0;34m\u001b[0m\u001b[0m\n",
      "\u001b[0;32m~/Library/Python/3.8/lib/python/site-packages/pandas/core/reshape/merge.py\u001b[0m in \u001b[0;36m_maybe_coerce_merge_keys\u001b[0;34m(self)\u001b[0m\n\u001b[1;32m   1144\u001b[0m                     \u001b[0minferred_right\u001b[0m \u001b[0;32min\u001b[0m \u001b[0mstring_types\u001b[0m \u001b[0;32mand\u001b[0m \u001b[0minferred_left\u001b[0m \u001b[0;32mnot\u001b[0m \u001b[0;32min\u001b[0m \u001b[0mstring_types\u001b[0m\u001b[0;34m\u001b[0m\u001b[0;34m\u001b[0m\u001b[0m\n\u001b[1;32m   1145\u001b[0m                 ):\n\u001b[0;32m-> 1146\u001b[0;31m                     \u001b[0;32mraise\u001b[0m \u001b[0mValueError\u001b[0m\u001b[0;34m(\u001b[0m\u001b[0mmsg\u001b[0m\u001b[0;34m)\u001b[0m\u001b[0;34m\u001b[0m\u001b[0;34m\u001b[0m\u001b[0m\n\u001b[0m\u001b[1;32m   1147\u001b[0m \u001b[0;34m\u001b[0m\u001b[0m\n\u001b[1;32m   1148\u001b[0m             \u001b[0;31m# datetimelikes must match exactly\u001b[0m\u001b[0;34m\u001b[0m\u001b[0;34m\u001b[0m\u001b[0;34m\u001b[0m\u001b[0m\n",
      "\u001b[0;31mValueError\u001b[0m: You are trying to merge on object and int64 columns. If you wish to proceed you should use pd.concat"
     ]
    }
   ],
   "source": [
    "maybe = gtd.join(to_join, how='left', on='id')\n",
    "maybe\n"
   ]
  },
  {
   "cell_type": "code",
   "execution_count": 142,
   "metadata": {},
   "outputs": [
    {
     "ename": "AttributeError",
     "evalue": "'DataFrame' object has no attribute 'concat'",
     "output_type": "error",
     "traceback": [
      "\u001b[0;31m---------------------------------------------------------------------------\u001b[0m",
      "\u001b[0;31mAttributeError\u001b[0m                            Traceback (most recent call last)",
      "\u001b[0;32m<ipython-input-142-3c145bd60b66>\u001b[0m in \u001b[0;36m<module>\u001b[0;34m\u001b[0m\n\u001b[0;32m----> 1\u001b[0;31m \u001b[0mgtd\u001b[0m\u001b[0;34m.\u001b[0m\u001b[0mconcat\u001b[0m\u001b[0;34m(\u001b[0m\u001b[0mto_join\u001b[0m\u001b[0;34m,\u001b[0m \u001b[0mon\u001b[0m\u001b[0;34m=\u001b[0m\u001b[0;34m'id'\u001b[0m\u001b[0;34m)\u001b[0m\u001b[0;34m\u001b[0m\u001b[0;34m\u001b[0m\u001b[0m\n\u001b[0m",
      "\u001b[0;32m~/Library/Python/3.8/lib/python/site-packages/pandas/core/generic.py\u001b[0m in \u001b[0;36m__getattr__\u001b[0;34m(self, name)\u001b[0m\n\u001b[1;32m   5272\u001b[0m             \u001b[0;32mif\u001b[0m \u001b[0mself\u001b[0m\u001b[0;34m.\u001b[0m\u001b[0m_info_axis\u001b[0m\u001b[0;34m.\u001b[0m\u001b[0m_can_hold_identifiers_and_holds_name\u001b[0m\u001b[0;34m(\u001b[0m\u001b[0mname\u001b[0m\u001b[0;34m)\u001b[0m\u001b[0;34m:\u001b[0m\u001b[0;34m\u001b[0m\u001b[0;34m\u001b[0m\u001b[0m\n\u001b[1;32m   5273\u001b[0m                 \u001b[0;32mreturn\u001b[0m \u001b[0mself\u001b[0m\u001b[0;34m[\u001b[0m\u001b[0mname\u001b[0m\u001b[0;34m]\u001b[0m\u001b[0;34m\u001b[0m\u001b[0;34m\u001b[0m\u001b[0m\n\u001b[0;32m-> 5274\u001b[0;31m             \u001b[0;32mreturn\u001b[0m \u001b[0mobject\u001b[0m\u001b[0;34m.\u001b[0m\u001b[0m__getattribute__\u001b[0m\u001b[0;34m(\u001b[0m\u001b[0mself\u001b[0m\u001b[0;34m,\u001b[0m \u001b[0mname\u001b[0m\u001b[0;34m)\u001b[0m\u001b[0;34m\u001b[0m\u001b[0;34m\u001b[0m\u001b[0m\n\u001b[0m\u001b[1;32m   5275\u001b[0m \u001b[0;34m\u001b[0m\u001b[0m\n\u001b[1;32m   5276\u001b[0m     \u001b[0;32mdef\u001b[0m \u001b[0m__setattr__\u001b[0m\u001b[0;34m(\u001b[0m\u001b[0mself\u001b[0m\u001b[0;34m,\u001b[0m \u001b[0mname\u001b[0m\u001b[0;34m:\u001b[0m \u001b[0mstr\u001b[0m\u001b[0;34m,\u001b[0m \u001b[0mvalue\u001b[0m\u001b[0;34m)\u001b[0m \u001b[0;34m->\u001b[0m \u001b[0;32mNone\u001b[0m\u001b[0;34m:\u001b[0m\u001b[0;34m\u001b[0m\u001b[0;34m\u001b[0m\u001b[0m\n",
      "\u001b[0;31mAttributeError\u001b[0m: 'DataFrame' object has no attribute 'concat'"
     ]
    }
   ],
   "source": []
  },
  {
   "cell_type": "code",
   "execution_count": 103,
   "metadata": {},
   "outputs": [
    {
     "data": {
      "text/html": "<div>\n<style scoped>\n    .dataframe tbody tr th:only-of-type {\n        vertical-align: middle;\n    }\n\n    .dataframe tbody tr th {\n        vertical-align: top;\n    }\n\n    .dataframe thead th {\n        text-align: right;\n    }\n</style>\n<table border=\"1\" class=\"dataframe\">\n  <thead>\n    <tr style=\"text-align: right;\">\n      <th></th>\n      <th>SUMLEV</th>\n      <th>STATE</th>\n      <th>COUNTY</th>\n      <th>PLACE</th>\n      <th>city_og</th>\n      <th>state</th>\n      <th>POPESTIMATE2013</th>\n      <th>POPESTIMATE2014</th>\n      <th>POPESTIMATE2015</th>\n      <th>POPESTIMATE2016</th>\n      <th>city</th>\n    </tr>\n  </thead>\n  <tbody>\n    <tr>\n      <th>0</th>\n      <td>40</td>\n      <td>1</td>\n      <td>0</td>\n      <td>0</td>\n      <td>Alabama</td>\n      <td>Alabama</td>\n      <td>4829479</td>\n      <td>4843214</td>\n      <td>4853875</td>\n      <td>4863300</td>\n      <td>Alabama</td>\n    </tr>\n    <tr>\n      <th>1</th>\n      <td>162</td>\n      <td>1</td>\n      <td>0</td>\n      <td>124</td>\n      <td>Abbeville city</td>\n      <td>Alabama</td>\n      <td>2631</td>\n      <td>2619</td>\n      <td>2616</td>\n      <td>2603</td>\n      <td>Abbeville</td>\n    </tr>\n    <tr>\n      <th>2</th>\n      <td>162</td>\n      <td>1</td>\n      <td>0</td>\n      <td>460</td>\n      <td>Adamsville city</td>\n      <td>Alabama</td>\n      <td>4447</td>\n      <td>4428</td>\n      <td>4395</td>\n      <td>4360</td>\n      <td>Adamsville</td>\n    </tr>\n    <tr>\n      <th>3</th>\n      <td>162</td>\n      <td>1</td>\n      <td>0</td>\n      <td>484</td>\n      <td>Addison town</td>\n      <td>Alabama</td>\n      <td>748</td>\n      <td>747</td>\n      <td>740</td>\n      <td>738</td>\n      <td>Addison</td>\n    </tr>\n    <tr>\n      <th>4</th>\n      <td>162</td>\n      <td>1</td>\n      <td>0</td>\n      <td>676</td>\n      <td>Akron town</td>\n      <td>Alabama</td>\n      <td>342</td>\n      <td>337</td>\n      <td>337</td>\n      <td>334</td>\n      <td>Akron</td>\n    </tr>\n    <tr>\n      <th>...</th>\n      <td>...</td>\n      <td>...</td>\n      <td>...</td>\n      <td>...</td>\n      <td>...</td>\n      <td>...</td>\n      <td>...</td>\n      <td>...</td>\n      <td>...</td>\n      <td>...</td>\n      <td>...</td>\n    </tr>\n    <tr>\n      <th>81580</th>\n      <td>157</td>\n      <td>56</td>\n      <td>43</td>\n      <td>99990</td>\n      <td>Balance of Washakie County</td>\n      <td>Wyoming</td>\n      <td>2744</td>\n      <td>2697</td>\n      <td>2704</td>\n      <td>2669</td>\n      <td>Balance  Washakie County</td>\n    </tr>\n    <tr>\n      <th>81581</th>\n      <td>50</td>\n      <td>56</td>\n      <td>45</td>\n      <td>0</td>\n      <td>Weston County</td>\n      <td>Wyoming</td>\n      <td>7163</td>\n      <td>7179</td>\n      <td>7230</td>\n      <td>7236</td>\n      <td>Weston County</td>\n    </tr>\n    <tr>\n      <th>81582</th>\n      <td>157</td>\n      <td>56</td>\n      <td>45</td>\n      <td>56215</td>\n      <td>Newcastle city</td>\n      <td>Wyoming</td>\n      <td>3496</td>\n      <td>3505</td>\n      <td>3525</td>\n      <td>3535</td>\n      <td>Newcastle</td>\n    </tr>\n    <tr>\n      <th>81583</th>\n      <td>157</td>\n      <td>56</td>\n      <td>45</td>\n      <td>79125</td>\n      <td>Upton town</td>\n      <td>Wyoming</td>\n      <td>1094</td>\n      <td>1101</td>\n      <td>1107</td>\n      <td>1106</td>\n      <td>Upton</td>\n    </tr>\n    <tr>\n      <th>81584</th>\n      <td>157</td>\n      <td>56</td>\n      <td>45</td>\n      <td>99990</td>\n      <td>Balance of Weston County</td>\n      <td>Wyoming</td>\n      <td>2573</td>\n      <td>2573</td>\n      <td>2598</td>\n      <td>2595</td>\n      <td>Balance  Weston County</td>\n    </tr>\n  </tbody>\n</table>\n<p>81585 rows × 11 columns</p>\n</div>",
      "text/plain": "       SUMLEV  STATE  COUNTY  PLACE                     city_og    state  \\\n0          40      1       0      0                     Alabama  Alabama   \n1         162      1       0    124              Abbeville city  Alabama   \n2         162      1       0    460             Adamsville city  Alabama   \n3         162      1       0    484                Addison town  Alabama   \n4         162      1       0    676                  Akron town  Alabama   \n...       ...    ...     ...    ...                         ...      ...   \n81580     157     56      43  99990  Balance of Washakie County  Wyoming   \n81581      50     56      45      0               Weston County  Wyoming   \n81582     157     56      45  56215              Newcastle city  Wyoming   \n81583     157     56      45  79125                  Upton town  Wyoming   \n81584     157     56      45  99990    Balance of Weston County  Wyoming   \n\n       POPESTIMATE2013  POPESTIMATE2014  POPESTIMATE2015  POPESTIMATE2016  \\\n0              4829479          4843214          4853875          4863300   \n1                 2631             2619             2616             2603   \n2                 4447             4428             4395             4360   \n3                  748              747              740              738   \n4                  342              337              337              334   \n...                ...              ...              ...              ...   \n81580             2744             2697             2704             2669   \n81581             7163             7179             7230             7236   \n81582             3496             3505             3525             3535   \n81583             1094             1101             1107             1106   \n81584             2573             2573             2598             2595   \n\n                           city  \n0                       Alabama  \n1                    Abbeville   \n2                   Adamsville   \n3                      Addison   \n4                        Akron   \n...                         ...  \n81580  Balance  Washakie County  \n81581             Weston County  \n81582                Newcastle   \n81583                    Upton   \n81584    Balance  Weston County  \n\n[81585 rows x 11 columns]"
     },
     "execution_count": 103,
     "metadata": {},
     "output_type": "execute_result"
    }
   ],
   "source": [
    "cities_pop"
   ]
  },
  {
   "cell_type": "code",
   "execution_count": 104,
   "metadata": {},
   "outputs": [
    {
     "data": {
      "text/html": "<div>\n<style scoped>\n    .dataframe tbody tr th:only-of-type {\n        vertical-align: middle;\n    }\n\n    .dataframe tbody tr th {\n        vertical-align: top;\n    }\n\n    .dataframe thead th {\n        text-align: right;\n    }\n</style>\n<table border=\"1\" class=\"dataframe\">\n  <thead>\n    <tr style=\"text-align: right;\">\n      <th></th>\n      <th>iyear</th>\n      <th>imonth</th>\n      <th>iday</th>\n      <th>state</th>\n      <th>city</th>\n      <th>latitude</th>\n      <th>longitude</th>\n      <th>vicinity</th>\n      <th>summary</th>\n      <th>doubtterr</th>\n      <th>...</th>\n      <th>weapsubtype1</th>\n      <th>weapsubtype1_txt</th>\n      <th>nkill</th>\n      <th>nwound</th>\n      <th>property</th>\n      <th>propextent</th>\n      <th>propextent_txt</th>\n      <th>propvalue</th>\n      <th>propcomment</th>\n      <th>scite1</th>\n    </tr>\n  </thead>\n  <tbody>\n    <tr>\n      <th>0</th>\n      <td>2013</td>\n      <td>1</td>\n      <td>17</td>\n      <td>Washington</td>\n      <td>Tacoma</td>\n      <td>47.252877</td>\n      <td>-122.444291</td>\n      <td>0</td>\n      <td>01/17/2013: An explosive device detonated outs...</td>\n      <td>0</td>\n      <td>...</td>\n      <td>17.0</td>\n      <td>Other Explosive Type</td>\n      <td>0</td>\n      <td>0</td>\n      <td>0</td>\n      <td>NaN</td>\n      <td>NaN</td>\n      <td>NaN</td>\n      <td>NaN</td>\n      <td>\"Small   bomb explodes   outside WA Correction...</td>\n    </tr>\n    <tr>\n      <th>1</th>\n      <td>2013</td>\n      <td>2</td>\n      <td>7</td>\n      <td>California</td>\n      <td>Corona</td>\n      <td>33.875294</td>\n      <td>-117.566438</td>\n      <td>0</td>\n      <td>02/07/2013: An assailant opened fire on two Ri...</td>\n      <td>1</td>\n      <td>...</td>\n      <td>4.0</td>\n      <td>Rifle/Shotgun (non-automatic)</td>\n      <td>1</td>\n      <td>1</td>\n      <td>0</td>\n      <td>NaN</td>\n      <td>NaN</td>\n      <td>NaN</td>\n      <td>NaN</td>\n      <td>\"Key events in hunt for former Los Angeles pol...</td>\n    </tr>\n    <tr>\n      <th>2</th>\n      <td>2013</td>\n      <td>2</td>\n      <td>25</td>\n      <td>Washington</td>\n      <td>Seattle</td>\n      <td>47.593200</td>\n      <td>-122.300567</td>\n      <td>0</td>\n      <td>02/25/2013: Assailants set fire to a construct...</td>\n      <td>0</td>\n      <td>...</td>\n      <td>18.0</td>\n      <td>Arson/Fire</td>\n      <td>0</td>\n      <td>0</td>\n      <td>1</td>\n      <td>3.0</td>\n      <td>Minor (likely &lt; $1 million)</td>\n      <td>60000.0</td>\n      <td>A single family home and construction equipmen...</td>\n      <td>\"Environmental anarchists claim responsibility...</td>\n    </tr>\n    <tr>\n      <th>3</th>\n      <td>2013</td>\n      <td>4</td>\n      <td>15</td>\n      <td>Massachusetts</td>\n      <td>Boston</td>\n      <td>42.350265</td>\n      <td>-71.080976</td>\n      <td>0</td>\n      <td>04/15/2013: An explosive device consisting of ...</td>\n      <td>0</td>\n      <td>...</td>\n      <td>12.0</td>\n      <td>Remote Trigger</td>\n      <td>1</td>\n      <td>132</td>\n      <td>1</td>\n      <td>4.0</td>\n      <td>Unknown</td>\n      <td>-99.0</td>\n      <td>Nearby shops and buildings were damaged in thi...</td>\n      <td>\"Boston Marathon Terror Attack Fast Facts,\" CN...</td>\n    </tr>\n    <tr>\n      <th>4</th>\n      <td>2013</td>\n      <td>4</td>\n      <td>15</td>\n      <td>Massachusetts</td>\n      <td>Boston</td>\n      <td>42.350265</td>\n      <td>-71.080976</td>\n      <td>0</td>\n      <td>04/15/2013: An explosive device consisting of ...</td>\n      <td>0</td>\n      <td>...</td>\n      <td>12.0</td>\n      <td>Remote Trigger</td>\n      <td>2</td>\n      <td>132</td>\n      <td>1</td>\n      <td>4.0</td>\n      <td>Unknown</td>\n      <td>-99.0</td>\n      <td>Nearby shops and buildings were damaged in thi...</td>\n      <td>\"Boston Marathon Terror Attack Fast Facts,\" CN...</td>\n    </tr>\n    <tr>\n      <th>...</th>\n      <td>...</td>\n      <td>...</td>\n      <td>...</td>\n      <td>...</td>\n      <td>...</td>\n      <td>...</td>\n      <td>...</td>\n      <td>...</td>\n      <td>...</td>\n      <td>...</td>\n      <td>...</td>\n      <td>...</td>\n      <td>...</td>\n      <td>...</td>\n      <td>...</td>\n      <td>...</td>\n      <td>...</td>\n      <td>...</td>\n      <td>...</td>\n      <td>...</td>\n      <td>...</td>\n    </tr>\n    <tr>\n      <th>141</th>\n      <td>2016</td>\n      <td>11</td>\n      <td>25</td>\n      <td>Washington</td>\n      <td>Tacoma</td>\n      <td>47.154901</td>\n      <td>-122.368098</td>\n      <td>0</td>\n      <td>11/25/2016: Assailants set fire to Our Savior ...</td>\n      <td>0</td>\n      <td>...</td>\n      <td>18.0</td>\n      <td>Arson/Fire</td>\n      <td>0</td>\n      <td>0</td>\n      <td>1</td>\n      <td>3.0</td>\n      <td>Minor (likely &lt; $1 million)</td>\n      <td>-99.0</td>\n      <td>A church was damaged in this attack.</td>\n      <td>\"Tacoma church badly damaged by suspected arso...</td>\n    </tr>\n    <tr>\n      <th>142</th>\n      <td>2016</td>\n      <td>11</td>\n      <td>28</td>\n      <td>Ohio</td>\n      <td>Columbus</td>\n      <td>40.003290</td>\n      <td>-83.011421</td>\n      <td>0</td>\n      <td>11/28/2016: An assailant rammed his vehicle in...</td>\n      <td>0</td>\n      <td>...</td>\n      <td>23.0</td>\n      <td>Knife or Other Sharp Object</td>\n      <td>1</td>\n      <td>11</td>\n      <td>0</td>\n      <td>NaN</td>\n      <td>NaN</td>\n      <td>NaN</td>\n      <td>NaN</td>\n      <td>\"Ohio State University attack: Suspect dead an...</td>\n    </tr>\n    <tr>\n      <th>143</th>\n      <td>2016</td>\n      <td>12</td>\n      <td>4</td>\n      <td>District of Columbia</td>\n      <td>Washington</td>\n      <td>38.955943</td>\n      <td>-77.069984</td>\n      <td>0</td>\n      <td>12/04/2016: An assailant opened fire inside Co...</td>\n      <td>0</td>\n      <td>...</td>\n      <td>2.0</td>\n      <td>Automatic Weapon</td>\n      <td>0</td>\n      <td>0</td>\n      <td>1</td>\n      <td>3.0</td>\n      <td>Minor (likely &lt; $1 million)</td>\n      <td>5744.0</td>\n      <td>A computer system, a ping pong table, and lock...</td>\n      <td>\"The Comet Ping Pong Gunman Answers Our Report...</td>\n    </tr>\n    <tr>\n      <th>144</th>\n      <td>2016</td>\n      <td>12</td>\n      <td>7</td>\n      <td>California</td>\n      <td>Redlands</td>\n      <td>34.053546</td>\n      <td>-117.181537</td>\n      <td>0</td>\n      <td>12/07/2016: Assailants set fire to First Bapti...</td>\n      <td>0</td>\n      <td>...</td>\n      <td>18.0</td>\n      <td>Arson/Fire</td>\n      <td>0</td>\n      <td>0</td>\n      <td>1</td>\n      <td>3.0</td>\n      <td>Minor (likely &lt; $1 million)</td>\n      <td>2000.0</td>\n      <td>A church was damaged in this attack.</td>\n      <td>\"Arson investigators probe series of fires at ...</td>\n    </tr>\n    <tr>\n      <th>145</th>\n      <td>2016</td>\n      <td>12</td>\n      <td>15</td>\n      <td>Texas</td>\n      <td>Dallas</td>\n      <td>32.776664</td>\n      <td>-96.796988</td>\n      <td>0</td>\n      <td>12/15/2016: An assailant sent a message via Tw...</td>\n      <td>0</td>\n      <td>...</td>\n      <td>NaN</td>\n      <td>NaN</td>\n      <td>0</td>\n      <td>1</td>\n      <td>0</td>\n      <td>NaN</td>\n      <td>NaN</td>\n      <td>NaN</td>\n      <td>NaN</td>\n      <td>\"A Tweet to Kurt Eichenwald, a Strobe and a Se...</td>\n    </tr>\n  </tbody>\n</table>\n<p>146 rows × 38 columns</p>\n</div>",
      "text/plain": "     iyear  imonth  iday                 state        city   latitude  \\\n0     2013       1    17            Washington      Tacoma  47.252877   \n1     2013       2     7            California      Corona  33.875294   \n2     2013       2    25            Washington     Seattle  47.593200   \n3     2013       4    15         Massachusetts      Boston  42.350265   \n4     2013       4    15         Massachusetts      Boston  42.350265   \n..     ...     ...   ...                   ...         ...        ...   \n141   2016      11    25            Washington      Tacoma  47.154901   \n142   2016      11    28                  Ohio    Columbus  40.003290   \n143   2016      12     4  District of Columbia  Washington  38.955943   \n144   2016      12     7            California    Redlands  34.053546   \n145   2016      12    15                 Texas      Dallas  32.776664   \n\n      longitude  vicinity                                            summary  \\\n0   -122.444291         0  01/17/2013: An explosive device detonated outs...   \n1   -117.566438         0  02/07/2013: An assailant opened fire on two Ri...   \n2   -122.300567         0  02/25/2013: Assailants set fire to a construct...   \n3    -71.080976         0  04/15/2013: An explosive device consisting of ...   \n4    -71.080976         0  04/15/2013: An explosive device consisting of ...   \n..          ...       ...                                                ...   \n141 -122.368098         0  11/25/2016: Assailants set fire to Our Savior ...   \n142  -83.011421         0  11/28/2016: An assailant rammed his vehicle in...   \n143  -77.069984         0  12/04/2016: An assailant opened fire inside Co...   \n144 -117.181537         0  12/07/2016: Assailants set fire to First Bapti...   \n145  -96.796988         0  12/15/2016: An assailant sent a message via Tw...   \n\n     doubtterr  ...  weapsubtype1               weapsubtype1_txt  nkill  \\\n0            0  ...          17.0           Other Explosive Type      0   \n1            1  ...           4.0  Rifle/Shotgun (non-automatic)      1   \n2            0  ...          18.0                     Arson/Fire      0   \n3            0  ...          12.0                 Remote Trigger      1   \n4            0  ...          12.0                 Remote Trigger      2   \n..         ...  ...           ...                            ...    ...   \n141          0  ...          18.0                     Arson/Fire      0   \n142          0  ...          23.0    Knife or Other Sharp Object      1   \n143          0  ...           2.0               Automatic Weapon      0   \n144          0  ...          18.0                     Arson/Fire      0   \n145          0  ...           NaN                            NaN      0   \n\n     nwound property  propextent               propextent_txt  propvalue  \\\n0         0        0         NaN                          NaN        NaN   \n1         1        0         NaN                          NaN        NaN   \n2         0        1         3.0  Minor (likely < $1 million)    60000.0   \n3       132        1         4.0                      Unknown      -99.0   \n4       132        1         4.0                      Unknown      -99.0   \n..      ...      ...         ...                          ...        ...   \n141       0        1         3.0  Minor (likely < $1 million)      -99.0   \n142      11        0         NaN                          NaN        NaN   \n143       0        1         3.0  Minor (likely < $1 million)     5744.0   \n144       0        1         3.0  Minor (likely < $1 million)     2000.0   \n145       1        0         NaN                          NaN        NaN   \n\n                                           propcomment  \\\n0                                                  NaN   \n1                                                  NaN   \n2    A single family home and construction equipmen...   \n3    Nearby shops and buildings were damaged in thi...   \n4    Nearby shops and buildings were damaged in thi...   \n..                                                 ...   \n141               A church was damaged in this attack.   \n142                                                NaN   \n143  A computer system, a ping pong table, and lock...   \n144               A church was damaged in this attack.   \n145                                                NaN   \n\n                                                scite1  \n0    \"Small   bomb explodes   outside WA Correction...  \n1    \"Key events in hunt for former Los Angeles pol...  \n2    \"Environmental anarchists claim responsibility...  \n3    \"Boston Marathon Terror Attack Fast Facts,\" CN...  \n4    \"Boston Marathon Terror Attack Fast Facts,\" CN...  \n..                                                 ...  \n141  \"Tacoma church badly damaged by suspected arso...  \n142  \"Ohio State University attack: Suspect dead an...  \n143  \"The Comet Ping Pong Gunman Answers Our Report...  \n144  \"Arson investigators probe series of fires at ...  \n145  \"A Tweet to Kurt Eichenwald, a Strobe and a Se...  \n\n[146 rows x 38 columns]"
     },
     "execution_count": 104,
     "metadata": {},
     "output_type": "execute_result"
    }
   ],
   "source": [
    "gtd"
   ]
  },
  {
   "cell_type": "code",
   "execution_count": 94,
   "metadata": {},
   "outputs": [],
   "source": [
    "cities = gtd['city'].unique()"
   ]
  },
  {
   "cell_type": "code",
   "execution_count": null,
   "metadata": {},
   "outputs": [],
   "source": []
  },
  {
   "cell_type": "markdown",
   "metadata": {},
   "source": [
    "# gameplan\n",
    "here we have 3 datasets one on poverty by county, one on population by city, one that will bridge the two. \n",
    "Remember cities and counties are written differently (eg st. louis could be saint louis). The goal here will be no missing data.\n",
    "\n",
    "- make df: `popcounty` by adding `counties` to population-by-city `cities_pop`.\n",
    "- make df: `povcity` by joining poverty-by-county `cities_pop` and adding cities `county_cities` \n",
    "- make df: stats_city_county by combining `povcity` and `popcounty`\n",
    "- make df: joining this to incident."
   ]
  },
  {
   "cell_type": "markdown",
   "metadata": {},
   "source": [
    "## city and population\n",
    "match by city and state"
   ]
  },
  {
   "cell_type": "code",
   "execution_count": 3,
   "metadata": {},
   "outputs": [],
   "source": [
    "exec(open(\"/Users/josephdespres/Documents/Python/pythonChallenges/pandas/usstates.py\").read())\n",
    "# get state abbvs\n",
    "inv_map = {us_state_abbrev[k] : k for k in us_state_abbrev}\n",
    "# invert dictionary"
   ]
  },
  {
   "cell_type": "code",
   "execution_count": 89,
   "metadata": {},
   "outputs": [
    {
     "ename": "NameError",
     "evalue": "name 'inv_map' is not defined",
     "output_type": "error",
     "traceback": [
      "\u001b[0;31m---------------------------------------------------------------------------\u001b[0m",
      "\u001b[0;31mNameError\u001b[0m                                 Traceback (most recent call last)",
      "\u001b[0;32m<ipython-input-89-2064c3fb50a1>\u001b[0m in \u001b[0;36m<module>\u001b[0;34m\u001b[0m\n\u001b[0;32m----> 1\u001b[0;31m \u001b[0mcounty_cities\u001b[0m \u001b[0;34m=\u001b[0m \u001b[0mcounty_cities\u001b[0m\u001b[0;34m.\u001b[0m\u001b[0mreplace\u001b[0m\u001b[0;34m(\u001b[0m\u001b[0;34m{\u001b[0m\u001b[0;34m'state'\u001b[0m\u001b[0;34m:\u001b[0m \u001b[0minv_map\u001b[0m\u001b[0;34m}\u001b[0m\u001b[0;34m)\u001b[0m\u001b[0;34m\u001b[0m\u001b[0;34m\u001b[0m\u001b[0m\n\u001b[0m\u001b[1;32m      2\u001b[0m \u001b[0mcounty_cities\u001b[0m\u001b[0;34m\u001b[0m\u001b[0;34m\u001b[0m\u001b[0m\n\u001b[1;32m      3\u001b[0m \u001b[0;34m\u001b[0m\u001b[0m\n\u001b[1;32m      4\u001b[0m \u001b[0mcity_state_counties\u001b[0m \u001b[0;34m=\u001b[0m \u001b[0mcounty_cities\u001b[0m\u001b[0;34m[\u001b[0m\u001b[0;34m'city'\u001b[0m\u001b[0;34m]\u001b[0m \u001b[0;34m+\u001b[0m \u001b[0mcounty_cities\u001b[0m\u001b[0;34m[\u001b[0m\u001b[0;34m'state'\u001b[0m\u001b[0;34m]\u001b[0m\u001b[0;34m\u001b[0m\u001b[0;34m\u001b[0m\u001b[0m\n",
      "\u001b[0;31mNameError\u001b[0m: name 'inv_map' is not defined"
     ]
    }
   ],
   "source": [
    "county_cities = county_cities.replace({'state': inv_map})\n",
    "county_cities\n",
    "\n",
    "city_state_counties = county_cities['city'] + county_cities['state']"
   ]
  },
  {
   "cell_type": "code",
   "execution_count": 10,
   "metadata": {},
   "outputs": [
    {
     "data": {
      "text/html": "<div>\n<style scoped>\n    .dataframe tbody tr th:only-of-type {\n        vertical-align: middle;\n    }\n\n    .dataframe tbody tr th {\n        vertical-align: top;\n    }\n\n    .dataframe thead th {\n        text-align: right;\n    }\n</style>\n<table border=\"1\" class=\"dataframe\">\n  <thead>\n    <tr style=\"text-align: right;\">\n      <th></th>\n      <th>SUMLEV</th>\n      <th>STATE</th>\n      <th>COUNTY</th>\n      <th>PLACE</th>\n      <th>city</th>\n      <th>state</th>\n      <th>POPESTIMATE2013</th>\n      <th>POPESTIMATE2014</th>\n      <th>POPESTIMATE2015</th>\n      <th>POPESTIMATE2016</th>\n    </tr>\n  </thead>\n  <tbody>\n    <tr>\n      <th>0</th>\n      <td>40</td>\n      <td>1</td>\n      <td>0</td>\n      <td>0</td>\n      <td>Alabama</td>\n      <td>Alabama</td>\n      <td>4829479</td>\n      <td>4843214</td>\n      <td>4853875</td>\n      <td>4863300</td>\n    </tr>\n    <tr>\n      <th>1</th>\n      <td>162</td>\n      <td>1</td>\n      <td>0</td>\n      <td>124</td>\n      <td>Abbeville city</td>\n      <td>Alabama</td>\n      <td>2631</td>\n      <td>2619</td>\n      <td>2616</td>\n      <td>2603</td>\n    </tr>\n    <tr>\n      <th>2</th>\n      <td>162</td>\n      <td>1</td>\n      <td>0</td>\n      <td>460</td>\n      <td>Adamsville city</td>\n      <td>Alabama</td>\n      <td>4447</td>\n      <td>4428</td>\n      <td>4395</td>\n      <td>4360</td>\n    </tr>\n    <tr>\n      <th>3</th>\n      <td>162</td>\n      <td>1</td>\n      <td>0</td>\n      <td>484</td>\n      <td>Addison town</td>\n      <td>Alabama</td>\n      <td>748</td>\n      <td>747</td>\n      <td>740</td>\n      <td>738</td>\n    </tr>\n    <tr>\n      <th>4</th>\n      <td>162</td>\n      <td>1</td>\n      <td>0</td>\n      <td>676</td>\n      <td>Akron town</td>\n      <td>Alabama</td>\n      <td>342</td>\n      <td>337</td>\n      <td>337</td>\n      <td>334</td>\n    </tr>\n    <tr>\n      <th>...</th>\n      <td>...</td>\n      <td>...</td>\n      <td>...</td>\n      <td>...</td>\n      <td>...</td>\n      <td>...</td>\n      <td>...</td>\n      <td>...</td>\n      <td>...</td>\n      <td>...</td>\n    </tr>\n    <tr>\n      <th>81580</th>\n      <td>157</td>\n      <td>56</td>\n      <td>43</td>\n      <td>99990</td>\n      <td>Balance of Washakie County</td>\n      <td>Wyoming</td>\n      <td>2744</td>\n      <td>2697</td>\n      <td>2704</td>\n      <td>2669</td>\n    </tr>\n    <tr>\n      <th>81581</th>\n      <td>50</td>\n      <td>56</td>\n      <td>45</td>\n      <td>0</td>\n      <td>Weston County</td>\n      <td>Wyoming</td>\n      <td>7163</td>\n      <td>7179</td>\n      <td>7230</td>\n      <td>7236</td>\n    </tr>\n    <tr>\n      <th>81582</th>\n      <td>157</td>\n      <td>56</td>\n      <td>45</td>\n      <td>56215</td>\n      <td>Newcastle city</td>\n      <td>Wyoming</td>\n      <td>3496</td>\n      <td>3505</td>\n      <td>3525</td>\n      <td>3535</td>\n    </tr>\n    <tr>\n      <th>81583</th>\n      <td>157</td>\n      <td>56</td>\n      <td>45</td>\n      <td>79125</td>\n      <td>Upton town</td>\n      <td>Wyoming</td>\n      <td>1094</td>\n      <td>1101</td>\n      <td>1107</td>\n      <td>1106</td>\n    </tr>\n    <tr>\n      <th>81584</th>\n      <td>157</td>\n      <td>56</td>\n      <td>45</td>\n      <td>99990</td>\n      <td>Balance of Weston County</td>\n      <td>Wyoming</td>\n      <td>2573</td>\n      <td>2573</td>\n      <td>2598</td>\n      <td>2595</td>\n    </tr>\n  </tbody>\n</table>\n<p>81585 rows × 10 columns</p>\n</div>",
      "text/plain": "       SUMLEV  STATE  COUNTY  PLACE                        city    state  \\\n0          40      1       0      0                     Alabama  Alabama   \n1         162      1       0    124              Abbeville city  Alabama   \n2         162      1       0    460             Adamsville city  Alabama   \n3         162      1       0    484                Addison town  Alabama   \n4         162      1       0    676                  Akron town  Alabama   \n...       ...    ...     ...    ...                         ...      ...   \n81580     157     56      43  99990  Balance of Washakie County  Wyoming   \n81581      50     56      45      0               Weston County  Wyoming   \n81582     157     56      45  56215              Newcastle city  Wyoming   \n81583     157     56      45  79125                  Upton town  Wyoming   \n81584     157     56      45  99990    Balance of Weston County  Wyoming   \n\n       POPESTIMATE2013  POPESTIMATE2014  POPESTIMATE2015  POPESTIMATE2016  \n0              4829479          4843214          4853875          4863300  \n1                 2631             2619             2616             2603  \n2                 4447             4428             4395             4360  \n3                  748              747              740              738  \n4                  342              337              337              334  \n...                ...              ...              ...              ...  \n81580             2744             2697             2704             2669  \n81581             7163             7179             7230             7236  \n81582             3496             3505             3525             3535  \n81583             1094             1101             1107             1106  \n81584             2573             2573             2598             2595  \n\n[81585 rows x 10 columns]"
     },
     "execution_count": 10,
     "metadata": {},
     "output_type": "execute_result"
    }
   ],
   "source": [
    "cities_pop"
   ]
  },
  {
   "cell_type": "code",
   "execution_count": 8,
   "metadata": {},
   "outputs": [
    {
     "data": {
      "text/plain": "0                           AlabamaAlabama\n1                    Abbeville cityAlabama\n2                   Adamsville cityAlabama\n3                      Addison townAlabama\n4                        Akron townAlabama\n                       ...                \n81580    Balance of Washakie CountyWyoming\n81581                 Weston CountyWyoming\n81582                Newcastle cityWyoming\n81583                    Upton townWyoming\n81584      Balance of Weston CountyWyoming\nLength: 81585, dtype: object"
     },
     "execution_count": 8,
     "metadata": {},
     "output_type": "execute_result"
    }
   ],
   "source": [
    "cities_pop[['NAME', 'STNAME']]\n",
    "\n",
    "citystate = cities_pop['NAME'] + cities_pop['STNAME']\n",
    "citystate\n"
   ]
  },
  {
   "cell_type": "code",
   "execution_count": 9,
   "metadata": {},
   "outputs": [
    {
     "data": {
      "text/html": "<div>\n<style scoped>\n    .dataframe tbody tr th:only-of-type {\n        vertical-align: middle;\n    }\n\n    .dataframe tbody tr th {\n        vertical-align: top;\n    }\n\n    .dataframe thead th {\n        text-align: right;\n    }\n</style>\n<table border=\"1\" class=\"dataframe\">\n  <thead>\n    <tr style=\"text-align: right;\">\n      <th></th>\n      <th>SUMLEV</th>\n      <th>STATE</th>\n      <th>COUNTY</th>\n      <th>PLACE</th>\n      <th>city</th>\n      <th>state</th>\n      <th>POPESTIMATE2013</th>\n      <th>POPESTIMATE2014</th>\n      <th>POPESTIMATE2015</th>\n      <th>POPESTIMATE2016</th>\n    </tr>\n  </thead>\n  <tbody>\n    <tr>\n      <th>0</th>\n      <td>40</td>\n      <td>1</td>\n      <td>0</td>\n      <td>0</td>\n      <td>Alabama</td>\n      <td>Alabama</td>\n      <td>4829479</td>\n      <td>4843214</td>\n      <td>4853875</td>\n      <td>4863300</td>\n    </tr>\n    <tr>\n      <th>1</th>\n      <td>162</td>\n      <td>1</td>\n      <td>0</td>\n      <td>124</td>\n      <td>Abbeville city</td>\n      <td>Alabama</td>\n      <td>2631</td>\n      <td>2619</td>\n      <td>2616</td>\n      <td>2603</td>\n    </tr>\n    <tr>\n      <th>2</th>\n      <td>162</td>\n      <td>1</td>\n      <td>0</td>\n      <td>460</td>\n      <td>Adamsville city</td>\n      <td>Alabama</td>\n      <td>4447</td>\n      <td>4428</td>\n      <td>4395</td>\n      <td>4360</td>\n    </tr>\n    <tr>\n      <th>3</th>\n      <td>162</td>\n      <td>1</td>\n      <td>0</td>\n      <td>484</td>\n      <td>Addison town</td>\n      <td>Alabama</td>\n      <td>748</td>\n      <td>747</td>\n      <td>740</td>\n      <td>738</td>\n    </tr>\n    <tr>\n      <th>4</th>\n      <td>162</td>\n      <td>1</td>\n      <td>0</td>\n      <td>676</td>\n      <td>Akron town</td>\n      <td>Alabama</td>\n      <td>342</td>\n      <td>337</td>\n      <td>337</td>\n      <td>334</td>\n    </tr>\n    <tr>\n      <th>...</th>\n      <td>...</td>\n      <td>...</td>\n      <td>...</td>\n      <td>...</td>\n      <td>...</td>\n      <td>...</td>\n      <td>...</td>\n      <td>...</td>\n      <td>...</td>\n      <td>...</td>\n    </tr>\n    <tr>\n      <th>81580</th>\n      <td>157</td>\n      <td>56</td>\n      <td>43</td>\n      <td>99990</td>\n      <td>Balance of Washakie County</td>\n      <td>Wyoming</td>\n      <td>2744</td>\n      <td>2697</td>\n      <td>2704</td>\n      <td>2669</td>\n    </tr>\n    <tr>\n      <th>81581</th>\n      <td>50</td>\n      <td>56</td>\n      <td>45</td>\n      <td>0</td>\n      <td>Weston County</td>\n      <td>Wyoming</td>\n      <td>7163</td>\n      <td>7179</td>\n      <td>7230</td>\n      <td>7236</td>\n    </tr>\n    <tr>\n      <th>81582</th>\n      <td>157</td>\n      <td>56</td>\n      <td>45</td>\n      <td>56215</td>\n      <td>Newcastle city</td>\n      <td>Wyoming</td>\n      <td>3496</td>\n      <td>3505</td>\n      <td>3525</td>\n      <td>3535</td>\n    </tr>\n    <tr>\n      <th>81583</th>\n      <td>157</td>\n      <td>56</td>\n      <td>45</td>\n      <td>79125</td>\n      <td>Upton town</td>\n      <td>Wyoming</td>\n      <td>1094</td>\n      <td>1101</td>\n      <td>1107</td>\n      <td>1106</td>\n    </tr>\n    <tr>\n      <th>81584</th>\n      <td>157</td>\n      <td>56</td>\n      <td>45</td>\n      <td>99990</td>\n      <td>Balance of Weston County</td>\n      <td>Wyoming</td>\n      <td>2573</td>\n      <td>2573</td>\n      <td>2598</td>\n      <td>2595</td>\n    </tr>\n  </tbody>\n</table>\n<p>81585 rows × 10 columns</p>\n</div>",
      "text/plain": "       SUMLEV  STATE  COUNTY  PLACE                        city    state  \\\n0          40      1       0      0                     Alabama  Alabama   \n1         162      1       0    124              Abbeville city  Alabama   \n2         162      1       0    460             Adamsville city  Alabama   \n3         162      1       0    484                Addison town  Alabama   \n4         162      1       0    676                  Akron town  Alabama   \n...       ...    ...     ...    ...                         ...      ...   \n81580     157     56      43  99990  Balance of Washakie County  Wyoming   \n81581      50     56      45      0               Weston County  Wyoming   \n81582     157     56      45  56215              Newcastle city  Wyoming   \n81583     157     56      45  79125                  Upton town  Wyoming   \n81584     157     56      45  99990    Balance of Weston County  Wyoming   \n\n       POPESTIMATE2013  POPESTIMATE2014  POPESTIMATE2015  POPESTIMATE2016  \n0              4829479          4843214          4853875          4863300  \n1                 2631             2619             2616             2603  \n2                 4447             4428             4395             4360  \n3                  748              747              740              738  \n4                  342              337              337              334  \n...                ...              ...              ...              ...  \n81580             2744             2697             2704             2669  \n81581             7163             7179             7230             7236  \n81582             3496             3505             3525             3535  \n81583             1094             1101             1107             1106  \n81584             2573             2573             2598             2595  \n\n[81585 rows x 10 columns]"
     },
     "execution_count": 9,
     "metadata": {},
     "output_type": "execute_result"
    }
   ],
   "source": [
    "\n",
    "\n",
    "cities_pop"
   ]
  },
  {
   "cell_type": "code",
   "execution_count": 88,
   "metadata": {},
   "outputs": [
    {
     "ename": "AttributeError",
     "evalue": "'DataFrame' object has no attribute 'provstate'",
     "output_type": "error",
     "traceback": [
      "\u001b[0;31m---------------------------------------------------------------------------\u001b[0m",
      "\u001b[0;31mAttributeError\u001b[0m                            Traceback (most recent call last)",
      "\u001b[0;32m<ipython-input-88-323431f9641d>\u001b[0m in \u001b[0;36m<module>\u001b[0;34m\u001b[0m\n\u001b[0;32m----> 1\u001b[0;31m \u001b[0mgtd\u001b[0m\u001b[0;34m[\u001b[0m\u001b[0;34m~\u001b[0m\u001b[0mgtd\u001b[0m\u001b[0;34m.\u001b[0m\u001b[0mprovstate\u001b[0m\u001b[0;34m.\u001b[0m\u001b[0misin\u001b[0m\u001b[0;34m(\u001b[0m\u001b[0mcities_pop\u001b[0m\u001b[0;34m[\u001b[0m\u001b[0;34m'city'\u001b[0m\u001b[0;34m]\u001b[0m\u001b[0;34m)\u001b[0m\u001b[0;34m]\u001b[0m\u001b[0;34m\u001b[0m\u001b[0;34m\u001b[0m\u001b[0m\n\u001b[0m",
      "\u001b[0;32m~/Library/Python/3.8/lib/python/site-packages/pandas/core/generic.py\u001b[0m in \u001b[0;36m__getattr__\u001b[0;34m(self, name)\u001b[0m\n\u001b[1;32m   5272\u001b[0m             \u001b[0;32mif\u001b[0m \u001b[0mself\u001b[0m\u001b[0;34m.\u001b[0m\u001b[0m_info_axis\u001b[0m\u001b[0;34m.\u001b[0m\u001b[0m_can_hold_identifiers_and_holds_name\u001b[0m\u001b[0;34m(\u001b[0m\u001b[0mname\u001b[0m\u001b[0;34m)\u001b[0m\u001b[0;34m:\u001b[0m\u001b[0;34m\u001b[0m\u001b[0;34m\u001b[0m\u001b[0m\n\u001b[1;32m   5273\u001b[0m                 \u001b[0;32mreturn\u001b[0m \u001b[0mself\u001b[0m\u001b[0;34m[\u001b[0m\u001b[0mname\u001b[0m\u001b[0;34m]\u001b[0m\u001b[0;34m\u001b[0m\u001b[0;34m\u001b[0m\u001b[0m\n\u001b[0;32m-> 5274\u001b[0;31m             \u001b[0;32mreturn\u001b[0m \u001b[0mobject\u001b[0m\u001b[0;34m.\u001b[0m\u001b[0m__getattribute__\u001b[0m\u001b[0;34m(\u001b[0m\u001b[0mself\u001b[0m\u001b[0;34m,\u001b[0m \u001b[0mname\u001b[0m\u001b[0;34m)\u001b[0m\u001b[0;34m\u001b[0m\u001b[0;34m\u001b[0m\u001b[0m\n\u001b[0m\u001b[1;32m   5275\u001b[0m \u001b[0;34m\u001b[0m\u001b[0m\n\u001b[1;32m   5276\u001b[0m     \u001b[0;32mdef\u001b[0m \u001b[0m__setattr__\u001b[0m\u001b[0;34m(\u001b[0m\u001b[0mself\u001b[0m\u001b[0;34m,\u001b[0m \u001b[0mname\u001b[0m\u001b[0;34m:\u001b[0m \u001b[0mstr\u001b[0m\u001b[0;34m,\u001b[0m \u001b[0mvalue\u001b[0m\u001b[0;34m)\u001b[0m \u001b[0;34m->\u001b[0m \u001b[0;32mNone\u001b[0m\u001b[0;34m:\u001b[0m\u001b[0;34m\u001b[0m\u001b[0;34m\u001b[0m\u001b[0m\n",
      "\u001b[0;31mAttributeError\u001b[0m: 'DataFrame' object has no attribute 'provstate'"
     ]
    }
   ],
   "source": [
    "gtd[~gtd.provstate.isin(cities_pop['city'])]\n"
   ]
  },
  {
   "cell_type": "code",
   "execution_count": null,
   "metadata": {},
   "outputs": [],
   "source": [
    "gtd[gtd.provstate.isin(cities_pop['city'])]\n"
   ]
  },
  {
   "cell_type": "code",
   "execution_count": 28,
   "metadata": {},
   "outputs": [
    {
     "data": {
      "text/html": "<div>\n<style scoped>\n    .dataframe tbody tr th:only-of-type {\n        vertical-align: middle;\n    }\n\n    .dataframe tbody tr th {\n        vertical-align: top;\n    }\n\n    .dataframe thead th {\n        text-align: right;\n    }\n</style>\n<table border=\"1\" class=\"dataframe\">\n  <thead>\n    <tr style=\"text-align: right;\">\n      <th></th>\n      <th>latitude</th>\n      <th>longitude</th>\n      <th>city</th>\n      <th>state</th>\n      <th>county</th>\n    </tr>\n  </thead>\n  <tbody>\n    <tr>\n      <th>390</th>\n      <td>42.109748</td>\n      <td>-72.079455</td>\n      <td>Charlton City</td>\n      <td>Massachusetts</td>\n      <td>Worcester</td>\n    </tr>\n    <tr>\n      <th>2274</th>\n      <td>41.599562</td>\n      <td>-71.982619</td>\n      <td>Jewett City</td>\n      <td>Connecticut</td>\n      <td>New London</td>\n    </tr>\n    <tr>\n      <th>2607</th>\n      <td>40.758951</td>\n      <td>-74.056335</td>\n      <td>Union City</td>\n      <td>New Jersey</td>\n      <td>Hudson</td>\n    </tr>\n    <tr>\n      <th>2616</th>\n      <td>40.732760</td>\n      <td>-74.075485</td>\n      <td>Jersey City</td>\n      <td>New Jersey</td>\n      <td>Hudson</td>\n    </tr>\n    <tr>\n      <th>2652</th>\n      <td>40.726001</td>\n      <td>-74.047304</td>\n      <td>Jersey City</td>\n      <td>New Jersey</td>\n      <td>Hudson</td>\n    </tr>\n    <tr>\n      <th>...</th>\n      <td>...</td>\n      <td>...</td>\n      <td>...</td>\n      <td>...</td>\n      <td>...</td>\n    </tr>\n    <tr>\n      <th>42345</th>\n      <td>47.737206</td>\n      <td>-119.227032</td>\n      <td>Coulee City</td>\n      <td>Washington</td>\n      <td>Grant</td>\n    </tr>\n    <tr>\n      <th>42352</th>\n      <td>47.913065</td>\n      <td>-119.042562</td>\n      <td>Electric City</td>\n      <td>Washington</td>\n      <td>Grant</td>\n    </tr>\n    <tr>\n      <th>42353</th>\n      <td>48.015361</td>\n      <td>-118.954893</td>\n      <td>Elmer City</td>\n      <td>Washington</td>\n      <td>Okanogan</td>\n    </tr>\n    <tr>\n      <th>42434</th>\n      <td>46.242040</td>\n      <td>-119.483517</td>\n      <td>Benton City</td>\n      <td>Washington</td>\n      <td>Benton</td>\n    </tr>\n    <tr>\n      <th>42462</th>\n      <td>46.897589</td>\n      <td>-119.686316</td>\n      <td>Royal City</td>\n      <td>Washington</td>\n      <td>Grant</td>\n    </tr>\n  </tbody>\n</table>\n<p>912 rows × 5 columns</p>\n</div>",
      "text/plain": "        latitude   longitude           city          state      county\n390    42.109748  -72.079455  Charlton City  Massachusetts   Worcester\n2274   41.599562  -71.982619    Jewett City    Connecticut  New London\n2607   40.758951  -74.056335     Union City     New Jersey      Hudson\n2616   40.732760  -74.075485    Jersey City     New Jersey      Hudson\n2652   40.726001  -74.047304    Jersey City     New Jersey      Hudson\n...          ...         ...            ...            ...         ...\n42345  47.737206 -119.227032    Coulee City     Washington       Grant\n42352  47.913065 -119.042562  Electric City     Washington       Grant\n42353  48.015361 -118.954893     Elmer City     Washington    Okanogan\n42434  46.242040 -119.483517    Benton City     Washington      Benton\n42462  46.897589 -119.686316     Royal City     Washington       Grant\n\n[912 rows x 5 columns]"
     },
     "execution_count": 28,
     "metadata": {},
     "output_type": "execute_result"
    }
   ],
   "source": [
    "\n",
    "county_cities[county_cities['city'].str.contains('City')]"
   ]
  },
  {
   "cell_type": "code",
   "execution_count": 30,
   "metadata": {},
   "outputs": [
    {
     "data": {
      "text/html": "<div>\n<style scoped>\n    .dataframe tbody tr th:only-of-type {\n        vertical-align: middle;\n    }\n\n    .dataframe tbody tr th {\n        vertical-align: top;\n    }\n\n    .dataframe thead th {\n        text-align: right;\n    }\n</style>\n<table border=\"1\" class=\"dataframe\">\n  <thead>\n    <tr style=\"text-align: right;\">\n      <th></th>\n      <th>SUMLEV</th>\n      <th>STATE</th>\n      <th>COUNTY</th>\n      <th>PLACE</th>\n      <th>city</th>\n      <th>state</th>\n      <th>POPESTIMATE2013</th>\n      <th>POPESTIMATE2014</th>\n      <th>POPESTIMATE2015</th>\n      <th>POPESTIMATE2016</th>\n    </tr>\n  </thead>\n  <tbody>\n    <tr>\n      <th>3</th>\n      <td>162</td>\n      <td>1</td>\n      <td>0</td>\n      <td>484</td>\n      <td>Addison town</td>\n      <td>Alabama</td>\n      <td>748</td>\n      <td>747</td>\n      <td>740</td>\n      <td>738</td>\n    </tr>\n    <tr>\n      <th>4</th>\n      <td>162</td>\n      <td>1</td>\n      <td>0</td>\n      <td>676</td>\n      <td>Akron town</td>\n      <td>Alabama</td>\n      <td>342</td>\n      <td>337</td>\n      <td>337</td>\n      <td>334</td>\n    </tr>\n    <tr>\n      <th>7</th>\n      <td>162</td>\n      <td>1</td>\n      <td>0</td>\n      <td>1132</td>\n      <td>Alexander City city</td>\n      <td>Alabama</td>\n      <td>14928</td>\n      <td>14905</td>\n      <td>14792</td>\n      <td>14773</td>\n    </tr>\n    <tr>\n      <th>9</th>\n      <td>162</td>\n      <td>1</td>\n      <td>0</td>\n      <td>1396</td>\n      <td>Allgood town</td>\n      <td>Alabama</td>\n      <td>628</td>\n      <td>627</td>\n      <td>628</td>\n      <td>627</td>\n    </tr>\n    <tr>\n      <th>10</th>\n      <td>162</td>\n      <td>1</td>\n      <td>0</td>\n      <td>1660</td>\n      <td>Altoona town</td>\n      <td>Alabama</td>\n      <td>930</td>\n      <td>927</td>\n      <td>922</td>\n      <td>919</td>\n    </tr>\n    <tr>\n      <th>...</th>\n      <td>...</td>\n      <td>...</td>\n      <td>...</td>\n      <td>...</td>\n      <td>...</td>\n      <td>...</td>\n      <td>...</td>\n      <td>...</td>\n      <td>...</td>\n      <td>...</td>\n    </tr>\n    <tr>\n      <th>81572</th>\n      <td>157</td>\n      <td>56</td>\n      <td>41</td>\n      <td>5625</td>\n      <td>Bear River town</td>\n      <td>Wyoming</td>\n      <td>516</td>\n      <td>521</td>\n      <td>518</td>\n      <td>517</td>\n    </tr>\n    <tr>\n      <th>81574</th>\n      <td>157</td>\n      <td>56</td>\n      <td>41</td>\n      <td>48675</td>\n      <td>Lyman town</td>\n      <td>Wyoming</td>\n      <td>2088</td>\n      <td>2074</td>\n      <td>2073</td>\n      <td>2072</td>\n    </tr>\n    <tr>\n      <th>81575</th>\n      <td>157</td>\n      <td>56</td>\n      <td>41</td>\n      <td>55345</td>\n      <td>Mountain View town</td>\n      <td>Wyoming</td>\n      <td>1315</td>\n      <td>1302</td>\n      <td>1294</td>\n      <td>1287</td>\n    </tr>\n    <tr>\n      <th>81578</th>\n      <td>157</td>\n      <td>56</td>\n      <td>43</td>\n      <td>75790</td>\n      <td>Ten Sleep town</td>\n      <td>Wyoming</td>\n      <td>257</td>\n      <td>253</td>\n      <td>254</td>\n      <td>250</td>\n    </tr>\n    <tr>\n      <th>81583</th>\n      <td>157</td>\n      <td>56</td>\n      <td>45</td>\n      <td>79125</td>\n      <td>Upton town</td>\n      <td>Wyoming</td>\n      <td>1094</td>\n      <td>1101</td>\n      <td>1107</td>\n      <td>1106</td>\n    </tr>\n  </tbody>\n</table>\n<p>31920 rows × 10 columns</p>\n</div>",
      "text/plain": "       SUMLEV  STATE  COUNTY  PLACE                 city    state  \\\n3         162      1       0    484         Addison town  Alabama   \n4         162      1       0    676           Akron town  Alabama   \n7         162      1       0   1132  Alexander City city  Alabama   \n9         162      1       0   1396         Allgood town  Alabama   \n10        162      1       0   1660         Altoona town  Alabama   \n...       ...    ...     ...    ...                  ...      ...   \n81572     157     56      41   5625      Bear River town  Wyoming   \n81574     157     56      41  48675           Lyman town  Wyoming   \n81575     157     56      41  55345   Mountain View town  Wyoming   \n81578     157     56      43  75790       Ten Sleep town  Wyoming   \n81583     157     56      45  79125           Upton town  Wyoming   \n\n       POPESTIMATE2013  POPESTIMATE2014  POPESTIMATE2015  POPESTIMATE2016  \n3                  748              747              740              738  \n4                  342              337              337              334  \n7                14928            14905            14792            14773  \n9                  628              627              628              627  \n10                 930              927              922              919  \n...                ...              ...              ...              ...  \n81572              516              521              518              517  \n81574             2088             2074             2073             2072  \n81575             1315             1302             1294             1287  \n81578              257              253              254              250  \n81583             1094             1101             1107             1106  \n\n[31920 rows x 10 columns]"
     },
     "execution_count": 30,
     "metadata": {},
     "output_type": "execute_result"
    }
   ],
   "source": [
    "cities_pop[cities_pop['city'].str.contains('City|town')]"
   ]
  },
  {
   "cell_type": "code",
   "execution_count": 25,
   "metadata": {},
   "outputs": [
    {
     "data": {
      "text/html": "<div>\n<style scoped>\n    .dataframe tbody tr th:only-of-type {\n        vertical-align: middle;\n    }\n\n    .dataframe tbody tr th {\n        vertical-align: top;\n    }\n\n    .dataframe thead th {\n        text-align: right;\n    }\n</style>\n<table border=\"1\" class=\"dataframe\">\n  <thead>\n    <tr style=\"text-align: right;\">\n      <th></th>\n      <th>SUMLEV</th>\n      <th>STATE</th>\n      <th>COUNTY</th>\n      <th>PLACE</th>\n      <th>city</th>\n      <th>state</th>\n      <th>POPESTIMATE2013</th>\n      <th>POPESTIMATE2014</th>\n      <th>POPESTIMATE2015</th>\n      <th>POPESTIMATE2016</th>\n      <th>latitude</th>\n      <th>longitude</th>\n      <th>county</th>\n    </tr>\n  </thead>\n  <tbody>\n    <tr>\n      <th>0</th>\n      <td>162.0</td>\n      <td>32.0</td>\n      <td>0.0</td>\n      <td>9700.0</td>\n      <td>Carson City</td>\n      <td>Nevada</td>\n      <td>53989.0</td>\n      <td>54385.0</td>\n      <td>54405.0</td>\n      <td>54742.0</td>\n      <td>39.154485</td>\n      <td>-119.730740</td>\n      <td>Carson City</td>\n    </tr>\n    <tr>\n      <th>1</th>\n      <td>50.0</td>\n      <td>32.0</td>\n      <td>510.0</td>\n      <td>0.0</td>\n      <td>Carson City</td>\n      <td>Nevada</td>\n      <td>53989.0</td>\n      <td>54385.0</td>\n      <td>54405.0</td>\n      <td>54742.0</td>\n      <td>39.154485</td>\n      <td>-119.730740</td>\n      <td>Carson City</td>\n    </tr>\n    <tr>\n      <th>2</th>\n      <td>157.0</td>\n      <td>32.0</td>\n      <td>510.0</td>\n      <td>9700.0</td>\n      <td>Carson City</td>\n      <td>Nevada</td>\n      <td>53989.0</td>\n      <td>54385.0</td>\n      <td>54405.0</td>\n      <td>54742.0</td>\n      <td>39.154485</td>\n      <td>-119.730740</td>\n      <td>Carson City</td>\n    </tr>\n    <tr>\n      <th>3</th>\n      <td>162.0</td>\n      <td>32.0</td>\n      <td>0.0</td>\n      <td>9700.0</td>\n      <td>Carson City</td>\n      <td>Nevada</td>\n      <td>53989.0</td>\n      <td>54385.0</td>\n      <td>54405.0</td>\n      <td>54742.0</td>\n      <td>39.135503</td>\n      <td>-119.758750</td>\n      <td>Carson City</td>\n    </tr>\n    <tr>\n      <th>4</th>\n      <td>50.0</td>\n      <td>32.0</td>\n      <td>510.0</td>\n      <td>0.0</td>\n      <td>Carson City</td>\n      <td>Nevada</td>\n      <td>53989.0</td>\n      <td>54385.0</td>\n      <td>54405.0</td>\n      <td>54742.0</td>\n      <td>39.135503</td>\n      <td>-119.758750</td>\n      <td>Carson City</td>\n    </tr>\n    <tr>\n      <th>...</th>\n      <td>...</td>\n      <td>...</td>\n      <td>...</td>\n      <td>...</td>\n      <td>...</td>\n      <td>...</td>\n      <td>...</td>\n      <td>...</td>\n      <td>...</td>\n      <td>...</td>\n      <td>...</td>\n      <td>...</td>\n      <td>...</td>\n    </tr>\n    <tr>\n      <th>42771</th>\n      <td>NaN</td>\n      <td>NaN</td>\n      <td>NaN</td>\n      <td>NaN</td>\n      <td>Klawock</td>\n      <td>Alaska</td>\n      <td>NaN</td>\n      <td>NaN</td>\n      <td>NaN</td>\n      <td>NaN</td>\n      <td>55.554393</td>\n      <td>-133.090680</td>\n      <td>Prince Wales Ketchikan</td>\n    </tr>\n    <tr>\n      <th>42772</th>\n      <td>NaN</td>\n      <td>NaN</td>\n      <td>NaN</td>\n      <td>NaN</td>\n      <td>Metlakatla</td>\n      <td>Alaska</td>\n      <td>NaN</td>\n      <td>NaN</td>\n      <td>NaN</td>\n      <td>NaN</td>\n      <td>55.094325</td>\n      <td>-131.566827</td>\n      <td>Prince Wales Ketchikan</td>\n    </tr>\n    <tr>\n      <th>42773</th>\n      <td>NaN</td>\n      <td>NaN</td>\n      <td>NaN</td>\n      <td>NaN</td>\n      <td>Point Baker</td>\n      <td>Alaska</td>\n      <td>NaN</td>\n      <td>NaN</td>\n      <td>NaN</td>\n      <td>NaN</td>\n      <td>55.517921</td>\n      <td>-132.003244</td>\n      <td>Prince Wales Ketchikan</td>\n    </tr>\n    <tr>\n      <th>42774</th>\n      <td>NaN</td>\n      <td>NaN</td>\n      <td>NaN</td>\n      <td>NaN</td>\n      <td>Ward Cove</td>\n      <td>Alaska</td>\n      <td>NaN</td>\n      <td>NaN</td>\n      <td>NaN</td>\n      <td>NaN</td>\n      <td>55.395359</td>\n      <td>-131.675370</td>\n      <td>Ketchikan Gateway</td>\n    </tr>\n    <tr>\n      <th>42775</th>\n      <td>NaN</td>\n      <td>NaN</td>\n      <td>NaN</td>\n      <td>NaN</td>\n      <td>Wrangell</td>\n      <td>Alaska</td>\n      <td>NaN</td>\n      <td>NaN</td>\n      <td>NaN</td>\n      <td>NaN</td>\n      <td>56.449893</td>\n      <td>-132.364407</td>\n      <td>Wrangell Petersburg</td>\n    </tr>\n  </tbody>\n</table>\n<p>42776 rows × 13 columns</p>\n</div>",
      "text/plain": "       SUMLEV  STATE  COUNTY   PLACE         city   state  POPESTIMATE2013  \\\n0       162.0   32.0     0.0  9700.0  Carson City  Nevada          53989.0   \n1        50.0   32.0   510.0     0.0  Carson City  Nevada          53989.0   \n2       157.0   32.0   510.0  9700.0  Carson City  Nevada          53989.0   \n3       162.0   32.0     0.0  9700.0  Carson City  Nevada          53989.0   \n4        50.0   32.0   510.0     0.0  Carson City  Nevada          53989.0   \n...       ...    ...     ...     ...          ...     ...              ...   \n42771     NaN    NaN     NaN     NaN      Klawock  Alaska              NaN   \n42772     NaN    NaN     NaN     NaN   Metlakatla  Alaska              NaN   \n42773     NaN    NaN     NaN     NaN  Point Baker  Alaska              NaN   \n42774     NaN    NaN     NaN     NaN    Ward Cove  Alaska              NaN   \n42775     NaN    NaN     NaN     NaN     Wrangell  Alaska              NaN   \n\n       POPESTIMATE2014  POPESTIMATE2015  POPESTIMATE2016   latitude  \\\n0              54385.0          54405.0          54742.0  39.154485   \n1              54385.0          54405.0          54742.0  39.154485   \n2              54385.0          54405.0          54742.0  39.154485   \n3              54385.0          54405.0          54742.0  39.135503   \n4              54385.0          54405.0          54742.0  39.135503   \n...                ...              ...              ...        ...   \n42771              NaN              NaN              NaN  55.554393   \n42772              NaN              NaN              NaN  55.094325   \n42773              NaN              NaN              NaN  55.517921   \n42774              NaN              NaN              NaN  55.395359   \n42775              NaN              NaN              NaN  56.449893   \n\n        longitude                  county  \n0     -119.730740             Carson City  \n1     -119.730740             Carson City  \n2     -119.730740             Carson City  \n3     -119.758750             Carson City  \n4     -119.758750             Carson City  \n...           ...                     ...  \n42771 -133.090680  Prince Wales Ketchikan  \n42772 -131.566827  Prince Wales Ketchikan  \n42773 -132.003244  Prince Wales Ketchikan  \n42774 -131.675370       Ketchikan Gateway  \n42775 -132.364407     Wrangell Petersburg  \n\n[42776 rows x 13 columns]"
     },
     "execution_count": 25,
     "metadata": {},
     "output_type": "execute_result"
    }
   ],
   "source": [
    "cities_and_counties = pd.merge(cities_pop, county_cities,  on=['city', 'state'], how=\"right\")\n",
    "cities_and_counties"
   ]
  },
  {
   "cell_type": "code",
   "execution_count": 26,
   "metadata": {},
   "outputs": [
    {
     "data": {
      "text/html": "<div>\n<style scoped>\n    .dataframe tbody tr th:only-of-type {\n        vertical-align: middle;\n    }\n\n    .dataframe tbody tr th {\n        vertical-align: top;\n    }\n\n    .dataframe thead th {\n        text-align: right;\n    }\n</style>\n<table border=\"1\" class=\"dataframe\">\n  <thead>\n    <tr style=\"text-align: right;\">\n      <th></th>\n      <th>SUMLEV</th>\n      <th>STATE</th>\n      <th>COUNTY</th>\n      <th>PLACE</th>\n      <th>city</th>\n      <th>state</th>\n      <th>POPESTIMATE2013</th>\n      <th>POPESTIMATE2014</th>\n      <th>POPESTIMATE2015</th>\n      <th>POPESTIMATE2016</th>\n      <th>latitude</th>\n      <th>longitude</th>\n      <th>county</th>\n    </tr>\n  </thead>\n  <tbody>\n    <tr>\n      <th>212</th>\n      <td>NaN</td>\n      <td>NaN</td>\n      <td>NaN</td>\n      <td>NaN</td>\n      <td>Holtsville</td>\n      <td>New York</td>\n      <td>NaN</td>\n      <td>NaN</td>\n      <td>NaN</td>\n      <td>NaN</td>\n      <td>40.922326</td>\n      <td>-72.637078</td>\n      <td>Suffolk</td>\n    </tr>\n    <tr>\n      <th>213</th>\n      <td>NaN</td>\n      <td>NaN</td>\n      <td>NaN</td>\n      <td>NaN</td>\n      <td>Holtsville</td>\n      <td>New York</td>\n      <td>NaN</td>\n      <td>NaN</td>\n      <td>NaN</td>\n      <td>NaN</td>\n      <td>40.922326</td>\n      <td>-72.637078</td>\n      <td>Suffolk</td>\n    </tr>\n    <tr>\n      <th>214</th>\n      <td>NaN</td>\n      <td>NaN</td>\n      <td>NaN</td>\n      <td>NaN</td>\n      <td>Holtsville</td>\n      <td>New York</td>\n      <td>NaN</td>\n      <td>NaN</td>\n      <td>NaN</td>\n      <td>NaN</td>\n      <td>40.798994</td>\n      <td>-73.048985</td>\n      <td>Suffolk</td>\n    </tr>\n    <tr>\n      <th>215</th>\n      <td>NaN</td>\n      <td>NaN</td>\n      <td>NaN</td>\n      <td>NaN</td>\n      <td>Adjuntas</td>\n      <td>Puerto Rico</td>\n      <td>NaN</td>\n      <td>NaN</td>\n      <td>NaN</td>\n      <td>NaN</td>\n      <td>18.165273</td>\n      <td>-66.722583</td>\n      <td>Adjuntas</td>\n    </tr>\n    <tr>\n      <th>216</th>\n      <td>NaN</td>\n      <td>NaN</td>\n      <td>NaN</td>\n      <td>NaN</td>\n      <td>Aguada</td>\n      <td>Puerto Rico</td>\n      <td>NaN</td>\n      <td>NaN</td>\n      <td>NaN</td>\n      <td>NaN</td>\n      <td>18.393103</td>\n      <td>-67.180953</td>\n      <td>Aguada</td>\n    </tr>\n    <tr>\n      <th>...</th>\n      <td>...</td>\n      <td>...</td>\n      <td>...</td>\n      <td>...</td>\n      <td>...</td>\n      <td>...</td>\n      <td>...</td>\n      <td>...</td>\n      <td>...</td>\n      <td>...</td>\n      <td>...</td>\n      <td>...</td>\n      <td>...</td>\n    </tr>\n    <tr>\n      <th>42771</th>\n      <td>NaN</td>\n      <td>NaN</td>\n      <td>NaN</td>\n      <td>NaN</td>\n      <td>Klawock</td>\n      <td>Alaska</td>\n      <td>NaN</td>\n      <td>NaN</td>\n      <td>NaN</td>\n      <td>NaN</td>\n      <td>55.554393</td>\n      <td>-133.090680</td>\n      <td>Prince Wales Ketchikan</td>\n    </tr>\n    <tr>\n      <th>42772</th>\n      <td>NaN</td>\n      <td>NaN</td>\n      <td>NaN</td>\n      <td>NaN</td>\n      <td>Metlakatla</td>\n      <td>Alaska</td>\n      <td>NaN</td>\n      <td>NaN</td>\n      <td>NaN</td>\n      <td>NaN</td>\n      <td>55.094325</td>\n      <td>-131.566827</td>\n      <td>Prince Wales Ketchikan</td>\n    </tr>\n    <tr>\n      <th>42773</th>\n      <td>NaN</td>\n      <td>NaN</td>\n      <td>NaN</td>\n      <td>NaN</td>\n      <td>Point Baker</td>\n      <td>Alaska</td>\n      <td>NaN</td>\n      <td>NaN</td>\n      <td>NaN</td>\n      <td>NaN</td>\n      <td>55.517921</td>\n      <td>-132.003244</td>\n      <td>Prince Wales Ketchikan</td>\n    </tr>\n    <tr>\n      <th>42774</th>\n      <td>NaN</td>\n      <td>NaN</td>\n      <td>NaN</td>\n      <td>NaN</td>\n      <td>Ward Cove</td>\n      <td>Alaska</td>\n      <td>NaN</td>\n      <td>NaN</td>\n      <td>NaN</td>\n      <td>NaN</td>\n      <td>55.395359</td>\n      <td>-131.675370</td>\n      <td>Ketchikan Gateway</td>\n    </tr>\n    <tr>\n      <th>42775</th>\n      <td>NaN</td>\n      <td>NaN</td>\n      <td>NaN</td>\n      <td>NaN</td>\n      <td>Wrangell</td>\n      <td>Alaska</td>\n      <td>NaN</td>\n      <td>NaN</td>\n      <td>NaN</td>\n      <td>NaN</td>\n      <td>56.449893</td>\n      <td>-132.364407</td>\n      <td>Wrangell Petersburg</td>\n    </tr>\n  </tbody>\n</table>\n<p>42564 rows × 13 columns</p>\n</div>",
      "text/plain": "       SUMLEV  STATE  COUNTY  PLACE         city        state  \\\n212       NaN    NaN     NaN    NaN   Holtsville     New York   \n213       NaN    NaN     NaN    NaN   Holtsville     New York   \n214       NaN    NaN     NaN    NaN   Holtsville     New York   \n215       NaN    NaN     NaN    NaN     Adjuntas  Puerto Rico   \n216       NaN    NaN     NaN    NaN       Aguada  Puerto Rico   \n...       ...    ...     ...    ...          ...          ...   \n42771     NaN    NaN     NaN    NaN      Klawock       Alaska   \n42772     NaN    NaN     NaN    NaN   Metlakatla       Alaska   \n42773     NaN    NaN     NaN    NaN  Point Baker       Alaska   \n42774     NaN    NaN     NaN    NaN    Ward Cove       Alaska   \n42775     NaN    NaN     NaN    NaN     Wrangell       Alaska   \n\n       POPESTIMATE2013  POPESTIMATE2014  POPESTIMATE2015  POPESTIMATE2016  \\\n212                NaN              NaN              NaN              NaN   \n213                NaN              NaN              NaN              NaN   \n214                NaN              NaN              NaN              NaN   \n215                NaN              NaN              NaN              NaN   \n216                NaN              NaN              NaN              NaN   \n...                ...              ...              ...              ...   \n42771              NaN              NaN              NaN              NaN   \n42772              NaN              NaN              NaN              NaN   \n42773              NaN              NaN              NaN              NaN   \n42774              NaN              NaN              NaN              NaN   \n42775              NaN              NaN              NaN              NaN   \n\n        latitude   longitude                  county  \n212    40.922326  -72.637078                 Suffolk  \n213    40.922326  -72.637078                 Suffolk  \n214    40.798994  -73.048985                 Suffolk  \n215    18.165273  -66.722583                Adjuntas  \n216    18.393103  -67.180953                  Aguada  \n...          ...         ...                     ...  \n42771  55.554393 -133.090680  Prince Wales Ketchikan  \n42772  55.094325 -131.566827  Prince Wales Ketchikan  \n42773  55.517921 -132.003244  Prince Wales Ketchikan  \n42774  55.395359 -131.675370       Ketchikan Gateway  \n42775  56.449893 -132.364407     Wrangell Petersburg  \n\n[42564 rows x 13 columns]"
     },
     "execution_count": 26,
     "metadata": {},
     "output_type": "execute_result"
    }
   ],
   "source": [
    "\n",
    "cities_and_counties\n",
    "\n",
    "missing = cities_and_counties[cities_and_counties['SUMLEV'].isna()]"
   ]
  },
  {
   "cell_type": "code",
   "execution_count": null,
   "metadata": {},
   "outputs": [],
   "source": []
  }
 ],
 "metadata": {
  "kernelspec": {
   "display_name": "Python 3.8.2 64-bit",
   "metadata": {
    "interpreter": {
     "hash": "aee8b7b246df8f9039afb4144a1f6fd8d2ca17a180786b69acc140d282b71a49"
    }
   },
   "name": "python3"
  },
  "language_info": {
   "codemirror_mode": {
    "name": "ipython",
    "version": 3
   },
   "file_extension": ".py",
   "mimetype": "text/x-python",
   "name": "python",
   "nbconvert_exporter": "python",
   "pygments_lexer": "ipython3",
   "version": "3.8.2"
  },
  "orig_nbformat": 2
 },
 "nbformat": 4,
 "nbformat_minor": 2
}